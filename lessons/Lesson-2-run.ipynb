{
 "cells": [
  {
   "cell_type": "markdown",
   "metadata": {
    "toc": true
   },
   "source": [
    "<h1>Table of Contents<span class=\"tocSkip\"></span></h1>\n",
    "<div class=\"toc\"><ul class=\"toc-item\"><li><span><a href=\"#Overview\" data-toc-modified-id=\"Overview-1\"><span class=\"toc-item-num\">1&nbsp;&nbsp;</span>Overview</a></span><ul class=\"toc-item\"><li><span><a href=\"#Software-and-conventions\" data-toc-modified-id=\"Software-and-conventions-1.1\"><span class=\"toc-item-num\">1.1&nbsp;&nbsp;</span>Software and conventions</a></span></li></ul></li><li><span><a href=\"#Constructing-a-simulation-with-a-prepared-domain\" data-toc-modified-id=\"Constructing-a-simulation-with-a-prepared-domain-2\"><span class=\"toc-item-num\">2&nbsp;&nbsp;</span>Constructing a simulation with a prepared domain</a></span></li><li><span><a href=\"#A-WRF-Hydro-model\" data-toc-modified-id=\"A-WRF-Hydro-model-3\"><span class=\"toc-item-num\">3&nbsp;&nbsp;</span>A WRF-Hydro model</a></span></li><li><span><a href=\"#A-WRF-Hydro-domain\" data-toc-modified-id=\"A-WRF-Hydro-domain-4\"><span class=\"toc-item-num\">4&nbsp;&nbsp;</span>A WRF-Hydro domain</a></span><ul class=\"toc-item\"><li><span><a href=\"#Orientation-to-the-example_case-directory\" data-toc-modified-id=\"Orientation-to-the-example_case-directory-4.1\"><span class=\"toc-item-num\">4.1&nbsp;&nbsp;</span>Orientation to the <em>example_case</em> directory</a></span></li><li><span><a href=\"#FORCING\" data-toc-modified-id=\"FORCING-4.2\"><span class=\"toc-item-num\">4.2&nbsp;&nbsp;</span>FORCING</a></span></li><li><span><a href=\"#The-Gridded-configuration-directory\" data-toc-modified-id=\"The-Gridded-configuration-directory-4.3\"><span class=\"toc-item-num\">4.3&nbsp;&nbsp;</span>The Gridded configuration directory</a></span></li><li><span><a href=\"#Namelists\" data-toc-modified-id=\"Namelists-4.4\"><span class=\"toc-item-num\">4.4&nbsp;&nbsp;</span>Namelists</a></span></li><li><span><a href=\"#Creating-a-simulation-directory\" data-toc-modified-id=\"Creating-a-simulation-directory-4.5\"><span class=\"toc-item-num\">4.5&nbsp;&nbsp;</span>Creating a simulation directory</a></span></li></ul></li><li><span><a href=\"#Running-WRF-Hydro-using-default-run-time-options\" data-toc-modified-id=\"Running-WRF-Hydro-using-default-run-time-options-5\"><span class=\"toc-item-num\">5&nbsp;&nbsp;</span>Running WRF-Hydro using default run-time options</a></span></li></ul></div>"
   ]
  },
  {
   "cell_type": "markdown",
   "metadata": {},
   "source": [
    "# Lesson 2 - Running WRF-Hydro\n",
    "## Overview\n",
    "In this lesson, we will cover the basics of constructing and running a WRF-Hydro simulation using a prepared domain for the 'Gridded' configuration. For a detailed description of model configurations see the [Technical Description](https://ral.ucar.edu/projects/wrf_hydro/technical-description-user-guide). \n",
    "\n",
    "### Software and conventions\n",
    "The easiest way to run these lessons is via the [wrfhydro/training](https://hub.docker.com/r/wrfhydro/training/) Docker container, which has all software dependencies and data pre-installed.\n",
    "\n",
    "For a complete description of the software environment used for this training please see [Getting started]().\n",
    "\n",
    "You may either execute commands by running each cell of this notebook. Alternatively, you may open a terminal in Jupyter Lab by selecting `New -> Terminal` in your `Home` tab of Jupyter Lab and input the commands manually if you prefer. You can also use your own terminal by logging into the container with the command `docker exec -it wrf-hydro-training bash`\n",
    "\n",
    "All paths used in this lesson assume that the lesson materials are located under your home directory in a folder named *wrf-hydro-training*. If your materials are located in another directory, you will not be able to run the commands in this notebook inside Jupyter and will need to type them manually in your terminal session. \n",
    "\n",
    "## Constructing a simulation with a prepared domain\n",
    "In this section we will describe the primary files needed to run a WRF-Hydro simulation. \n",
    "\n",
    "A WRF-Hydro simulation consists of two major functional elements, a *model* and a *domain*. Each of these major functional elements are comprised of many smaller functional elements and their respective files. Before we attempt to run a WRF-Hydro simulation, it is important to understand what comprises these elements and conceptualize how they interact.\n",
    "\n",
    "![fig1.png](lesson2_img/fig1.png)\n",
    "\n",
    "We will only cover basic descriptions of these elements in this lesson, for a detailed description see the [Technical Description](https://ral.ucar.edu/projects/wrf_hydro/technical-description-user-guide).\n",
    "\n",
    "## A WRF-Hydro model\n",
    "For the purposes of this lesson, we will conceptualize a *model* of being comprised of a compiled WRF-Hydro binary (see Lesson 1 of this tutorial) and requisite supporting files. **If you have not already completed lesson 1, please stop and do so now**\n",
    "\n",
    "In the most basic sense, a *model* consists of everything contained in the *trunk/NDHMS/Run* directory. These contents need to be associated with a *domain*, which then constitutes a simulation. This association is done primarily through specifications in the two namelist files *hydro.namelist* and *namelist.hrldas*. These namelist files contain file path specifications, simulation duration, and physics options, among other things. We will cover all of these options in more depth in Lessons 4 and 5.   \n",
    "\n",
    "## A WRF-Hydro Example Case\n",
    "### Orientation to the *example_case* directory\n",
    "This lesson will be using a prepared domain located in the *~/wrf-hydro-training/example_case* directory. The structure of this directory serves as a good example of how to organize your input files. If using another domain with this lesson, such as one you may have created in the *Geospatial processing* tutorial, it is **imperative** that the filenames and directory structure match those which are described below.\n",
    "\n",
    "If using an official WRF-Hydro training example case, there will be a study area map and a Readme.txt file that describes the geographic setting, the directory, and the files.\n",
    "\n",
    "First lets take a look at the *Study_Map.png*.\n",
    "![study_map.PNG](lesson2_img/study_map.png)"
   ]
  },
  {
   "cell_type": "markdown",
   "metadata": {},
   "source": [
    "Now, lets view the Readme.txt included with the domain for a brief description of the example case and its contents."
   ]
  },
  {
   "cell_type": "code",
   "execution_count": 1,
   "metadata": {
    "scrolled": true
   },
   "outputs": [
    {
     "name": "stdout",
     "output_type": "stream",
     "text": [
      "#Overview This test case includes prepared geospatial data and input files for a\n",
      "sample domain (region of interest) and prepared forcing data.  This domain is a small region (15km x 16km) encompassing the West Branch\n",
      "of the Croton River, NY, USA (USGS stream gage 0137462010) during  hurricane\n",
      "Irene, 2011-08-26 to 2011-09-02.  The simulation begins with a restart from a\n",
      "spinup period from 2010-10-01 to 2011-08-26. The forcing data\n",
      "prepared for this test case is North American Land Data Assimilation System\n",
      "(NLDAS) hourly data. There are 3 basic routing\n",
      "configurations included in the test case, National Water Model (NWM), Gridded,\n",
      "and NCAR Reach. See the WRF-Hydro V5 Technical Description located at\n",
      "https://ral.ucar.edu/projects/wrf_hydro for a more detailed description of model\n",
      "physics options, configurations, and input files. However, some non-standard\n",
      "files will be described below.\n",
      "\n",
      "For instructions on how to set up and run this test case see the Test Case User\n",
      "Guide available from https://ral.ucar.edu/projects/wrf_hydro/testcases\n",
      "\n",
      "#Directory contents Croton_NY: directory containing all input files for the\n",
      "Croton, NY example test case     \n",
      "\t|     \n",
      "\t-FORCING: Directory containing all NLDAS hrldas formatted hourly \n",
      "\tforcing data for the simulation period.\n",
      "\t-Gridded: Directory containing all files required for the gridded routing\n",
      "\tconfiguration with lakes included        \n",
      "\t\t|\n",
      "\t\t-DOMAIN: Directory containing all geospatial data and input files for\n",
      "\t\tthe Gridded routing option.\n",
      "\t\t-lake_shapes: directory containing shape files that define lakes       \n",
      "\t\t-RESTART: Directory containing model restart files for the Gridded \n",
      "\t\trouting option.       \n",
      "\t\t-referenceSim: Directory containing restart files and a hydrograph from\n",
      "\t\ta successful run for reference\n",
      "\t\t-hydro.namelist: Fortran namelist file for the hydro model.               \n",
      "\t\t-namelist.hrldas: Fortran namelist file for the Noah-MP land surface \n",
      "\t\tmodel.\n",
      "\t\t-croton_frxst_pts_csv.csv: .CSV formatted file of gage locations in \n",
      "\t\tlatitude/longitude coordinates (WGS84)  \n",
      "\t-Gridded_no_lakes: Directory containing all files required for the gridded routing\n",
      "\tconfiguration without lakes        \n",
      "\t\t|\n",
      "\t\t-DOMAIN: Directory containing all geospatial data and input files for\n",
      "\t\tthe Gridded routing option\n",
      "\t\t-RESTART: Directory containing model restart files for the Gridded \n",
      "\t\trouting option.       \n",
      "\t\t-referenceSim: Directory containing restart files and a hydrograph from\n",
      "\t\ta successful run for reference\n",
      "\t\t-hydro.namelist: Fortran namelist file for the hydro model.               \n",
      "\t\t-namelist.hrldas: Fortran namelist file for the Noah-MP land surface \n",
      "\t\tmodel.\n",
      "\t\t-croton_frxst_pts_csv.csv: .CSV formatted file of gage locations in \n",
      "\t\tlatitude/longitude coordinates (WGS84)  \n",
      "\t-NWM: Directory containing all files required for the National Water Model\n",
      "\t(NWM) routing configuration\n",
      "\t\t|\n",
      "\t\t-DOMAIN: Directory containing all geospatial data and input files for \n",
      "\t\tthe NWM routing option.         \n",
      "\t\t\t|          \n",
      "\t\t\t-RouteLink_nudgeEdit.nc: An edited route link file with one gage \n",
      "\t\t\tremoved from nudging   \n",
      "\t\t-RESTART: Directory containing model restart files for the NWM routing\n",
      "\t\toption.\n",
      "\t\t-referenceSim: Directory containing restart files and hydrograph from a\n",
      "\t\tsuccessful run for reference         \n",
      "\t\t-nudgingTimeSliceObs: Directory containing nudging \"time slice\" \n",
      "\t\tobservation files.        \n",
      "\t\t-hydro.namelist: Fortran namelist file for the hydro model.         \n",
      "\t\t-namelist.hrldas: Fortran namelist file for the Noah-MP land surface \n",
      "\t\tmodel.     \n",
      "\t-Reach: Directory containing all files required for NCAR reach routing\n",
      "\t\tconfiguration       \n",
      "\t\t|\n",
      "\t\t-DOMAIN: Directory containing all geospatial data and input files for\n",
      "\t\tthe NCAR reach routing option.\n",
      "\t\t-stream_network: directory containing files that define the stream\n",
      "\t\tnetwork.        \n",
      "\t\t-RESTART: Directory containing model restart files for the NCAR reach\n",
      "\t\trouting option.\n",
      "\t\t-referenceSim: Directory containing restart files and hydrograph from a\n",
      "\t\tsuccessful run for reference         \n",
      "\t\t-hydro.namelist: Fortran namelist file for the hydro model.\n",
      "\t\t-namelist.hrldas: Fortran namelist file for the Noah-MP land surface\n",
      "\t\tmodel.    \n",
      "\t-Supplemental: Directory containing supplemental files used to create the example \n",
      "\tcase, including forcing files used for spinup\n",
      "\t\t|\n",
      "\t\t-supplimental_forcing.tar.gz: Tar ball containing additional forcing \n",
      "\t\tdata for spinup\n",
      "\t\t-namelist.wps: Reduced namelist.wps used to create the geogrid file using\n",
      "\t\tthe WRF-Hydro geogrid Docker utilitiy. \n",
      "\t-USGS-Obs.csv: csv files containing USGS 15 minute streamflow data for\n",
      "\tgages in the domain. \n",
      "\t-study_map.PNG: Study area map\n",
      "\t-namelist_patches.json: json file used by wrfhydropy python package for\n",
      "\tnamelist parsing"
     ]
    }
   ],
   "source": [
    "%%bash\n",
    "cat ~/wrf-hydro-training/example_case/Readme.txt"
   ]
  },
  {
   "cell_type": "markdown",
   "metadata": {
    "deletable": false,
    "editable": false
   },
   "source": [
    "Now lets take a look at the actual directory"
   ]
  },
  {
   "cell_type": "code",
   "execution_count": 2,
   "metadata": {
    "scrolled": true
   },
   "outputs": [
    {
     "name": "stdout",
     "output_type": "stream",
     "text": [
      "\u001b[0m\u001b[01;34mFORCING\u001b[0m/  \u001b[01;34mGridded_no_lakes\u001b[0m/  \u001b[01;34mReach\u001b[0m/      USGS_obs.csv            \u001b[01;32mstudy_map.PNG\u001b[0m*\r\n",
      "\u001b[01;34mGridded\u001b[0m/  \u001b[01;34mNWM\u001b[0m/               Readme.txt  \u001b[01;32mnamelist_patches.json\u001b[0m*  \u001b[01;34msupplemental\u001b[0m/\r\n"
     ]
    }
   ],
   "source": [
    "ls ~/wrf-hydro-training/example_case"
   ]
  },
  {
   "cell_type": "markdown",
   "metadata": {},
   "source": [
    "In this example case we have created 3 routing configurations for WRF-Hydro, *National Water Model (NWM)*, *Gridded*, and *Reach*. For detailed descriptions of routing and physics configurations see the [Technical Description](https://ral.ucar.edu/projects/wrf_hydro/technical-description-user-guide). These three routing configurations have different geospatial data associated with them, and thus are represented by 3 separate directories in the `~/wrf-hydro-training/example_case` directory. Additionally, you will notice a fourth directory `Gridded_no_lakes`. When running the *Gridded* configuration, some modifications to the geospatial data are needed to remove lakes from the domain. Therefore, domain files for the *Gridded* configuration without lakes are located in a separate `gridded_no_lakes` directory. \n",
    "\n",
    "### FORCING\n",
    "This directory contains all the forcing data for our simulation, in this case 1 week of hourly NLDAS hrldas forcing data. Note that there is only 1 `FORCING` directory. The same forcing data can be used with all three routing configurations.\n",
    "\n",
    "### The Gridded configuration directory\n",
    "For this lesson, we will be running the *Gridded* configuration. Now we will explore the `~/wrf-hydro-training/example_case/Gridded` directory."
   ]
  },
  {
   "cell_type": "code",
   "execution_count": 3,
   "metadata": {},
   "outputs": [
    {
     "name": "stdout",
     "output_type": "stream",
     "text": [
      "\u001b[0m\u001b[01;34mDOMAIN\u001b[0m/   croton_frxst_pts_csv.csv  \u001b[01;32mnamelist.hrldas\u001b[0m*\r\n",
      "\u001b[01;34mRESTART\u001b[0m/  \u001b[01;32mhydro.namelist\u001b[0m*           \u001b[01;34mreferenceSim\u001b[0m/\r\n"
     ]
    }
   ],
   "source": [
    "ls ~/wrf-hydro-training/example_case/Gridded"
   ]
  },
  {
   "cell_type": "markdown",
   "metadata": {},
   "source": [
    "The contents of this directory are described briefly in the `Readme.txt` file that we viewed earlier, but we will discuss them again here. \n",
    "\n",
    "For a more detailed description of these files beyond what will be described below, see the [Technical Description](https://ral.ucar.edu/projects/wrf_hydro/technical-description-user-guide)\n",
    "\n",
    "**DOMAIN**: Directory containing all geospatial data and input files for\n",
    "the Gridded routing option with lakes included"
   ]
  },
  {
   "cell_type": "code",
   "execution_count": 4,
   "metadata": {},
   "outputs": [
    {
     "name": "stdout",
     "output_type": "stream",
     "text": [
      "\u001b[0m\u001b[01;32mFulldom_hires.nc\u001b[0m*                     \u001b[01;32mLAKEPARM.nc\u001b[0m*    \u001b[01;32msoil_properties.nc\u001b[0m*\r\n",
      "\u001b[01;32mGEOGRID_LDASOUT_Spatial_Metadata.nc\u001b[0m*  geo_em.d01.nc   \u001b[01;32mwrfinput_d01.nc\u001b[0m*\r\n",
      "\u001b[01;32mGWBASINS.nc\u001b[0m*                          \u001b[01;32mhydro2dtbl.nc\u001b[0m*\r\n",
      "\u001b[01;32mGWBUCKPARM.nc\u001b[0m*                        \u001b[01;34mlake_shapes\u001b[0m/\r\n"
     ]
    }
   ],
   "source": [
    "ls ~/wrf-hydro-training/example_case/Gridded/DOMAIN"
   ]
  },
  {
   "cell_type": "markdown",
   "metadata": {
    "deletable": false,
    "editable": false
   },
   "source": [
    "| Filename | Description | Source | Required |\n",
    "| ------------- | ------------- | ------------- | ------------- |\n",
    "| Fulldom_hires.nc | High resolution full domain file. Includes all fields specified on the routing grid. | WRF-Hydro GIS pre-processing toolkit | Yes |\n",
    "| GWBASINS.nc | 2D file defining the locations of groundwater basins on a grid | WRF-Hydro GIS pre-processing toolkit | When the baseflow bucket model is turned on and user defined mapping is off |\n",
    "| GWBUCKPARM.nc | Groundwater parameter table containing bucket model parameters for each basin | WRF-Hydro GIS pre-processing toolkit | When the baseflow bucket model is turned on |\n",
    "| LAKEPARM.nc | Lake parameter table containing lake model parameters for each catchment | WRF-Hydro GIS pre-processing toolkit | When lake and reservoir routing is turned on |\n",
    "| hydro2dtbl.nc | Spatially distributed parameter table for lateral flow routing within WRF-Hydro. | create_SoilProperties.R script (will also be automatically generated by WRF-Hydro) | When using spatially distributed terrain routing parameters |\n",
    "| geo_em_d01.nc | The data required to define the domain and geospatial attributes of a spatially-distributed, or gridded, 1-dimensional (vertical) land surface model (LSM) | GEOGRID utility in the WRF preprocessing system (WPS) | Yes |\n",
    "| wrfinput_d01.nc | file including all necessary fields for the Noah-MP land surface model, but with spatially uniform initial conditions. Users should be aware that the model will likely require additional spin-up time when initialized from this file. | create_Wrfinput.R script | Yes |\n",
    "| soil_properties.nc | Spatially distributed land surface model parameters | create_SoilProperties.R script | If SPATIAL_SOIL compile-time option set to 1 |\n",
    "| GEOGRID_LDASOUT_Spatial_Metadata.nc | projection and coordinate information for the land surface model grid. | WRF-Hydro GIS pre-processing toolkit | NO, but allows for CF compliant outputs |\n",
    "| lake_shapes/ | supplimental shape files that define lakes | arcGIS | NO |\n",
    "\n"
   ]
  },
  {
   "cell_type": "markdown",
   "metadata": {},
   "source": [
    "**RESTART**: Directory containing model restart files."
   ]
  },
  {
   "cell_type": "code",
   "execution_count": 5,
   "metadata": {
    "scrolled": true
   },
   "outputs": [
    {
     "name": "stdout",
     "output_type": "stream",
     "text": [
      "HYDRO_RST.2011-08-26_00_00_DOMAIN1  RESTART.2011082600_DOMAIN1\r\n"
     ]
    }
   ],
   "source": [
    "ls ~/wrf-hydro-training/example_case/Gridded/RESTART"
   ]
  },
  {
   "cell_type": "markdown",
   "metadata": {},
   "source": [
    "Restart files are an essential part of the WRF-Hydro modeling system. They are output on a fixed timestep specified by the user in the `namelist.hrldas` and `hydro.namelist` files, and represent a complete 'snapshot' of the model state at that time. These files can be used to restart a WRF-Hydro simulation from where the previous simulation terminated with all the model states intact.\n",
    "\n",
    "When running a WRF-Hydro simulation, you may start your simulation with prescribed initial conditions, referred to as a 'cold start'. When starting from a cold start, a model spinup period is needed to move the model state away from the prescribed initial conditions to a more realistic, physically-based model state. Model output from the spinup period is generally not used for interpretation as the results are biased by the prescribed initial conditions. \n",
    "\n",
    "Restart files output at the end of the spinup period can be used as the initial conditions for subsequent simulations, referred to as a 'warm start'. Simulations that start from a 'warm start' are generally the primary target for interpretation."
   ]
  },
  {
   "cell_type": "markdown",
   "metadata": {},
   "source": [
    "### Namelists\n",
    "Namelists are another key component of the WRF-Hydro modeling system and are the primary means of specifying inputs, outputs, and run-time options. There are two namelist files used by WRF-Hydro: `hydro.namelist` for the routing and hydrologic model and `namelist.hrldas` for the land-surface model. **NOTE: These filenames are hard-coded into the model and can not be changed.**\n",
    "\n",
    "For all official WRF-Hydro example test cases, namelists will be included with each of the three routing configurations. This is done so that a user can easily run each configuration with minimal setup, and they serve as a starting point for users to specify their own namelists for a given configuration. However, namelists files are typically not considered part of the *model* or the *domain* but rather serve to join a model to a domain and parameterize a *simulation*. In other words, the namelists construct a *simulation* from a *model* and a *domain*. \n",
    "\n",
    "There are different namelists for each configuration because certain namelist options are specific to the domain and routing method used. We will cover the various namelist options in detail in lesson 4, but for now we will simply view the namelist and use the default namelist provided with the Gridded configuration to construct our simulation.  \n",
    "\n",
    "Take a moment and read through the two namelists below and note how all filepaths are relative to the current directory containing the namelist. This is the recommended way of specifying filepaths."
   ]
  },
  {
   "cell_type": "code",
   "execution_count": 6,
   "metadata": {
    "scrolled": true
   },
   "outputs": [
    {
     "name": "stdout",
     "output_type": "stream",
     "text": [
      "&HYDRO_nlist\n",
      "!!!! ---------------------- SYSTEM COUPLING ----------------------- !!!!\n",
      "\n",
      "! Specify what is being coupled:  1=HRLDAS (offline Noah-LSM), 2=WRF, 3=NASA/LIS, 4=CLM\n",
      "sys_cpl = 1\n",
      "\n",
      "!!!! ------------------- MODEL INPUT DATA FILES ------------------- !!!!\n",
      "\n",
      "! Specify land surface model gridded input data file (e.g.: \"geo_em.d03.nc\")\n",
      "GEO_STATIC_FLNM = \"./DOMAIN/geo_em.d01.nc\"\n",
      "\n",
      "! Specify the high-resolution routing terrain input data file (e.g.: \"Fulldom_hires.nc\")\n",
      "GEO_FINEGRID_FLNM = \"./DOMAIN/Fulldom_hires.nc\"\n",
      "\n",
      "! Specify the spatial hydro parameters file (e.g.: \"hydro2dtbl.nc\")\n",
      "! If you specify a filename and the file does not exist, it will be created for you.\n",
      "HYDROTBL_F = \"./DOMAIN/hydro2dtbl.nc\"\n",
      "\n",
      "! Specify spatial metadata file for land surface grid. (e.g.: \"GEOGRID_LDASOUT_Spatial_Metadata.nc\")\n",
      "LAND_SPATIAL_META_FLNM = \"./DOMAIN/GEOGRID_LDASOUT_Spatial_Metadata.nc\"\n",
      "\n",
      "! Specify the name of the restart file if starting from restart...comment out with '!' if not...\n",
      "RESTART_FILE  = 'RESTART/HYDRO_RST.2011-08-26_00_00_DOMAIN1'\n",
      "\n",
      "!!!! --------------------- MODEL SETUP OPTIONS -------------------- !!!!\n",
      "\n",
      "! Specify the domain or nest number identifier...(integer)\n",
      "IGRID = 1\n",
      "\n",
      "! Specify the restart file write frequency...(minutes)\n",
      "! A value of -99999 will output restarts on the first day of the month only.\n",
      "rst_dt = 1440\n",
      "\n",
      "! Reset the LSM soil states from the high-res routing restart file (1=overwrite, 0=no overwrite)\n",
      "! NOTE: Only turn this option on if overland or subsurface rotuing is active!\n",
      "rst_typ = 1\n",
      "\n",
      "! Restart file format control\n",
      "rst_bi_in = 0       !0: use netcdf input restart file (default)\n",
      "                    !1: use parallel io for reading multiple restart files, 1 per core\n",
      "rst_bi_out = 0      !0: use netcdf output restart file (default)\n",
      "                    !1: use parallel io for outputting multiple restart files, 1 per core\n",
      "\n",
      "! Restart switch to set restart accumulation variables to 0 (0=no reset, 1=yes reset to 0.0)\n",
      "RSTRT_SWC = 0\n",
      "\n",
      "! Specify baseflow/bucket model initialization...(0=cold start from table, 1=restart file)\n",
      "GW_RESTART = 1\n",
      "\n",
      "!!!! -------------------- MODEL OUTPUT CONTROL -------------------- !!!!\n",
      "\n",
      "! Specify the output file write frequency...(minutes)\n",
      "out_dt = 60\n",
      "\n",
      "! Specify the number of output times to be contained within each output history file...(integer)\n",
      "!   SET = 1 WHEN RUNNING CHANNEL ROUTING ONLY/CALIBRATION SIMS!!!\n",
      "!   SET = 1 WHEN RUNNING COUPLED TO WRF!!!\n",
      "SPLIT_OUTPUT_COUNT = 1\n",
      "\n",
      "! Specify the minimum stream order to output to netcdf point file...(integer)\n",
      "! Note: lower value of stream order produces more output.\n",
      "order_to_write = 1\n",
      "\n",
      "! Flag to turn on/off new I/O routines: 1 = with scale/offset/compression,\n",
      "! 2 = with scale/offset/NO compression, 3 = compression only, 4 = no scale/offset/compression (default)\n",
      "io_form_outputs = 4\n",
      "\n",
      "! Realtime run configuration option:\n",
      "! 0=all (default), 1=analysis, 2=short-range, 3=medium-range, 4=long-range, 5=retrospective,\n",
      "! 6=diagnostic (includes all of 1-4 outputs combined)\n",
      "io_config_outputs = 5\n",
      "\n",
      "! Option to write output files at time 0 (restart cold start time): 0=no, 1=yes (default)\n",
      "t0OutputFlag = 1\n",
      "\n",
      "! Options to output channel & bucket influxes. Only active for UDMP_OPT=1.\n",
      "! Nonzero choice requires that out_dt above matches NOAH_TIMESTEP in namelist.hrldas.\n",
      "! 0=None (default), 1=channel influxes (qSfcLatRunoff, qBucket)\n",
      "! 2=channel+bucket fluxes    (qSfcLatRunoff, qBucket, qBtmVertRunoff_toBucket)\n",
      "! 3=channel accumulations    (accSfcLatRunoff, accBucket) *** NOT TESTED ***\n",
      "output_channelBucket_influx = 2\n",
      "\n",
      "! Output netcdf file control\n",
      "CHRTOUT_DOMAIN = 1           ! Netcdf point timeseries output at all channel points (1d)\n",
      "                             !      0 = no output, 1 = output\n",
      "CHANOBS_DOMAIN = 1           ! Netcdf point timeseries at forecast points or gage points (defined in Routelink)\n",
      "                             !      0 = no output, 1 = output at forecast points or gage points.\n",
      "CHRTOUT_GRID = 1             ! Netcdf grid of channel streamflow values (2d)\n",
      "                             !      0 = no output, 1 = output\n",
      "                             !      NOTE: Not available with reach-based routing\n",
      "LSMOUT_DOMAIN = 1            ! Netcdf grid of variables passed between LSM and routing components (2d)\n",
      "                             !      0 = no output, 1 = output\n",
      "                             !      NOTE: No scale_factor/add_offset available\n",
      "RTOUT_DOMAIN = 1             ! Netcdf grid of terrain routing variables on routing grid (2d)\n",
      "                             !      0 = no output, 1 = output\n",
      "output_gw = 1                ! Netcdf GW output\n",
      "                             !      0 = no output, 1 = output\n",
      "outlake  = 1                 ! Netcdf grid of lake values (1d)\n",
      "                             !      0 = no output, 1 = output\n",
      "frxst_pts_out = 0            ! ASCII text file of forecast points or gage points (defined in Routelink)\n",
      "                             !      0 = no output, 1 = output\n",
      "\n",
      "!!!! ------------ PHYSICS OPTIONS AND RELATED SETTINGS ------------ !!!!\n",
      "\n",
      "! Specify the number of soil layers (integer) and the depth of the bottom of each layer... (meters)\n",
      "! Notes: In Version 1 of WRF-Hydro these must be the same as in the namelist.input file.\n",
      "!      Future versions will permit this to be different.\n",
      "NSOIL=4\n",
      "ZSOIL8(1) = -0.10\n",
      "ZSOIL8(2) = -0.40\n",
      "ZSOIL8(3) = -1.00\n",
      "ZSOIL8(4) = -2.00\n",
      "\n",
      "! Specify the grid spacing of the terrain routing grid...(meters)\n",
      "DXRT = 250.0\n",
      "\n",
      "! Specify the integer multiple between the land model grid and the terrain routing grid...(integer)\n",
      "AGGFACTRT = 4\n",
      "\n",
      "! Specify the channel routing model timestep...(seconds)\n",
      "DTRT_CH = 10\n",
      "! Specify the terrain routing model timestep...(seconds)\n",
      "DTRT_TER = 10\n",
      "\n",
      "! Switch to activate subsurface routing...(0=no, 1=yes)\n",
      "SUBRTSWCRT = 1\n",
      "\n",
      "! Switch to activate surface overland flow routing...(0=no, 1=yes)\n",
      "OVRTSWCRT = 1\n",
      "\n",
      "! Specify overland flow routing option: 1=Steepest Descent (D8) 2=CASC2D (not active)\n",
      "! NOTE: Currently subsurface flow is only steepest descent\n",
      "rt_option = 1\n",
      "\n",
      "! Switch to activate channel routing...(0=no, 1=yes)\n",
      "CHANRTSWCRT = 1\n",
      "! Specify channel routing option: 1=Muskingam-reach, 2=Musk.-Cunge-reach, 3=Diff.Wave-gridded\n",
      "channel_option = 3\n",
      "\n",
      "! Specify the reach file for reach-based routing options (e.g.: \"Route_Link.nc\")\n",
      "route_link_f = \"\"\n",
      "\n",
      "! Specify the lake parameter file (e.g.: \"LAKEPARM.nc\" for netcdf or \"LAKEPARM.TBL\" for text).\n",
      "! Note REQUIRED if lakes are on.\n",
      "route_lake_f = \"./DOMAIN/LAKEPARM.nc\"\n",
      "\n",
      "! Switch to activate baseflow bucket model...(0=none, 1=exp. bucket, 2=pass-through)\n",
      "GWBASESWCRT = 1\n",
      "\n",
      "! Groundwater/baseflow 2d mask specified on land surface model grid (e.g.: \"GWBASINS.nc\" for netcdf\n",
      "! or \"gw_basns.txt\" for ascii). Note: Only required if baseflow  model is active (1 or 2) and UDMP_OPT=0.\n",
      "gwbasmskfil = \"./DOMAIN/GWBASINS.nc\"\n",
      "\n",
      "! Groundwater bucket parameter file (e.g.: \"GWBUCKPARM.nc\" for netcdf or \"GWBUCKPARM.TBL\" for text)\n",
      "GWBUCKPARM_file = \"./DOMAIN/GWBUCKPARM.nc\"\n",
      "\n",
      "! User defined mapping, such NHDPlus: 0=no (default), 1=yes\n",
      "UDMP_OPT = 0\n",
      "! If on, specify the user-defined mapping file (e.g.: \"spatialweights.nc\")\n",
      "udmap_file = \"\"\n",
      "\n",
      "/\n",
      "\n",
      "&NUDGING_nlist\n",
      "\n",
      "\n",
      "/\n"
     ]
    }
   ],
   "source": [
    "%%bash\n",
    "cat ~/wrf-hydro-training/example_case/Gridded/hydro.namelist"
   ]
  },
  {
   "cell_type": "code",
   "execution_count": 7,
   "metadata": {},
   "outputs": [
    {
     "name": "stdout",
     "output_type": "stream",
     "text": [
      "&NOAHLSM_OFFLINE\n",
      "\n",
      "HRLDAS_SETUP_FILE = \"./DOMAIN/wrfinput_d01.nc\"\n",
      "INDIR = \"./FORCING\"\n",
      "SPATIAL_FILENAME = \"./DOMAIN/soil_properties.nc\"\n",
      "OUTDIR = \"./\"\n",
      "\n",
      "START_YEAR  = 2011\n",
      "START_MONTH = 08\n",
      "START_DAY   = 26\n",
      "START_HOUR  = 00\n",
      "START_MIN   = 00\n",
      "\n",
      "RESTART_FILENAME_REQUESTED = \"RESTART/RESTART.2011082600_DOMAIN1\"\n",
      "\n",
      "KDAY = 7\n",
      "! KHOUR = 8\n",
      "\n",
      "DYNAMIC_VEG_OPTION                = 4\n",
      "CANOPY_STOMATAL_RESISTANCE_OPTION = 1\n",
      "BTR_OPTION                        = 1\n",
      "RUNOFF_OPTION                     = 3\n",
      "SURFACE_DRAG_OPTION               = 1\n",
      "FROZEN_SOIL_OPTION                = 1\n",
      "SUPERCOOLED_WATER_OPTION          = 1\n",
      "RADIATIVE_TRANSFER_OPTION         = 3\n",
      "SNOW_ALBEDO_OPTION                = 2\n",
      "PCP_PARTITION_OPTION              = 1\n",
      "TBOT_OPTION                       = 2\n",
      "TEMP_TIME_SCHEME_OPTION           = 3\n",
      "GLACIER_OPTION                    = 2\n",
      "SURFACE_RESISTANCE_OPTION         = 4\n",
      "\n",
      "FORCING_TIMESTEP = 3600\n",
      "NOAH_TIMESTEP    = 3600\n",
      "OUTPUT_TIMESTEP  = 3600\n",
      "\n",
      "RESTART_FREQUENCY_HOURS = 24 \n",
      "\n",
      "! Split output after split_output_count output times.\n",
      "SPLIT_OUTPUT_COUNT = 1\n",
      "\n",
      "! XSTART = 1\n",
      "! XEND   = 1\n",
      "! YSTART = 1\n",
      "! YEND   = 1\n",
      "\n",
      "NSOIL=4\n",
      "soil_thick_input(1) = 0.10\n",
      "soil_thick_input(2) = 0.30\n",
      "soil_thick_input(3) = 0.60\n",
      "soil_thick_input(4) = 1.00\n",
      "\n",
      "ZLVL = 10.0\n",
      "\n",
      "rst_bi_in = 0      !0: use netcdf input restart file\n",
      "                   !1: use parallel io for reading multiple restart files (1 per core)\n",
      "rst_bi_out = 0     !0: use netcdf output restart file\n",
      "                   !1: use parallel io for outputting multiple restart files (1 per core)\n",
      "\n",
      "/\n",
      "\n",
      "&WRF_HYDRO_OFFLINE\n",
      "\n",
      "! Specification of forcing data:  1=HRLDAS-hr format, 2=HRLDAS-min format, 3=WRF, \n",
      "!    4=Idealized, 5=Ideal w/ Spec.Precip., 6=HRLDAS-hrl y fomat w/ Spec. Precip, \n",
      "FORC_TYP = 1\n",
      "\n",
      "/\n"
     ]
    }
   ],
   "source": [
    "%%bash\n",
    "cat ~/wrf-hydro-training/example_case/Gridded/namelist.hrldas"
   ]
  },
  {
   "cell_type": "markdown",
   "metadata": {},
   "source": [
    "### Creating a simulation directory \n",
    "Now that we have covered the major functional elements that constitute a simulation, we will combine these elements and construct a simulation. This is done by placing the `FORCING`, `Gridded/DOMAIN`, `trunk/NDHMS/Run` directories and `namelist.hrldas` and `hydro.namelist` files together in a directory that will be our simulation directory. However, to save disk space it is often preferable to create symbolic links rather than copying the actual files. **NOTE: We will only use symbolic links with files that we will NOT be editing**    \n",
    "\n",
    "![fig2.png](lesson2_img/fig2.png)\n",
    "\n",
    "In the following steps, we will construct our simulation directory.\n",
    "\n",
    "**Step 1. Create simulation directory**\n",
    "\n",
    "We will create a directory for our simulation"
   ]
  },
  {
   "cell_type": "code",
   "execution_count": 8,
   "metadata": {
    "scrolled": true
   },
   "outputs": [
    {
     "name": "stdout",
     "output_type": "stream",
     "text": [
      "run_gridded_default\n"
     ]
    }
   ],
   "source": [
    "%%bash\n",
    "mkdir -p ~/wrf-hydro-training/output/lesson2/run_gridded_default\n",
    "ls ~/wrf-hydro-training/output/lesson2/"
   ]
  },
  {
   "cell_type": "markdown",
   "metadata": {},
   "source": [
    "**Step 2. Copy *model* files**\n",
    "\n",
    "We will copy the required *model* files from the `~/wrf-hydro-training/wrf_hydro_nwm_public/trunk/NDHMS/Run` directory. These files are small so we will make actual copies rather than symbolic links in this case. Additionally, copies are preferred in this case because a user may want to edit the \\*.TBL files and as stated previously symbolic links should only be used with files that we do not intend on editing."
   ]
  },
  {
   "cell_type": "code",
   "execution_count": 9,
   "metadata": {},
   "outputs": [
    {
     "name": "stdout",
     "output_type": "stream",
     "text": [
      "CHANPARM.TBL\n",
      "GENPARM.TBL\n",
      "HYDRO.TBL\n",
      "MPTABLE.TBL\n",
      "SOILPARM.TBL\n",
      "wrf_hydro.exe\n"
     ]
    }
   ],
   "source": [
    "%%bash\n",
    "cp ~/wrf-hydro-training/wrf_hydro_nwm_public/trunk/NDHMS/Run/*.TBL \\\n",
    "~/wrf-hydro-training/output/lesson2/run_gridded_default\n",
    "\n",
    "cp ~/wrf-hydro-training/wrf_hydro_nwm_public/trunk/NDHMS/Run/wrf_hydro.exe \\\n",
    "~/wrf-hydro-training/output/lesson2/run_gridded_default\n",
    "\n",
    "ls ~/wrf-hydro-training/output/lesson2/run_gridded_default"
   ]
  },
  {
   "cell_type": "markdown",
   "metadata": {},
   "source": [
    "**Step 3. Symlink to *DOMAIN* files**\n",
    "\n",
    "We will create symbolic links to the required *domain* files from the `~/wrf-hydro-training/DOMAIN/Gridded` directory. These files can be large so we will make symbolic links rather than copying the actual files. **NOTE: Because we are using symbolic links, the paths MUST be absolute and can't use ~**. We can simply replace the `~` with the `$HOME` environment variable to make an absolute path."
   ]
  },
  {
   "cell_type": "code",
   "execution_count": 10,
   "metadata": {
    "scrolled": true
   },
   "outputs": [
    {
     "name": "stdout",
     "output_type": "stream",
     "text": [
      "CHANPARM.TBL\n",
      "DOMAIN\n",
      "FORCING\n",
      "GENPARM.TBL\n",
      "HYDRO.TBL\n",
      "MPTABLE.TBL\n",
      "RESTART\n",
      "SOILPARM.TBL\n",
      "wrf_hydro.exe\n"
     ]
    }
   ],
   "source": [
    "%%bash\n",
    "cp -as $HOME/wrf-hydro-training/example_case/FORCING \\\n",
    "~/wrf-hydro-training/output/lesson2/run_gridded_default\n",
    "\n",
    "cp -as $HOME/wrf-hydro-training/example_case/Gridded/DOMAIN \\\n",
    "~/wrf-hydro-training/output/lesson2/run_gridded_default\n",
    "\n",
    "cp -as $HOME/wrf-hydro-training/example_case/Gridded/RESTART \\\n",
    "~/wrf-hydro-training/output/lesson2/run_gridded_default\n",
    "\n",
    "ls ~/wrf-hydro-training/output/lesson2/run_gridded_default"
   ]
  },
  {
   "cell_type": "markdown",
   "metadata": {},
   "source": [
    "**Step 4. Copy *namelist* files**\n",
    "\n",
    "Because we are using the default prepared namelists from the example WRF-Hydro domain, we will copy those in as well. If you were using your own namelists, they would likely be edited and copied from elsewhere. These are small text files so we will make actual copies rather than symbolic links."
   ]
  },
  {
   "cell_type": "code",
   "execution_count": 11,
   "metadata": {},
   "outputs": [
    {
     "name": "stdout",
     "output_type": "stream",
     "text": [
      "CHANPARM.TBL\n",
      "DOMAIN\n",
      "FORCING\n",
      "GENPARM.TBL\n",
      "HYDRO.TBL\n",
      "MPTABLE.TBL\n",
      "RESTART\n",
      "SOILPARM.TBL\n",
      "hydro.namelist\n",
      "namelist.hrldas\n",
      "wrf_hydro.exe\n"
     ]
    }
   ],
   "source": [
    "%%bash\n",
    "cp ~/wrf-hydro-training/example_case/Gridded/namelist.hrldas \\\n",
    "~/wrf-hydro-training/output/lesson2/run_gridded_default\n",
    "\n",
    "cp ~/wrf-hydro-training/example_case/Gridded/hydro.namelist \\\n",
    "~/wrf-hydro-training/output/lesson2/run_gridded_default\n",
    "\n",
    "ls ~/wrf-hydro-training/output/lesson2/run_gridded_default"
   ]
  },
  {
   "cell_type": "markdown",
   "metadata": {
    "deletable": false,
    "editable": false
   },
   "source": [
    "We have now constructed our simulation directory with all the requisite files. In the next section we will run the simulation using mpi. "
   ]
  },
  {
   "cell_type": "markdown",
   "metadata": {},
   "source": [
    "## Running WRF-Hydro using default run-time options\n",
    "Now that we have constructed our simulation directory, we can run our simulation. For this we will be using the `mpi run` command, which has a number of arguments. For this simple case, we only need to supply one argument, the number of cores. This is done with the `-np` argument, and we will set it to 4 cores. \n",
    "\n",
    "We will pipe the output to a log file because running a simulation can generate a lot of standard output in the terminal."
   ]
  },
  {
   "cell_type": "code",
   "execution_count": 12,
   "metadata": {},
   "outputs": [],
   "source": [
    "%%bash\n",
    "cd ~/wrf-hydro-training/output/lesson2/run_gridded_default\n",
    "mpirun -np 4 ./wrf_hydro.exe >> run.log 2>&1"
   ]
  },
  {
   "cell_type": "markdown",
   "metadata": {},
   "source": [
    "If your simulation ran successfully, there should now be a large number of output files in the `~/wrf-hydro-training/output/lesson2/run_gridded_default`. We will describe these output files in more depth in Lesson 4. Additionally, detailed descriptions of the output files can be found in the [Technical Description](https://ral.ucar.edu/projects/wrf_hydro/technical-description-user-guide). \n",
    "\n",
    "List the contents of the `~/mount/wrf-hydro-training/output/lesson2/run_gridded_default` directory."
   ]
  },
  {
   "cell_type": "code",
   "execution_count": 13,
   "metadata": {
    "scrolled": false
   },
   "outputs": [
    {
     "name": "stdout",
     "output_type": "stream",
     "text": [
      "201109012300.LAKEOUT_DOMAIN1\r\n",
      "201109012300.LDASOUT_DOMAIN1\r\n",
      "201109012300.LSMOUT_DOMAIN\r\n",
      "201109020000.CHANOBS_DOMAIN1\r\n",
      "201109020000.CHRTOUT_DOMAIN1\r\n",
      "201109020000.CHRTOUT_GRID1\r\n",
      "201109020000.GWOUT_DOMAIN1\r\n",
      "201109020000.LAKEOUT_DOMAIN1\r\n",
      "201109020000.LDASOUT_DOMAIN1\r\n",
      "201109020000.LSMOUT_DOMAIN\r\n",
      "CHANPARM.TBL\r\n",
      "\u001b[0m\u001b[01;34mDOMAIN\u001b[0m/\r\n",
      "\u001b[01;34mFORCING\u001b[0m/\r\n",
      "GENPARM.TBL\r\n",
      "HYDRO.TBL\r\n",
      "HYDRO_RST.2011-08-27_00:00_DOMAIN1\r\n",
      "HYDRO_RST.2011-08-28_00:00_DOMAIN1\r\n",
      "HYDRO_RST.2011-08-29_00:00_DOMAIN1\r\n",
      "HYDRO_RST.2011-08-30_00:00_DOMAIN1\r\n",
      "HYDRO_RST.2011-08-31_00:00_DOMAIN1\r\n",
      "HYDRO_RST.2011-09-01_00:00_DOMAIN1\r\n",
      "HYDRO_RST.2011-09-02_00:00_DOMAIN1\r\n",
      "MPTABLE.TBL\r\n",
      "\u001b[01;34mRESTART\u001b[0m/\r\n",
      "RESTART.2011082700_DOMAIN1\r\n",
      "RESTART.2011082800_DOMAIN1\r\n",
      "RESTART.2011082900_DOMAIN1\r\n",
      "RESTART.2011083000_DOMAIN1\r\n",
      "RESTART.2011083100_DOMAIN1\r\n",
      "RESTART.2011090100_DOMAIN1\r\n",
      "RESTART.2011090200_DOMAIN1\r\n",
      "SOILPARM.TBL\r\n",
      "diag_hydro.00000\r\n",
      "diag_hydro.00001\r\n",
      "diag_hydro.00002\r\n",
      "diag_hydro.00003\r\n",
      "\u001b[01;32mhydro.namelist\u001b[0m*\r\n",
      "\u001b[01;32mnamelist.hrldas\u001b[0m*\r\n",
      "run.log\r\n",
      "\u001b[01;32mwrf_hydro.exe\u001b[0m*\r\n"
     ]
    }
   ],
   "source": [
    "ls ~/wrf-hydro-training/output/lesson2/run_gridded_default | tail -40"
   ]
  },
  {
   "cell_type": "markdown",
   "metadata": {
    "deletable": false,
    "editable": false
   },
   "source": [
    "There are also four important files for determining the success or failure of the run, diag_hydro.0000\\*. The number of diag files is equal to the number of cores used for the run. These diag_hydro.0000\\* files contain logs and diagnostics on the simulation run. Since we ran using 4 cores, we have 4 diag_hydro.0000\\* files.\n",
    "\n",
    "You can check that your simulation ran successfully by examining the last line of the diag files, which should read  `The model finished successfully........`"
   ]
  },
  {
   "cell_type": "code",
   "execution_count": 14,
   "metadata": {},
   "outputs": [
    {
     "name": "stdout",
     "output_type": "stream",
     "text": [
      " The model finished successfully.......\n"
     ]
    }
   ],
   "source": [
    "%%bash\n",
    "tail -1 ~/wrf-hydro-training/output/lesson2/run_gridded_default/diag_hydro.00000"
   ]
  },
  {
   "cell_type": "markdown",
   "metadata": {
    "deletable": false,
    "editable": false
   },
   "source": [
    "# Next up - Basics of working with WRF-Hydro outputs\n",
    "This concludes lesson 2. In the next lesson, we will **briefly** discuss working with some of the output files. The output files from WRF-Hydro are standard netCDF4 files, and thus there are many ways to work with these data. In lesson 3 we will simply cover a few Python libraries and commands that we will need for later lessons in this tutorial. Lesson 3 is by no means a comprehensive guide to working with netCDF files. "
   ]
  }
 ],
 "metadata": {
  "kernelspec": {
   "display_name": "Python 3",
   "language": "python",
   "name": "python3"
  },
  "language_info": {
   "codemirror_mode": {
    "name": "ipython",
    "version": 3
   },
   "file_extension": ".py",
   "mimetype": "text/x-python",
   "name": "python",
   "nbconvert_exporter": "python",
   "pygments_lexer": "ipython3",
   "version": "3.6.4"
  },
  "toc": {
   "base_numbering": 1,
   "nav_menu": {},
   "number_sections": true,
   "sideBar": true,
   "skip_h1_title": true,
   "title_cell": "Table of Contents",
   "title_sidebar": "Contents",
   "toc_cell": true,
   "toc_position": {},
   "toc_section_display": true,
   "toc_window_display": true
  }
 },
 "nbformat": 4,
 "nbformat_minor": 2
}

{
 "cells": [
  {
   "cell_type": "markdown",
   "metadata": {
    "toc": true
   },
   "source": [
    "<h1>Table of Contents<span class=\"tocSkip\"></span></h1>\n",
    "<div class=\"toc\"><ul class=\"toc-item\"><li><span><a href=\"#Overview\" data-toc-modified-id=\"Overview-1\"><span class=\"toc-item-num\">1&nbsp;&nbsp;</span>Overview</a></span><ul class=\"toc-item\"><li><span><a href=\"#Software-and-conventions\" data-toc-modified-id=\"Software-and-conventions-1.1\"><span class=\"toc-item-num\">1.1&nbsp;&nbsp;</span>Software and conventions</a></span></li></ul></li><li><span><a href=\"#Recap-of-lessons-1-and-2,-,-compiling-and-running-WRF-Hydro\" data-toc-modified-id=\"Recap-of-lessons-1-and-2,-,-compiling-and-running-WRF-Hydro-2\"><span class=\"toc-item-num\">2&nbsp;&nbsp;</span>Recap of lessons 1 and 2, , compiling and running WRF-Hydro</a></span><ul class=\"toc-item\"><li><span><a href=\"#Compiling-WRF-Hydro\" data-toc-modified-id=\"Compiling-WRF-Hydro-2.1\"><span class=\"toc-item-num\">2.1&nbsp;&nbsp;</span>Compiling WRF-Hydro</a></span></li><li><span><a href=\"#Creating-the-simulation-directory-and-running-a-baseline-WRF-Hydro-simulation\" data-toc-modified-id=\"Creating-the-simulation-directory-and-running-a-baseline-WRF-Hydro-simulation-2.2\"><span class=\"toc-item-num\">2.2&nbsp;&nbsp;</span>Creating the simulation directory and running a baseline WRF-Hydro simulation</a></span></li></ul></li><li><span><a href=\"#National-Water-Model-configuration-(NWM)\" data-toc-modified-id=\"National-Water-Model-configuration-(NWM)-3\"><span class=\"toc-item-num\">3&nbsp;&nbsp;</span>National Water Model configuration (NWM)</a></span><ul class=\"toc-item\"><li><span><a href=\"#Create-a-NWM-simulation-directory\" data-toc-modified-id=\"Create-a-NWM-simulation-directory-3.1\"><span class=\"toc-item-num\">3.1&nbsp;&nbsp;</span>Create a NWM simulation directory</a></span></li></ul></li></ul></div>"
   ]
  },
  {
   "cell_type": "markdown",
   "metadata": {},
   "source": [
    "# Lesson 5 - Exploring other configurations\n",
    "## Overview\n",
    "In lesson 4 we covered editign namelist options to change WRF-Hydro run-time options. In this lesson, we will experiment with editing some parameter files and explore the *NWM* and *Reach* configuations. \n",
    "\n",
    "**NOTE: If you have not completed lessons 4, please stop and do so now.**\n",
    "\n",
    "### Software and conventions\n",
    "The easiest way to run these lessons is via the [wrfhydro/training](https://hub.docker.com/r/wrfhydro/training/) Docker container, which has all software dependencies and data pre-installed.\n",
    "\n",
    "For a complete description of the software environment used for this training please see [Getting started]().\n",
    "\n",
    "You may either execute commands by running each cell of this notebook. Alternatively, you may open a terminal in Jupyter Lab by selecting `New -> Terminal` in your `Home` tab of Jupyter Lab and input the commands manually if you prefer. \n",
    "\n",
    "All paths used in this lesson assume that the lesson materials are located under your home directory in a folder named `wrf-hydro-training`. If your materials are located in another directory, you will not be able to run the commands in this notebook inside Jupyter and will need to type them manually in your terminal session. "
   ]
  },
  {
   "cell_type": "markdown",
   "metadata": {},
   "source": [
    "## Recap of lessons 1 and 2, , compiling and running WRF-Hydro\n",
    "In this section, we will quickly recap the commands issued in Lessons 1 and 2 to compile WRF-Hydro and create our simulation directory. We will use the prepared domain for the remaining lessons, but feel free to replace the prepared domain with the domain you created in the geospatial hands-on training session. **NOTE: Your domain directory structure and filenames must match the prepared domain EXACTLY**\n",
    "\n",
    "### Compiling WRF-Hydro\n",
    "Below are the commands to compile WRF-Hydro for the Gridded configuration."
   ]
  },
  {
   "cell_type": "code",
   "execution_count": null,
   "metadata": {},
   "outputs": [],
   "source": [
    "%%bash\n",
    "# Change to the trunk/NDHMS directory and configure for gfort\n",
    "cd ~/wrf-hydro-training/wrf_hydro_nwm_public/trunk/NDHMS/; ./configure 2\n",
    "\n",
    "# Make a copy of the template environment variable file, setEnvars.sh\n",
    "cp ~/wrf-hydro-training/wrf_hydro_nwm_public/trunk/NDHMS/template/setEnvar.sh \\\n",
    "~/wrf-hydro-training/wrf_hydro_nwm_public/trunk/NDHMS/configureEnvars.sh"
   ]
  },
  {
   "cell_type": "markdown",
   "metadata": {},
   "source": [
    "**Set compile-time options**\n",
    "\n",
    "Edit the `configureEnvars.sh` script to set environment variables required by the compile script. Your `configureEnvars.sh` should look like the bash script below when you are finished.  \n",
    "\n",
    "---\n",
    "\n",
    "```bash\n",
    "#!/bin/bash\n",
    "# WRF-Hydro compile time options\n",
    "\n",
    "# This is a WRF environment variable. Always set to 1=On for compiling WRF-Hydro.\n",
    "export WRF_HYDRO=1\n",
    "\n",
    "# Enhanced diagnostic output for debugging: 0=Off, 1=On.\n",
    "export HYDRO_D=1\n",
    "\n",
    "# Spatially distributed parameters for NoahMP: 0=Off, 1=On.\n",
    "export SPATIAL_SOIL=1  \n",
    "\n",
    "# RAPID model: 0=Off, 1=On.\n",
    "export WRF_HYDRO_RAPID=0\n",
    "\n",
    "# Large netcdf file support: 0=Off, 1=On.\n",
    "export WRFIO_NCD_LARGE_FILE_SUPPORT=1\n",
    "\n",
    "# WCOSS file units: 0=Off, 1=On. \n",
    "export NCEP_WCOSS=0\n",
    "\n",
    "# Streamflow nudging: 0=Off, 1=On.\n",
    "export WRF_HYDRO_NUDGING=0\n",
    "```\n",
    "\n",
    "---"
   ]
  },
  {
   "cell_type": "markdown",
   "metadata": {},
   "source": [
    "**Compile WRF-Hydro in uncoupled mode**"
   ]
  },
  {
   "cell_type": "code",
   "execution_count": null,
   "metadata": {},
   "outputs": [],
   "source": [
    "%%bash\n",
    "cd ~/wrf-hydro-training/wrf_hydro_nwm_public/trunk/NDHMS/; \\\n",
    "./compile_offline_NoahMP.sh configureEnvars.sh >> compile.log 2>&1\n",
    "\n",
    "tail -13 ~/wrf-hydro-training/wrf_hydro_nwm_public/trunk/NDHMS/compile.log"
   ]
  },
  {
   "cell_type": "markdown",
   "metadata": {},
   "source": [
    "**We have successfully compiled WRF-Hydro and we will use this binary and *.TBL files for the remaining simulations in this lesson**"
   ]
  },
  {
   "cell_type": "markdown",
   "metadata": {},
   "source": [
    "### Creating the simulation directory and running a baseline WRF-Hydro simulation\n",
    "Below are the commands from lesson 2 to create the simulation direcory and run a WRF-Hydro simulation. This simulation will be run exactly as was done in Lesson 2 and will serve as our baseline simulation. We will modify run-time options in subsequent simulations in the lesson and compare the outputs."
   ]
  },
  {
   "cell_type": "code",
   "execution_count": 7,
   "metadata": {},
   "outputs": [],
   "source": [
    "%%bash\n",
    "# Make a new directory for our baseline simulation\n",
    "mkdir -p ~/wrf-hydro-training/output/lesson5/run_gridded_baseline\n",
    "\n",
    "# Copy our model files to the simulation directory\n",
    "cp ~/wrf-hydro-training/wrf_hydro_nwm_public/trunk/NDHMS/Run/*.TBL \\\n",
    "~/wrf-hydro-training/output/lesson5/run_gridded_baseline\n",
    "cp ~/wrf-hydro-training/wrf_hydro_nwm_public/trunk/NDHMS/Run/wrf_hydro.exe \\\n",
    "~/wrf-hydro-training/output/lesson5/run_gridded_baseline\n",
    "\n",
    "# Create symbolic links to large domain files\n",
    "cp -as $HOME/wrf-hydro-training/example_case/FORCING \\\n",
    "~/wrf-hydro-training/output/lesson5/run_gridded_baseline\n",
    "cp -as $HOME/wrf-hydro-training/example_case/Gridded/DOMAIN \\\n",
    "~/wrf-hydro-training/output/lesson5/run_gridded_baseline\n",
    "cp -as $HOME/wrf-hydro-training/example_case/Gridded/RESTART \\\n",
    "~/wrf-hydro-training/output/lesson5/run_gridded_baseline\n",
    "\n",
    "# Copy namelist files\n",
    "cp ~/wrf-hydro-training/example_case/Gridded/namelist.hrldas \\\n",
    "~/wrf-hydro-training/output/lesson5/run_gridded_baseline\n",
    "cp ~/wrf-hydro-training/example_case/Gridded/hydro.namelist \\\n",
    "~/wrf-hydro-training/output/lesson5/run_gridded_baseline\n",
    "\n",
    "# Run the simulation\n",
    "cd ~/wrf-hydro-training/output/lesson5/run_gridded_baseline\n",
    "mpirun -np 4 ./wrf_hydro.exe >> run.log 2>&1"
   ]
  },
  {
   "cell_type": "code",
   "execution_count": 8,
   "metadata": {},
   "outputs": [
    {
     "name": "stdout",
     "output_type": "stream",
     "text": [
      " The model finished successfully.......\n"
     ]
    }
   ],
   "source": [
    "%%bash\n",
    "# Check that it finished successfully\n",
    "tail -1 ~/wrf-hydro-training/output/lesson5/run_gridded_baseline/diag_hydro.00000"
   ]
  },
  {
   "cell_type": "markdown",
   "metadata": {},
   "source": [
    "## National Water Model configuration (NWM)\n",
    "In this section we will discuss the differences between the National Water Model (NWM) configuration and the baseline Gridded configuration. Afterwards, we will run a NWM simulation and visualize some of the differences. \n",
    "\n",
    "### Create a NWM simulation directory"
   ]
  },
  {
   "cell_type": "code",
   "execution_count": 10,
   "metadata": {},
   "outputs": [],
   "source": [
    "%%bash\n",
    "# Make a new directory for our baseline simulation\n",
    "mkdir -p ~/wrf-hydro-training/output/lesson5/run_nwm\n",
    "\n",
    "# Copy our model files to the simulation directory\n",
    "cp ~/wrf-hydro-training/wrf_hydro_nwm_public/trunk/NDHMS/Run/*.TBL \\\n",
    "~/wrf-hydro-training/output/lesson5/run_nwm\n",
    "cp ~/wrf-hydro-training/wrf_hydro_nwm_public/trunk/NDHMS/Run/wrf_hydro.exe \\\n",
    "~/wrf-hydro-training/output/lesson5/run_nwm\n",
    "\n",
    "# Create symbolic links to large domain files\n",
    "cp -as $HOME/wrf-hydro-training/example_case/FORCING \\\n",
    "~/wrf-hydro-training/output/lesson5/run_nwm\n",
    "cp -as $HOME/wrf-hydro-training/example_case/NWM/DOMAIN \\\n",
    "~/wrf-hydro-training/output/lesson5/run_nwm\n",
    "cp -as $HOME/wrf-hydro-training/example_case/NWM/RESTART \\\n",
    "~/wrf-hydro-training/output/lesson5/run_nwm\n",
    "\n",
    "# Copy namelist files\n",
    "cp ~/wrf-hydro-training/example_case/NWM/namelist.hrldas \\\n",
    "~/wrf-hydro-training/output/lesson5/run_nwm\n",
    "cp ~/wrf-hydro-training/example_case/NWM/hydro.namelist \\\n",
    "~/wrf-hydro-training/output/lesson5/run_nwm"
   ]
  },
  {
   "cell_type": "code",
   "execution_count": 12,
   "metadata": {},
   "outputs": [],
   "source": [
    "%%bash\n",
    "# Run the simulation\n",
    "cd ~/wrf-hydro-training/output/lesson5/run_nwm\n",
    "mpirun -np 4 ./wrf_hydro.exe >> run.log 2>&1"
   ]
  },
  {
   "cell_type": "code",
   "execution_count": null,
   "metadata": {},
   "outputs": [],
   "source": []
  }
 ],
 "metadata": {
  "kernelspec": {
   "display_name": "Python 3",
   "language": "python",
   "name": "python3"
  },
  "language_info": {
   "codemirror_mode": {
    "name": "ipython",
    "version": 3
   },
   "file_extension": ".py",
   "mimetype": "text/x-python",
   "name": "python",
   "nbconvert_exporter": "python",
   "pygments_lexer": "ipython3",
   "version": "3.6.4"
  },
  "toc": {
   "base_numbering": 1,
   "nav_menu": {},
   "number_sections": true,
   "sideBar": true,
   "skip_h1_title": true,
   "title_cell": "Table of Contents",
   "title_sidebar": "Contents",
   "toc_cell": true,
   "toc_position": {
    "height": "calc(100% - 180px)",
    "left": "10px",
    "top": "150px",
    "width": "414px"
   },
   "toc_section_display": true,
   "toc_window_display": true
  }
 },
 "nbformat": 4,
 "nbformat_minor": 2
}

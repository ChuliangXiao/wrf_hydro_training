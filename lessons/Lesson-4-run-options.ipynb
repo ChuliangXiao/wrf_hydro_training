{
 "cells": [
  {
   "cell_type": "markdown",
   "metadata": {
    "toc": true
   },
   "source": [
    "<h1>Table of Contents<span class=\"tocSkip\"></span></h1>\n",
    "<div class=\"toc\"><ul class=\"toc-item\"><li><span><a href=\"#Overview\" data-toc-modified-id=\"Overview-1\"><span class=\"toc-item-num\">1&nbsp;&nbsp;</span>Overview</a></span><ul class=\"toc-item\"><li><span><a href=\"#Software-and-conventions\" data-toc-modified-id=\"Software-and-conventions-1.1\"><span class=\"toc-item-num\">1.1&nbsp;&nbsp;</span>Software and conventions</a></span></li></ul></li><li><span><a href=\"#Recap-of-lessons-1-and-2,-,-compiling-and-running-WRF-Hydro\" data-toc-modified-id=\"Recap-of-lessons-1-and-2,-,-compiling-and-running-WRF-Hydro-2\"><span class=\"toc-item-num\">2&nbsp;&nbsp;</span>Recap of lessons 1 and 2, , compiling and running WRF-Hydro</a></span><ul class=\"toc-item\"><li><span><a href=\"#Compiling-WRF-Hydro\" data-toc-modified-id=\"Compiling-WRF-Hydro-2.1\"><span class=\"toc-item-num\">2.1&nbsp;&nbsp;</span>Compiling WRF-Hydro</a></span></li><li><span><a href=\"#Creating-the-simulation-directory-and-running-WRF-Hydro\" data-toc-modified-id=\"Creating-the-simulation-directory-and-running-WRF-Hydro-2.2\"><span class=\"toc-item-num\">2.2&nbsp;&nbsp;</span>Creating the simulation directory and running WRF-Hydro</a></span></li></ul></li><li><span><a href=\"#Experimenting-with-run-time-options\" data-toc-modified-id=\"Experimenting-with-run-time-options-3\"><span class=\"toc-item-num\">3&nbsp;&nbsp;</span>Experimenting with run-time options</a></span><ul class=\"toc-item\"><li><span><a href=\"#Setup\" data-toc-modified-id=\"Setup-3.1\"><span class=\"toc-item-num\">3.1&nbsp;&nbsp;</span>Setup</a></span></li></ul></li></ul></div>"
   ]
  },
  {
   "cell_type": "markdown",
   "metadata": {},
   "source": [
    "# Lesson 4 - Run-time options for Gridded configuration\n",
    "## Overview\n",
    "In lesson 2 we covered the basics of constructing and running a WRF-Hydro simulation using a prepared domain for the 'Gridded' configuration. In this lesson, we will experiment with difference run-time options and do some basic visualization of the outputs using the Python library `xarray`.  \n",
    "\n",
    "**NOTE: If you have not completed lessons 2 and 3, please stop and do so now.**\n",
    "\n",
    "### Software and conventions\n",
    "The easiest way to run these lessons is via the [wrfhydro/training](https://hub.docker.com/r/wrfhydro/training/) Docker container, which has all software dependencies and data pre-installed.\n",
    "\n",
    "For a complete description of the software environment used for this training please see [Getting started]().\n",
    "\n",
    "You may either execute commands by running each cell of this notebook. Alternatively, you may open a terminal in Jupyter Lab by selecting `New -> Terminal` in your `Home` tab of Jupyter Lab and input the commands manually if you prefer. \n",
    "\n",
    "All paths used in this lesson assume that the lesson materials are located under your home directory in a folder named `wrf-hydro-training`. If your materials are located in another directory, you will not be able to run the commands in this notebook inside Jupyter and will need to type them manually in your terminal session. \n",
    "\n",
    "## Recap of lessons 1 and 2, , compiling and running WRF-Hydro\n",
    "In this section, we will quickly recap the commands issued in Lessons 1 and 2 to compile WRF-Hydro and create our simulation directory. We will use the prepared domain for the remaining lessons, but feel free to replace the prepared domain with the domain you created in the geospatial hands-on training session. **NOTE: Your domain directory structure and filenames must match the prepared domain EXACTLY**\n",
    "\n",
    "### Compiling WRF-Hydro\n",
    "Below are the commands to compile WRF-Hydro for the Gridded configuration.\n"
   ]
  },
  {
   "cell_type": "code",
   "execution_count": 6,
   "metadata": {
    "scrolled": true
   },
   "outputs": [
    {
     "name": "stdout",
     "output_type": "stream",
     "text": [
      "Configured: gfort\n"
     ]
    }
   ],
   "source": [
    "%%bash\n",
    "# Change to the trunk/NDHMS directory and configure for gfort\n",
    "cd ~/mount/wrf-hydro-training/wrf_hydro_nwm_public/trunk/NDHMS/; ./configure 2\n",
    "\n",
    "# Make a copy of the template environment variable file, setEnvars.sh\n",
    "cp ~/mount/wrf-hydro-training/wrf_hydro_nwm_public/trunk/NDHMS/template/setEnvar.sh \\\n",
    "~/mount/wrf-hydro-training/wrf_hydro_nwm_public/trunk/NDHMS/configureEnvars.sh\n",
    "\n",
    "\n"
   ]
  },
  {
   "cell_type": "markdown",
   "metadata": {},
   "source": [
    "**Set compile-time options**\n",
    "\n",
    "Edit the `configureEnvars.sh` script to set environment variables required by the compile script. Your `configureEnvars.sh` should look like the bash script below when you are finished.  \n",
    "\n",
    "---\n",
    "\n",
    "```bash\n",
    "#!/bin/bash\n",
    "# WRF-Hydro compile time options\n",
    "\n",
    "# This is a WRF environment variable. Always set to 1=On for compiling WRF-Hydro.\n",
    "export WRF_HYDRO=1\n",
    "\n",
    "# Enhanced diagnostic output for debugging: 0=Off, 1=On.\n",
    "export HYDRO_D=1\n",
    "\n",
    "# Spatially distributed parameters for NoahMP: 0=Off, 1=On.\n",
    "export SPATIAL_SOIL=1  \n",
    "\n",
    "# RAPID model: 0=Off, 1=On.\n",
    "export WRF_HYDRO_RAPID=0\n",
    "\n",
    "# Large netcdf file support: 0=Off, 1=On.\n",
    "export WRFIO_NCD_LARGE_FILE_SUPPORT=1\n",
    "\n",
    "# WCOSS file units: 0=Off, 1=On. \n",
    "export NCEP_WCOSS=0\n",
    "\n",
    "# Streamflow nudging: 0=Off, 1=On.\n",
    "export WRF_HYDRO_NUDGING=0\n",
    "```\n",
    "\n",
    "---\n"
   ]
  },
  {
   "cell_type": "markdown",
   "metadata": {},
   "source": [
    "**Compile WRF-Hydro in uncoupled mode**"
   ]
  },
  {
   "cell_type": "code",
   "execution_count": 7,
   "metadata": {},
   "outputs": [
    {
     "name": "stdout",
     "output_type": "stream",
     "text": [
      "*****************************************************************\n",
      "Make was successful\n",
      "\n",
      "*****************************************************************\n",
      "The environment variables used in the compile:\n",
      "HYDRO_D=1\n",
      "NCEP_WCOSS=0\n",
      "NETCDF=/usr/local\n",
      "SPATIAL_SOIL=1\n",
      "WRFIO_NCD_LARGE_FILE_SUPPORT=1\n",
      "WRF_HYDRO=1\n",
      "WRF_HYDRO_NUDGING=0\n",
      "WRF_HYDRO_RAPID=0\n"
     ]
    }
   ],
   "source": [
    "%%bash\n",
    "cd ~/mount/wrf-hydro-training/wrf_hydro_nwm_public/trunk/NDHMS/; \\\n",
    "./compile_offline_NoahMP.sh configureEnvars.sh >> compile.log 2>&1\n",
    "\n",
    "tail -13 ~/mount/wrf-hydro-training/wrf_hydro_nwm_public/trunk/NDHMS/compile.log"
   ]
  },
  {
   "cell_type": "markdown",
   "metadata": {},
   "source": [
    "**We have successfully compiled WRF-Hydro and we will use this binary and *.TBL files for the remaining simulations in this lesson**"
   ]
  },
  {
   "cell_type": "markdown",
   "metadata": {},
   "source": [
    "### Creating the simulation directory and running WRF-Hydro\n",
    "Below are the commands from lesson 2 to create the simulation direcory and run a WRF-Hydro simulation. This simulation will be run exactly as was done in Lesson 2 and will serve as our baseline simulation. We will modify run-time options in subsequent simulations in the lesson and compare the outputs."
   ]
  },
  {
   "cell_type": "code",
   "execution_count": 9,
   "metadata": {},
   "outputs": [],
   "source": [
    "%%bash\n",
    "# Make a new directory for our baseline simulation\n",
    "mkdir -p ~/mount/wrf-hydro-training/output/lesson4/run_gridded_baseline\n",
    "\n",
    "# Copy our model files to the simulation directory\n",
    "cp ~/mount/wrf-hydro-training/wrf_hydro_nwm_public/trunk/NDHMS/Run/*.TBL \\\n",
    "~/mount/wrf-hydro-training/output/lesson4/run_gridded_baseline\n",
    "cp ~/mount/wrf-hydro-training/wrf_hydro_nwm_public/trunk/NDHMS/Run/wrf_hydro.exe \\\n",
    "~/mount/wrf-hydro-training/output/lesson4/run_gridded_baseline\n",
    "\n",
    "# Create symbolic links to large domain files\n",
    "cp -as $HOME/mount/wrf-hydro-training/DOMAIN/FORCING \\\n",
    "~/mount/wrf-hydro-training/output/lesson4/run_gridded_baseline\n",
    "cp -as $HOME/mount/wrf-hydro-training/DOMAIN/Gridded/DOMAIN \\\n",
    "~/mount/wrf-hydro-training/output/lesson4/run_gridded_baseline\n",
    "cp -as $HOME/mount/wrf-hydro-training/DOMAIN/Gridded/RESTART \\\n",
    "~/mount/wrf-hydro-training/output/lesson4/run_gridded_baseline\n",
    "\n",
    "# Copy namelist files\n",
    "cp ~/mount/wrf-hydro-training/DOMAIN/Gridded/namelist.hrldas \\\n",
    "~/mount/wrf-hydro-training/output/lesson4/run_gridded_baseline\n",
    "cp ~/mount/wrf-hydro-training/DOMAIN/Gridded/hydro.namelist \\\n",
    "~/mount/wrf-hydro-training/output/lesson4/run_gridded_baseline\n",
    "\n",
    "# Run the simulation\n",
    "cd ~/mount/wrf-hydro-training/output/lesson4/run_gridded_baseline\n",
    "mpirun -np 4 ./wrf_hydro.exe >> run.log 2>&1"
   ]
  },
  {
   "cell_type": "code",
   "execution_count": 10,
   "metadata": {},
   "outputs": [
    {
     "name": "stdout",
     "output_type": "stream",
     "text": [
      " The model finished successfully.......\n"
     ]
    }
   ],
   "source": [
    "%%bash\n",
    "# Check that it finished successfully\n",
    "tail -1 ~/mount/wrf-hydro-training/output/lesson4/run_gridded_baseline/diag_hydro.00000"
   ]
  },
  {
   "cell_type": "markdown",
   "metadata": {},
   "source": [
    "## Experimenting with run-time options\n",
    "### Setup\n",
    "In this section we will run a few different simulations with different run-time options and explore their effects on the model output.\n",
    "\n",
    "We will create a new simulation directory for each experiment. First, we will make a new simulation directory as we did with the baseline run above and use this as a template for creating multiple new simulation directories.\n",
    "\n",
    "**Step 1: Create a simulation directory to use as a template**"
   ]
  },
  {
   "cell_type": "code",
   "execution_count": 12,
   "metadata": {},
   "outputs": [],
   "source": [
    "%%bash\n",
    "# Make a new directory for our baseline simulation\n",
    "mkdir -p ~/mount/wrf-hydro-training/output/lesson4/run_gridded_template\n",
    "\n",
    "# Copy our model files to the simulation directory\n",
    "cp ~/mount/wrf-hydro-training/wrf_hydro_nwm_public/trunk/NDHMS/Run/*.TBL \\\n",
    "~/mount/wrf-hydro-training/output/lesson4/run_gridded_template\n",
    "cp ~/mount/wrf-hydro-training/wrf_hydro_nwm_public/trunk/NDHMS/Run/wrf_hydro.exe \\\n",
    "~/mount/wrf-hydro-training/output/lesson4/run_gridded_template\n",
    "\n",
    "# Create symbolic links to large domain files\n",
    "cp -as $HOME/mount/wrf-hydro-training/DOMAIN/FORCING \\\n",
    "~/mount/wrf-hydro-training/output/lesson4/run_gridded_template\n",
    "cp -as $HOME/mount/wrf-hydro-training/DOMAIN/Gridded/DOMAIN \\\n",
    "~/mount/wrf-hydro-training/output/lesson4/run_gridded_template\n",
    "cp -as $HOME/mount/wrf-hydro-training/DOMAIN/Gridded/RESTART \\\n",
    "~/mount/wrf-hydro-training/output/lesson4/run_gridded_template\n",
    "\n",
    "# Copy namelist files\n",
    "cp ~/mount/wrf-hydro-training/DOMAIN/Gridded/namelist.hrldas \\\n",
    "~/mount/wrf-hydro-training/output/lesson4/run_gridded_template\n",
    "cp ~/mount/wrf-hydro-training/DOMAIN/Gridded/hydro.namelist \\\n",
    "~/mount/wrf-hydro-training/output/lesson4/run_gridded_template"
   ]
  },
  {
   "cell_type": "markdown",
   "metadata": {},
   "source": [
    "**Step 2: View the contents**"
   ]
  },
  {
   "cell_type": "code",
   "execution_count": 13,
   "metadata": {},
   "outputs": [
    {
     "name": "stdout",
     "output_type": "stream",
     "text": [
      "\u001b[0m\u001b[01;32mCHANPARM.TBL\u001b[0m*  \u001b[01;32mGENPARM.TBL\u001b[0m*  \u001b[34;42mRESTART\u001b[0m/         \u001b[01;32mnamelist.hrldas\u001b[0m*\r\n",
      "\u001b[34;42mDOMAIN\u001b[0m/        \u001b[01;32mHYDRO.TBL\u001b[0m*    \u001b[01;32mSOILPARM.TBL\u001b[0m*    \u001b[01;32mwrf_hydro.exe\u001b[0m*\r\n",
      "\u001b[34;42mFORCING\u001b[0m/       \u001b[01;32mMPTABLE.TBL\u001b[0m*  \u001b[01;32mhydro.namelist\u001b[0m*\r\n"
     ]
    }
   ],
   "source": [
    "ls ~/mount/wrf-hydro-training/output/lesson4/run_gridded_template"
   ]
  },
  {
   "cell_type": "markdown",
   "metadata": {},
   "source": [
    "We now have our template simulation directory ready to go. In each experiment we will copy this directory and edit the two namelist files `namelist.hrldas` and `hydro.namelist` to change run-time options."
   ]
  },
  {
   "cell_type": "code",
   "execution_count": null,
   "metadata": {},
   "outputs": [],
   "source": []
  }
 ],
 "metadata": {
  "kernelspec": {
   "display_name": "Python 3",
   "language": "python",
   "name": "python3"
  },
  "language_info": {
   "codemirror_mode": {
    "name": "ipython",
    "version": 3
   },
   "file_extension": ".py",
   "mimetype": "text/x-python",
   "name": "python",
   "nbconvert_exporter": "python",
   "pygments_lexer": "ipython3",
   "version": "3.6.4"
  },
  "toc": {
   "base_numbering": 1,
   "nav_menu": {},
   "number_sections": true,
   "sideBar": true,
   "skip_h1_title": true,
   "title_cell": "Table of Contents",
   "title_sidebar": "Contents",
   "toc_cell": true,
   "toc_position": {},
   "toc_section_display": true,
   "toc_window_display": true
  }
 },
 "nbformat": 4,
 "nbformat_minor": 2
}

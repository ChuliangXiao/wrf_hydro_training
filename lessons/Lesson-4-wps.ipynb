{
 "cells": [
  {
   "cell_type": "markdown",
   "metadata": {
    "toc": true
   },
   "source": [
    "<h1>Table of Contents<span class=\"tocSkip\"></span></h1>\n",
    "<div class=\"toc\"><ul class=\"toc-item\"><li><span><a href=\"#Overview\" data-toc-modified-id=\"Overview-1\"><span class=\"toc-item-num\">1&nbsp;&nbsp;</span>Overview</a></span><ul class=\"toc-item\"><li><span><a href=\"#Software-and-conventions\" data-toc-modified-id=\"Software-and-conventions-1.1\"><span class=\"toc-item-num\">1.1&nbsp;&nbsp;</span>Software and conventions</a></span></li></ul></li><li><span><a href=\"#Data-sources\" data-toc-modified-id=\"Data-sources-2\"><span class=\"toc-item-num\">2&nbsp;&nbsp;</span>Data sources</a></span></li><li><span><a href=\"#Creating-the-geo_em_d01.nc-(geogrid)-file\" data-toc-modified-id=\"Creating-the-geo_em_d01.nc-(geogrid)-file-3\"><span class=\"toc-item-num\">3&nbsp;&nbsp;</span>Creating the geo_em_d01.nc (geogrid) file</a></span><ul class=\"toc-item\"><li><span><a href=\"#geogrid.exe\" data-toc-modified-id=\"geogrid.exe-3.1\"><span class=\"toc-item-num\">3.1&nbsp;&nbsp;</span>geogrid.exe</a></span></li><li><span><a href=\"#Defining-domain-boundaries\" data-toc-modified-id=\"Defining-domain-boundaries-3.2\"><span class=\"toc-item-num\">3.2&nbsp;&nbsp;</span>Defining domain boundaries</a></span></li><li><span><a href=\"#Making-the-geogrid-file\" data-toc-modified-id=\"Making-the-geogrid-file-3.3\"><span class=\"toc-item-num\">3.3&nbsp;&nbsp;</span>Making the geogrid file</a></span></li></ul></li></ul></div>"
   ]
  },
  {
   "cell_type": "markdown",
   "metadata": {},
   "source": [
    "# Lesson 4 - WRF Preprocessing System (WPS)\n",
    "## Overview\n",
    "In this lesson, we will cover the basics of the the geospatial data preparation for the land-surface model for our domain. \n",
    "\n",
    "### Software and conventions\n",
    "The easiest way to run these lessons is via the [wrfhydro/training](https://hub.docker.com/r/wrfhydro/training/) Docker container, which has all software dependencies and data pre-installed.\n",
    "\n",
    "For a complete description of the software environment used for this training please see [Getting started]().\n",
    "\n",
    "You may either execute commands by running each cell of this notebook. Alternatively, you may open a terminal in Jupyter Lab by selecting `New -> Terminal` in your `Home` tab of Jupyter Lab and input the commands manually if you prefer. \n",
    "\n",
    "All paths used in this lesson assume that the lesson materials are located under your home directory in a folder named `wrf-hydro-training`. If your materials are located in another directory, you will not be able to run the commands in this notebook inside Jupyter and will need to type them manually in your terminal session. \n",
    "\n",
    "## Data sources\n",
    "WRF Preprocessing System (WPS) geographical input data are one of the primary datasets used by the NoahMP Land Surface Model (LSM). These datasets can be obtained from the [WPS geographical input data download page](http://www2.mmm.ucar.edu/wrf/users/download/get_sources_wps_geog.html). However, these data are rather large (~50GB) and contain a number of datasets that are not used in most implementations of WRF-Hydro. We have reduced the data by removing various resolutions of the data that are not commonly used by WRF-Hydro. Furthermore, the dataset provided with this tutorial has been subset to the Continental United States to be consistent with the availability of other datasets used in this tutorial. Thus, the dataset provided with the [wrfhydro/training](https://hub.docker.com/r/wrfhydro/training/) Docker container is considerably smaller than the complete WRF-WPS dataset.\n",
    "\n",
    "## Creating the geo_em_d01.nc (geogrid) file\n",
    "### geogrid.exe\n",
    "The WPS program `geogrid.exe` is used to create the geo_em_d01.nc, hereafter referred to as the 'geogrid' file. The `geogrid.exe` program takes a fortran namelist (`namelist.wps`) and the [WPS geographical input data](http://www2.mmm.ucar.edu/wrf/users/download/get_sources_wps_geog.html) as inputs and creates the geogrid file. However, the `geogrid.exe.` program requires that WRF and WPS be built according to your system specification, and building WRF and WPS can be difficult on some systems. Additionally, much of the functionality of WRF and WPS is not utilized for creating a geogrid file for WRF-Hydro, and many of the options in the `namelist.wps` are not relevant to this process. Therefore, we have scripted a service utilizing Docker to abstract much of the WRF/WPS complexity and simplify the process of creating a geogrid file for WRF-Hydro users. \n",
    "\n",
    "We will cover the steps to create the geogrid file using this service in the section 'Creating the geogrid file'. For more non-standard, advanced usage please see the WRF-WPS documentation.\n",
    "\n",
    "### Defining domain boundaries\n",
    "WRF-Hydro uses rectilinear domains as defined by the `namelist.wps` input to the geogrid.exe program. The first step to creating the geogrid file is to define our domain boundaries. The `geogrid.exe` program takes a centerpoint, x and y coordinates, and other projection information to define a bounding box for the domain. There are a number of resources available to assists users with defining this bounding box, including the NOAA supported [DomainWizard](https://esrl.noaa.gov/gsd/wrfportal/DomainWizard.html). If you have no knowledge of your coordinates, the [DomainWizard](https://esrl.noaa.gov/gsd/wrfportal/DomainWizard.html) is the best starting point. However, for this tutorial we have supplied the coordinates for you and you may use our Docker service to visualize the domain location and create the geogrid file given these coordinates.\n",
    "\n",
    "### Making the geogrid file\n",
    "In this section we will create the geogrid file using the WRF-Hydro geogrid utility. \n",
    "\n",
    "**NOTE: We will be running the utility using a Python script in this training rather than executing a Docker container.** It is not possible to run the standard WRF-Hydro geogrid docker container because this tutorial is already utilizing its own Docker container. However, the process is nearly identical and is documented on the [wrfhydro/wps_geogrid]() Dockerhub page. Instead, we will be executing a python script. This is the same Python script used in the `wrfhydro/wps_geogrid` Docker container, we will simply be executing it directly rather than through Docker. Regardless, what is important here is that the input arguments and process are the same whether you are using the Pytohn script in this lesson or the [wrfhydro/wps_geogrid]() Docker container.\n",
    "\n",
    "#### Exploring namelist.wps\n",
    "The WPS `geogrid.exe` utility is controlled by options set in the `namelist.wps`. As previously stated, there are many options in the `namelist.wps` file that are not relevant to most WRF-Hydro users. For educational purposes, we will take a quick look at the full `namelist.wps` file and then discuss the relevant options used by the WRF-Hydro geogrid utility in more detail.\n",
    "\n",
    "Print the ~/"
   ]
  },
  {
   "cell_type": "markdown",
   "metadata": {},
   "source": [
    "We will take a quick look at the `namelist.wps` file, which we will be using to create the geogrid file. **Note** We will NOT be us \n",
    "\n",
    "**Step 1: Check the domain boundaries**\n",
    "\n",
    "We will do a quick visual inspection to make sure our supplied domain boundary information is correct. "
   ]
  },
  {
   "cell_type": "code",
   "execution_count": null,
   "metadata": {},
   "outputs": [],
   "source": []
  }
 ],
 "metadata": {
  "kernelspec": {
   "display_name": "Python 3",
   "language": "python",
   "name": "python3"
  },
  "language_info": {
   "codemirror_mode": {
    "name": "ipython",
    "version": 3
   },
   "file_extension": ".py",
   "mimetype": "text/x-python",
   "name": "python",
   "nbconvert_exporter": "python",
   "pygments_lexer": "ipython3",
   "version": "3.6.4"
  },
  "toc": {
   "base_numbering": 1,
   "nav_menu": {},
   "number_sections": true,
   "sideBar": true,
   "skip_h1_title": true,
   "title_cell": "Table of Contents",
   "title_sidebar": "Contents",
   "toc_cell": true,
   "toc_position": {},
   "toc_section_display": true,
   "toc_window_display": true
  }
 },
 "nbformat": 4,
 "nbformat_minor": 2
}

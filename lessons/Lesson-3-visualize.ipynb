{
 "cells": [
  {
   "cell_type": "markdown",
   "metadata": {
    "deletable": false,
    "editable": false,
    "toc": true
   },
   "source": [
    "<h1>Table of Contents<span class=\"tocSkip\"></span></h1>\n",
    "<div class=\"toc\"><ul class=\"toc-item\"><li><span><a href=\"#Overview\" data-toc-modified-id=\"Overview-1\"><span class=\"toc-item-num\">1&nbsp;&nbsp;</span>Overview</a></span><ul class=\"toc-item\"><li><span><a href=\"#Software-and-conventions\" data-toc-modified-id=\"Software-and-conventions-1.1\"><span class=\"toc-item-num\">1.1&nbsp;&nbsp;</span>Software and conventions</a></span></li></ul></li><li><span><a href=\"#Introduction-to-our-Python-environment-and-libraries\" data-toc-modified-id=\"Introduction-to-our-Python-environment-and-libraries-2\"><span class=\"toc-item-num\">2&nbsp;&nbsp;</span>Introduction to our Python environment and libraries</a></span><ul class=\"toc-item\"><li><span><a href=\"#Libraries\" data-toc-modified-id=\"Libraries-2.1\"><span class=\"toc-item-num\">2.1&nbsp;&nbsp;</span>Libraries</a></span></li></ul></li><li><span><a href=\"#xarray-datasets\" data-toc-modified-id=\"xarray-datasets-3\"><span class=\"toc-item-num\">3&nbsp;&nbsp;</span>xarray datasets</a></span></li><li><span><a href=\"#Examples\" data-toc-modified-id=\"Examples-4\"><span class=\"toc-item-num\">4&nbsp;&nbsp;</span>Examples</a></span><ul class=\"toc-item\"><li><span><a href=\"#2-d-Spatial-with-no-temporal-component\" data-toc-modified-id=\"2-d-Spatial-with-no-temporal-component-4.1\"><span class=\"toc-item-num\">4.1&nbsp;&nbsp;</span>2-d Spatial with no temporal component</a></span><ul class=\"toc-item\"><li><span><a href=\"#Load-the-libraries\" data-toc-modified-id=\"Load-the-libraries-4.1.1\"><span class=\"toc-item-num\">4.1.1&nbsp;&nbsp;</span>Load the libraries</a></span></li></ul></li><li><span><a href=\"#2-d-Spatial-with-no-temporal-component\" data-toc-modified-id=\"2-d-Spatial-with-no-temporal-component-4.2\"><span class=\"toc-item-num\">4.2&nbsp;&nbsp;</span>2-d Spatial with no temporal component</a></span></li></ul></li></ul></div>"
   ]
  },
  {
   "cell_type": "markdown",
   "metadata": {},
   "source": [
    "# Lesson 3 - Working with WRF-Hydro inputs and outputs\n",
    "## Overview\n",
    "We will **briefly** discuss working with some of the WRF-Hydro input and output (IO) files. The IO files for WRF-Hydro are generally standard netCDF4 files, and thus there are many way to work with these data. In this lesson we will simply cover a few Python libraries and commands that we will need for later lessons in this tutorial. This is by no means a comprehensive guide to working with netCDF files. \n",
    "\n",
    "### Software and conventions\n",
    "The easiest way to run these lessons is via the [wrfhydro/training](https://hub.docker.com/r/wrfhydro/training/) Docker container, which has all software dependencies and data pre-installed.\n",
    "\n",
    "For a complete description of the software environment used for this training please see [Getting started]().\n",
    "\n",
    "You may either execute commands by running each cell of this notebook. Alternatively, you may open a terminal in Jupyter Lab by selecting `New -> Terminal` in your `Home` tab of Jupyter Lab and input the commands manually if you prefer. \n",
    "\n",
    "All paths used in this lesson assume that the lesson materials are located under your home directory in a folder named `wrf-hydro-training`. If your materials are located in another directory, you will not be able to run the commands in this notebook inside Jupyter and will need to type them manually in your terminal session. \n",
    "\n",
    "\n",
    "## Introduction to our Python environment and libraries\n",
    "We will be using Python 3 (3.6) for all exercises in this tutorial. There are also a number of tools developed in R that have similar capabilities, but we choose python here for its ease of use and strong netCDF4 and geospatial processing support.\n",
    "\n",
    "### Libraries\n",
    "We will be using the Miniconda distribution of Python 3 with the Python libraries listed below and their dependencies. Miniconda is a stripped down version of Anaconda, a Python distribution for scientific computing. You can obtain Miniconda from the Continuum Analytics website at https://conda.io/miniconda.html.\n",
    "\n",
    "There are many resources for learning more about miniconda, conda, and Python. Answers to just about any question can be found with a little searching on either Google or Stackoverflow.com\n",
    "\n",
    "Below are the libraries we will be using. These libraries have been installed for you if you are running this tutorial in the [wrfhydro/training](https://hub.docker.com/r/wrfhydro/training/) Docker container. Otherwise, you will need to install miniconda and the required python libraries if running on your own system.\n",
    "\n",
    "**NOTE: The libraries listed below are only the required Python libraries. These Python libraries also require a number of system libraries that you may or may not need to install on your own system. Notably, you WILL need the NETCDF4 system library**\n",
    "\n",
    "**Required Python libraries:** \n",
    "\n",
    "**xarray:** xarray is an open-source project for working with self-describing Common Data Model scientific datasets, primarily in netCDF4 format. It eases many of the pain-points in loading, manipulating, and plotting multidimensional arrays. xarray is well documented and you can learn more by reading their documentation at https://xarray.pydata.org/en/stable/ or https://github.com/pydata/xarray.\n",
    "\n",
    "**netCDF4:** Library for read and writing netCDF files. This is a required dependency for xarray if you will be using.\n",
    "xarray with netCDF4 datasets.\n",
    "\n",
    "## xarray datasets\n",
    "Below is a brief list of the Python commands we will be running, virtually all of the commands will be using the xarray package, indicated by a `xr.` prefix preceding the command.\n",
    "\n",
    "`xr.open_dataset('path-to-netcdf-file')`: Open a single netCDF file in xarray. **Note: This command only opens the netCDF file and reads header information, it does not load any of the data payload into memory** This is a handy feature of netCDF4 and xarray that allows for viewing basic information about very large netCDF files without loading into memory.\n",
    "\n",
    "`xr.open_mfdataset(list-of-netcdf-files or 'path-to-netcdf-directory',concat_dim='time')`: Similar to `xr.open_dataset`, `xr.open_mfdataset` opens multiple netCDF files as a single dataset, concatenating them along the specified dimensions. For timeseries, this dimension would be names something like 'time'. **Note: `xr.open_mfdataset` is not able to concatenate along multiple dimensions and files must be manually concatenated if this is the case. This problem arises frequently with WRF-Hydro outputs because there are two time dimensions if the model is run in forecast mode or if the model is restarted multiple times.**\n",
    "\n",
    "After we have opened the datasets there are a few more methods we will use on these datasets. \n",
    "\n",
    "`my_dataset = xr.open_dataset('path-to-netcdf-file')`\n",
    "\n",
    "`my_dataset.info()`: Print information about the netCDF file, similar to `ncdump` command line utility.\n",
    "\n",
    "`my_dataset.load()`: Load the netCDF4 data payload into memory\n",
    "\n",
    "`my_dataset.myvariable`: Access a variable named `myvariable` from the dataset.\n",
    "\n",
    "`my_dataset.myvariable.plot()`: Plot the variable my variable. Xarray will attempt to guess the axes, and in the case of spatial or timeseries data with only 1 dimension it typically does a good job. However, you may need to specify this manually if not.\n",
    "\n",
    "There is **MUCH** more you can do with `xarray`, but that covers the basic commands we will use in this training.\n",
    "\n",
    "In the next section we will go over a couple of basic examples of plotting some of the outputs from our `~/wrf-hydro-training/output/lesson2/run_gridded_default` simulation that we completed at the end of Lesson 3.\n",
    "\n",
    "## Examples\n",
    "### 2-d Spatial with no temporal component\n",
    "We will start with plotting a couple of variables from our geogrid file, `geo_em_d01.nc`."
   ]
  },
  {
   "cell_type": "code",
   "execution_count": 7,
   "metadata": {
    "deletable": false,
    "editable": false,
    "scrolled": true
   },
   "outputs": [
    {
     "name": "stdout",
     "output_type": "stream",
     "text": [
      "\u001b[0m\u001b[01;36mFulldom_hires.nc\u001b[0m@                     \u001b[01;36mgw_basns_geogrid.prj\u001b[0m@\r\n",
      "\u001b[01;36mGEOGRID_LDASOUT_Spatial_Metadata.nc\u001b[0m@  \u001b[01;36mgw_basns_geogrid.txt\u001b[0m@\r\n",
      "\u001b[01;36mGWBASINS.nc\u001b[0m@                          \u001b[01;36mhydro2dtbl.nc\u001b[0m@\r\n",
      "\u001b[01;36mGWBUCKPARM.nc\u001b[0m@                        \u001b[01;34mlake_shapes\u001b[0m/\r\n",
      "\u001b[01;36mLAKEPARM.nc\u001b[0m@                          \u001b[01;36msoil_properties.nc\u001b[0m@\r\n",
      "\u001b[01;36mgeo_em_d01.nc\u001b[0m@                        \u001b[01;36mwrfinput_d01.nc\u001b[0m@\r\n"
     ]
    }
   ],
   "source": [
    "ls ~/mount/wrf-hydro-training/output/lesson2/run_gridded_default/DOMAIN"
   ]
  },
  {
   "cell_type": "markdown",
   "metadata": {
    "deletable": false,
    "editable": false
   },
   "source": [
    "#### Load the libraries"
   ]
  },
  {
   "cell_type": "code",
   "execution_count": 14,
   "metadata": {
    "deletable": false,
    "editable": false
   },
   "outputs": [],
   "source": [
    "# Import our libraries\n",
    "%matplotlib inline\n",
    "import xarray as xr"
   ]
  },
  {
   "cell_type": "markdown",
   "metadata": {
    "deletable": false,
    "editable": false
   },
   "source": [
    "**Open the geogrid dataset**"
   ]
  },
  {
   "cell_type": "code",
   "execution_count": 15,
   "metadata": {
    "deletable": false,
    "editable": false,
    "scrolled": false
   },
   "outputs": [
    {
     "name": "stderr",
     "output_type": "stream",
     "text": [
      "/home/docker/miniconda3/lib/python3.6/site-packages/xarray/conventions.py:537: SerializationWarning: variable 'LU_INDEX' has _Unsigned attribute but is not of integer type. Ignoring attribute.\n",
      "  stack_char_dim=stack_char_dim)\n"
     ]
    }
   ],
   "source": [
    "# Load a dataset\n",
    "geogrid = xr.open_dataset('~/mount/wrf-hydro-training/output/lesson2/run_gridded_default/DOMAIN/geo_em_d01.nc')"
   ]
  },
  {
   "cell_type": "markdown",
   "metadata": {
    "deletable": false,
    "editable": false
   },
   "source": [
    "**Print some info about the file**"
   ]
  },
  {
   "cell_type": "code",
   "execution_count": 20,
   "metadata": {
    "deletable": false,
    "editable": false,
    "scrolled": false
   },
   "outputs": [
    {
     "name": "stdout",
     "output_type": "stream",
     "text": [
      "xarray.Dataset {\n",
      "dimensions:\n",
      "\tTime = 1 ;\n",
      "\tland_cat = 24 ;\n",
      "\tmonth = 12 ;\n",
      "\tsoil_cat = 16 ;\n",
      "\tsouth_north = 16 ;\n",
      "\tsouth_north_stag = 17 ;\n",
      "\twest_east = 15 ;\n",
      "\twest_east_stag = 16 ;\n",
      "\n",
      "variables:\n",
      "\tfloat32 ALBEDO12M(Time, month, south_north, west_east) ;\n",
      "\t\tALBEDO12M:FieldType = 104 ;\n",
      "\t\tALBEDO12M:MemoryOrder = XYZ ;\n",
      "\t\tALBEDO12M:units = percent ;\n",
      "\t\tALBEDO12M:description = Monthly surface albedo ;\n",
      "\t\tALBEDO12M:stagger = M ;\n",
      "\t\tALBEDO12M:sr_x = 1 ;\n",
      "\t\tALBEDO12M:sr_y = 1 ;\n",
      "\tfloat32 CLAT(Time, south_north, west_east) ;\n",
      "\t\tCLAT:FieldType = 104 ;\n",
      "\t\tCLAT:MemoryOrder = XY  ;\n",
      "\t\tCLAT:units = degrees latitude ;\n",
      "\t\tCLAT:description = Computational latitude on mass grid ;\n",
      "\t\tCLAT:stagger = M ;\n",
      "\t\tCLAT:sr_x = 1 ;\n",
      "\t\tCLAT:sr_y = 1 ;\n",
      "\tfloat32 CLONG(Time, south_north, west_east) ;\n",
      "\t\tCLONG:FieldType = 104 ;\n",
      "\t\tCLONG:MemoryOrder = XY  ;\n",
      "\t\tCLONG:units = degrees longitude ;\n",
      "\t\tCLONG:description = Computational longitude on mass grid ;\n",
      "\t\tCLONG:stagger = M ;\n",
      "\t\tCLONG:sr_x = 1 ;\n",
      "\t\tCLONG:sr_y = 1 ;\n",
      "\tfloat32 CON(Time, south_north, west_east) ;\n",
      "\t\tCON:FieldType = 104 ;\n",
      "\t\tCON:MemoryOrder = XY  ;\n",
      "\t\tCON:units = whoknows ;\n",
      "\t\tCON:description = something ;\n",
      "\t\tCON:stagger = M ;\n",
      "\t\tCON:sr_x = 1 ;\n",
      "\t\tCON:sr_y = 1 ;\n",
      "\tfloat32 COSALPHA(Time, south_north, west_east) ;\n",
      "\t\tCOSALPHA:FieldType = 104 ;\n",
      "\t\tCOSALPHA:MemoryOrder = XY  ;\n",
      "\t\tCOSALPHA:units = none ;\n",
      "\t\tCOSALPHA:description = Cosine of rotation angle ;\n",
      "\t\tCOSALPHA:stagger = M ;\n",
      "\t\tCOSALPHA:sr_x = 1 ;\n",
      "\t\tCOSALPHA:sr_y = 1 ;\n",
      "\tfloat32 E(Time, south_north, west_east) ;\n",
      "\t\tE:FieldType = 104 ;\n",
      "\t\tE:MemoryOrder = XY  ;\n",
      "\t\tE:units = - ;\n",
      "\t\tE:description = Coriolis E parameter ;\n",
      "\t\tE:stagger = M ;\n",
      "\t\tE:sr_x = 1 ;\n",
      "\t\tE:sr_y = 1 ;\n",
      "\tfloat32 F(Time, south_north, west_east) ;\n",
      "\t\tF:FieldType = 104 ;\n",
      "\t\tF:MemoryOrder = XY  ;\n",
      "\t\tF:units = - ;\n",
      "\t\tF:description = Coriolis F parameter ;\n",
      "\t\tF:stagger = M ;\n",
      "\t\tF:sr_x = 1 ;\n",
      "\t\tF:sr_y = 1 ;\n",
      "\tfloat32 GREENFRAC(Time, month, south_north, west_east) ;\n",
      "\t\tGREENFRAC:FieldType = 104 ;\n",
      "\t\tGREENFRAC:MemoryOrder = XYZ ;\n",
      "\t\tGREENFRAC:units = fraction ;\n",
      "\t\tGREENFRAC:description = Monthly green fraction ;\n",
      "\t\tGREENFRAC:stagger = M ;\n",
      "\t\tGREENFRAC:sr_x = 1 ;\n",
      "\t\tGREENFRAC:sr_y = 1 ;\n",
      "\tfloat32 HGT_M(Time, south_north, west_east) ;\n",
      "\t\tHGT_M:FieldType = 104 ;\n",
      "\t\tHGT_M:MemoryOrder = XY  ;\n",
      "\t\tHGT_M:units = meters MSL ;\n",
      "\t\tHGT_M:description = Topography height ;\n",
      "\t\tHGT_M:stagger = M ;\n",
      "\t\tHGT_M:sr_x = 1 ;\n",
      "\t\tHGT_M:sr_y = 1 ;\n",
      "\tfloat32 LAI12M(Time, month, south_north, west_east) ;\n",
      "\t\tLAI12M:FieldType = 104 ;\n",
      "\t\tLAI12M:MemoryOrder = XYZ ;\n",
      "\t\tLAI12M:units = m^2/m^2 ;\n",
      "\t\tLAI12M:description = MODIS LAI ;\n",
      "\t\tLAI12M:stagger = M ;\n",
      "\t\tLAI12M:sr_x = 1 ;\n",
      "\t\tLAI12M:sr_y = 1 ;\n",
      "\tfloat32 LAKE_DEPTH(Time, south_north, west_east) ;\n",
      "\t\tLAKE_DEPTH:FieldType = 104 ;\n",
      "\t\tLAKE_DEPTH:MemoryOrder = XY  ;\n",
      "\t\tLAKE_DEPTH:units = meters MSL ;\n",
      "\t\tLAKE_DEPTH:description = Topography height ;\n",
      "\t\tLAKE_DEPTH:stagger = M ;\n",
      "\t\tLAKE_DEPTH:sr_x = 1 ;\n",
      "\t\tLAKE_DEPTH:sr_y = 1 ;\n",
      "\tfloat32 LANDMASK(Time, south_north, west_east) ;\n",
      "\t\tLANDMASK:FieldType = 104 ;\n",
      "\t\tLANDMASK:MemoryOrder = XY  ;\n",
      "\t\tLANDMASK:description = Landmask : 1=land, 0=water ;\n",
      "\t\tLANDMASK:sr_x = 1 ;\n",
      "\t\tLANDMASK:sr_y = 1 ;\n",
      "\t\tLANDMASK:stagger = M ;\n",
      "\t\tLANDMASK:units = none ;\n",
      "\tfloat32 LANDUSEF(Time, land_cat, south_north, west_east) ;\n",
      "\t\tLANDUSEF:FieldType = 104 ;\n",
      "\t\tLANDUSEF:MemoryOrder = XYZ ;\n",
      "\t\tLANDUSEF:units = category ;\n",
      "\t\tLANDUSEF:description = 24-category USGS landuse ;\n",
      "\t\tLANDUSEF:stagger = M ;\n",
      "\t\tLANDUSEF:sr_x = 1 ;\n",
      "\t\tLANDUSEF:sr_y = 1 ;\n",
      "\tfloat32 LU_INDEX(Time, south_north, west_east) ;\n",
      "\t\tLU_INDEX:COLOR_TABLE_RULES_COUNT = 5 ;\n",
      "\t\tLU_INDEX:COLOR_TABLE_RULE_RGB_0 = 1.000000e+00 5.600000e+00 255 255 0 0 255 0 ;\n",
      "\t\tLU_INDEX:COLOR_TABLE_RULE_RGB_1 = 5.600000e+00 1.020000e+01 0 255 0 0 255 255 ;\n",
      "\t\tLU_INDEX:COLOR_TABLE_RULE_RGB_2 = 1.020000e+01 1.480000e+01 0 255 255 0 0 255 ;\n",
      "\t\tLU_INDEX:COLOR_TABLE_RULE_RGB_3 = 1.480000e+01 1.940000e+01 0 0 255 255 0 255 ;\n",
      "\t\tLU_INDEX:COLOR_TABLE_RULE_RGB_4 = 1.940000e+01 2.400000e+01 255 0 255 255 0 0 ;\n",
      "\t\tLU_INDEX:FieldType = 104 ;\n",
      "\t\tLU_INDEX:MemoryOrder = XY  ;\n",
      "\t\tLU_INDEX:description = Dominant category ;\n",
      "\t\tLU_INDEX:grid_mapping = lambert_conformal_conic ;\n",
      "\t\tLU_INDEX:sr_x = 1 ;\n",
      "\t\tLU_INDEX:sr_y = 1 ;\n",
      "\t\tLU_INDEX:stagger = M ;\n",
      "\t\tLU_INDEX:units = category ;\n",
      "\t\tLU_INDEX:valid_range = [  0 255] ;\n",
      "\tfloat32 MAPFAC_M(Time, south_north, west_east) ;\n",
      "\t\tMAPFAC_M:FieldType = 104 ;\n",
      "\t\tMAPFAC_M:MemoryOrder = XY  ;\n",
      "\t\tMAPFAC_M:units = none ;\n",
      "\t\tMAPFAC_M:description = Mapfactor on mass grid ;\n",
      "\t\tMAPFAC_M:stagger = M ;\n",
      "\t\tMAPFAC_M:sr_x = 1 ;\n",
      "\t\tMAPFAC_M:sr_y = 1 ;\n",
      "\tfloat32 MAPFAC_MX(Time, south_north, west_east) ;\n",
      "\t\tMAPFAC_MX:FieldType = 104 ;\n",
      "\t\tMAPFAC_MX:MemoryOrder = XY  ;\n",
      "\t\tMAPFAC_MX:units = none ;\n",
      "\t\tMAPFAC_MX:description = Mapfactor (x-dir) on mass grid ;\n",
      "\t\tMAPFAC_MX:stagger = M ;\n",
      "\t\tMAPFAC_MX:sr_x = 1 ;\n",
      "\t\tMAPFAC_MX:sr_y = 1 ;\n",
      "\tfloat32 MAPFAC_MY(Time, south_north, west_east) ;\n",
      "\t\tMAPFAC_MY:FieldType = 104 ;\n",
      "\t\tMAPFAC_MY:MemoryOrder = XY  ;\n",
      "\t\tMAPFAC_MY:units = none ;\n",
      "\t\tMAPFAC_MY:description = Mapfactor (y-dir) on mass grid ;\n",
      "\t\tMAPFAC_MY:stagger = M ;\n",
      "\t\tMAPFAC_MY:sr_x = 1 ;\n",
      "\t\tMAPFAC_MY:sr_y = 1 ;\n",
      "\tfloat32 MAPFAC_U(Time, south_north, west_east_stag) ;\n",
      "\t\tMAPFAC_U:FieldType = 104 ;\n",
      "\t\tMAPFAC_U:MemoryOrder = XY  ;\n",
      "\t\tMAPFAC_U:units = none ;\n",
      "\t\tMAPFAC_U:description = Mapfactor on U grid ;\n",
      "\t\tMAPFAC_U:stagger = U ;\n",
      "\t\tMAPFAC_U:sr_x = 1 ;\n",
      "\t\tMAPFAC_U:sr_y = 1 ;\n",
      "\tfloat32 MAPFAC_UX(Time, south_north, west_east_stag) ;\n",
      "\t\tMAPFAC_UX:FieldType = 104 ;\n",
      "\t\tMAPFAC_UX:MemoryOrder = XY  ;\n",
      "\t\tMAPFAC_UX:units = none ;\n",
      "\t\tMAPFAC_UX:description = Mapfactor (x-dir) on U grid ;\n",
      "\t\tMAPFAC_UX:stagger = U ;\n",
      "\t\tMAPFAC_UX:sr_x = 1 ;\n",
      "\t\tMAPFAC_UX:sr_y = 1 ;\n",
      "\tfloat32 MAPFAC_UY(Time, south_north, west_east_stag) ;\n",
      "\t\tMAPFAC_UY:FieldType = 104 ;\n",
      "\t\tMAPFAC_UY:MemoryOrder = XY  ;\n",
      "\t\tMAPFAC_UY:units = none ;\n",
      "\t\tMAPFAC_UY:description = Mapfactor (y-dir) on U grid ;\n",
      "\t\tMAPFAC_UY:stagger = U ;\n",
      "\t\tMAPFAC_UY:sr_x = 1 ;\n",
      "\t\tMAPFAC_UY:sr_y = 1 ;\n",
      "\tfloat32 MAPFAC_V(Time, south_north_stag, west_east) ;\n",
      "\t\tMAPFAC_V:FieldType = 104 ;\n",
      "\t\tMAPFAC_V:MemoryOrder = XY  ;\n",
      "\t\tMAPFAC_V:units = none ;\n",
      "\t\tMAPFAC_V:description = Mapfactor on V grid ;\n",
      "\t\tMAPFAC_V:stagger = V ;\n",
      "\t\tMAPFAC_V:sr_x = 1 ;\n",
      "\t\tMAPFAC_V:sr_y = 1 ;\n",
      "\tfloat32 MAPFAC_VX(Time, south_north_stag, west_east) ;\n",
      "\t\tMAPFAC_VX:FieldType = 104 ;\n",
      "\t\tMAPFAC_VX:MemoryOrder = XY  ;\n",
      "\t\tMAPFAC_VX:units = none ;\n",
      "\t\tMAPFAC_VX:description = Mapfactor (x-dir) on V grid ;\n",
      "\t\tMAPFAC_VX:stagger = V ;\n",
      "\t\tMAPFAC_VX:sr_x = 1 ;\n",
      "\t\tMAPFAC_VX:sr_y = 1 ;\n",
      "\tfloat32 MAPFAC_VY(Time, south_north_stag, west_east) ;\n",
      "\t\tMAPFAC_VY:FieldType = 104 ;\n",
      "\t\tMAPFAC_VY:MemoryOrder = XY  ;\n",
      "\t\tMAPFAC_VY:units = none ;\n",
      "\t\tMAPFAC_VY:description = Mapfactor (y-dir) on V grid ;\n",
      "\t\tMAPFAC_VY:stagger = V ;\n",
      "\t\tMAPFAC_VY:sr_x = 1 ;\n",
      "\t\tMAPFAC_VY:sr_y = 1 ;\n",
      "\tfloat32 OA1(Time, south_north, west_east) ;\n",
      "\t\tOA1:FieldType = 104 ;\n",
      "\t\tOA1:MemoryOrder = XY  ;\n",
      "\t\tOA1:units = whoknows ;\n",
      "\t\tOA1:description = something ;\n",
      "\t\tOA1:stagger = M ;\n",
      "\t\tOA1:sr_x = 1 ;\n",
      "\t\tOA1:sr_y = 1 ;\n",
      "\tfloat32 OA2(Time, south_north, west_east) ;\n",
      "\t\tOA2:FieldType = 104 ;\n",
      "\t\tOA2:MemoryOrder = XY  ;\n",
      "\t\tOA2:units = whoknows ;\n",
      "\t\tOA2:description = something ;\n",
      "\t\tOA2:stagger = M ;\n",
      "\t\tOA2:sr_x = 1 ;\n",
      "\t\tOA2:sr_y = 1 ;\n",
      "\tfloat32 OA3(Time, south_north, west_east) ;\n",
      "\t\tOA3:FieldType = 104 ;\n",
      "\t\tOA3:MemoryOrder = XY  ;\n",
      "\t\tOA3:units = whoknows ;\n",
      "\t\tOA3:description = something ;\n",
      "\t\tOA3:stagger = M ;\n",
      "\t\tOA3:sr_x = 1 ;\n",
      "\t\tOA3:sr_y = 1 ;\n",
      "\tfloat32 OA4(Time, south_north, west_east) ;\n",
      "\t\tOA4:FieldType = 104 ;\n",
      "\t\tOA4:MemoryOrder = XY  ;\n",
      "\t\tOA4:units = whoknows ;\n",
      "\t\tOA4:description = something ;\n",
      "\t\tOA4:stagger = M ;\n",
      "\t\tOA4:sr_x = 1 ;\n",
      "\t\tOA4:sr_y = 1 ;\n",
      "\tfloat32 OL1(Time, south_north, west_east) ;\n",
      "\t\tOL1:FieldType = 104 ;\n",
      "\t\tOL1:MemoryOrder = XY  ;\n",
      "\t\tOL1:units = whoknows ;\n",
      "\t\tOL1:description = something ;\n",
      "\t\tOL1:stagger = M ;\n",
      "\t\tOL1:sr_x = 1 ;\n",
      "\t\tOL1:sr_y = 1 ;\n",
      "\tfloat32 OL2(Time, south_north, west_east) ;\n",
      "\t\tOL2:FieldType = 104 ;\n",
      "\t\tOL2:MemoryOrder = XY  ;\n",
      "\t\tOL2:units = whoknows ;\n",
      "\t\tOL2:description = something ;\n",
      "\t\tOL2:stagger = M ;\n",
      "\t\tOL2:sr_x = 1 ;\n",
      "\t\tOL2:sr_y = 1 ;\n",
      "\tfloat32 OL3(Time, south_north, west_east) ;\n",
      "\t\tOL3:FieldType = 104 ;\n",
      "\t\tOL3:MemoryOrder = XY  ;\n",
      "\t\tOL3:units = whoknows ;\n",
      "\t\tOL3:description = something ;\n",
      "\t\tOL3:stagger = M ;\n",
      "\t\tOL3:sr_x = 1 ;\n",
      "\t\tOL3:sr_y = 1 ;\n",
      "\tfloat32 OL4(Time, south_north, west_east) ;\n",
      "\t\tOL4:FieldType = 104 ;\n",
      "\t\tOL4:MemoryOrder = XY  ;\n",
      "\t\tOL4:units = whoknows ;\n",
      "\t\tOL4:description = something ;\n",
      "\t\tOL4:stagger = M ;\n",
      "\t\tOL4:sr_x = 1 ;\n",
      "\t\tOL4:sr_y = 1 ;\n",
      "\tfloat32 SCB_DOM(Time, south_north, west_east) ;\n",
      "\t\tSCB_DOM:FieldType = 104 ;\n",
      "\t\tSCB_DOM:MemoryOrder = XY  ;\n",
      "\t\tSCB_DOM:units = category ;\n",
      "\t\tSCB_DOM:description = Dominant category ;\n",
      "\t\tSCB_DOM:stagger = M ;\n",
      "\t\tSCB_DOM:sr_x = 1 ;\n",
      "\t\tSCB_DOM:sr_y = 1 ;\n",
      "\tfloat32 SCT_DOM(Time, south_north, west_east) ;\n",
      "\t\tSCT_DOM:FieldType = 104 ;\n",
      "\t\tSCT_DOM:MemoryOrder = XY  ;\n",
      "\t\tSCT_DOM:units = category ;\n",
      "\t\tSCT_DOM:description = Dominant category ;\n",
      "\t\tSCT_DOM:stagger = M ;\n",
      "\t\tSCT_DOM:sr_x = 1 ;\n",
      "\t\tSCT_DOM:sr_y = 1 ;\n",
      "\tfloat32 SINALPHA(Time, south_north, west_east) ;\n",
      "\t\tSINALPHA:FieldType = 104 ;\n",
      "\t\tSINALPHA:MemoryOrder = XY  ;\n",
      "\t\tSINALPHA:units = none ;\n",
      "\t\tSINALPHA:description = Sine of rotation angle ;\n",
      "\t\tSINALPHA:stagger = M ;\n",
      "\t\tSINALPHA:sr_x = 1 ;\n",
      "\t\tSINALPHA:sr_y = 1 ;\n",
      "\tfloat32 SLOPECAT(Time, south_north, west_east) ;\n",
      "\t\tSLOPECAT:FieldType = 104 ;\n",
      "\t\tSLOPECAT:MemoryOrder = XY  ;\n",
      "\t\tSLOPECAT:units = category ;\n",
      "\t\tSLOPECAT:description = Dominant category ;\n",
      "\t\tSLOPECAT:stagger = M ;\n",
      "\t\tSLOPECAT:sr_x = 1 ;\n",
      "\t\tSLOPECAT:sr_y = 1 ;\n",
      "\tfloat32 SNOALB(Time, south_north, west_east) ;\n",
      "\t\tSNOALB:FieldType = 104 ;\n",
      "\t\tSNOALB:MemoryOrder = XY  ;\n",
      "\t\tSNOALB:units = percent ;\n",
      "\t\tSNOALB:description = Maximum snow albedo ;\n",
      "\t\tSNOALB:stagger = M ;\n",
      "\t\tSNOALB:sr_x = 1 ;\n",
      "\t\tSNOALB:sr_y = 1 ;\n",
      "\tfloat32 SOILCBOT(Time, soil_cat, south_north, west_east) ;\n",
      "\t\tSOILCBOT:FieldType = 104 ;\n",
      "\t\tSOILCBOT:MemoryOrder = XYZ ;\n",
      "\t\tSOILCBOT:units = category ;\n",
      "\t\tSOILCBOT:description = 16-category bottom-layer soil type ;\n",
      "\t\tSOILCBOT:stagger = M ;\n",
      "\t\tSOILCBOT:sr_x = 1 ;\n",
      "\t\tSOILCBOT:sr_y = 1 ;\n",
      "\tfloat32 SOILCTOP(Time, soil_cat, south_north, west_east) ;\n",
      "\t\tSOILCTOP:FieldType = 104 ;\n",
      "\t\tSOILCTOP:MemoryOrder = XYZ ;\n",
      "\t\tSOILCTOP:units = category ;\n",
      "\t\tSOILCTOP:description = 16-category top-layer soil type ;\n",
      "\t\tSOILCTOP:stagger = M ;\n",
      "\t\tSOILCTOP:sr_x = 1 ;\n",
      "\t\tSOILCTOP:sr_y = 1 ;\n",
      "\tfloat32 SOILTEMP(Time, south_north, west_east) ;\n",
      "\t\tSOILTEMP:FieldType = 104 ;\n",
      "\t\tSOILTEMP:MemoryOrder = XY  ;\n",
      "\t\tSOILTEMP:units = Kelvin ;\n",
      "\t\tSOILTEMP:description = Annual mean deep soil temperature ;\n",
      "\t\tSOILTEMP:stagger = M ;\n",
      "\t\tSOILTEMP:sr_x = 1 ;\n",
      "\t\tSOILTEMP:sr_y = 1 ;\n",
      "\t|S19 Times(Time) ;\n",
      "\tfloat32 VAR(Time, south_north, west_east) ;\n",
      "\t\tVAR:FieldType = 104 ;\n",
      "\t\tVAR:MemoryOrder = XY  ;\n",
      "\t\tVAR:units = whoknows ;\n",
      "\t\tVAR:description = something ;\n",
      "\t\tVAR:stagger = M ;\n",
      "\t\tVAR:sr_x = 1 ;\n",
      "\t\tVAR:sr_y = 1 ;\n",
      "\tfloat32 VAR_SSO(Time, south_north, west_east) ;\n",
      "\t\tVAR_SSO:FieldType = 104 ;\n",
      "\t\tVAR_SSO:MemoryOrder = XY  ;\n",
      "\t\tVAR_SSO:units = meters2 MSL ;\n",
      "\t\tVAR_SSO:description = Variance of Subgrid Scale Orography ;\n",
      "\t\tVAR_SSO:stagger = M ;\n",
      "\t\tVAR_SSO:sr_x = 1 ;\n",
      "\t\tVAR_SSO:sr_y = 1 ;\n",
      "\tfloat32 XLAT_C(Time, south_north_stag, west_east_stag) ;\n",
      "\t\tXLAT_C:FieldType = 104 ;\n",
      "\t\tXLAT_C:MemoryOrder = XY  ;\n",
      "\t\tXLAT_C:units = degrees latitude ;\n",
      "\t\tXLAT_C:description = Latitude at grid cell corners ;\n",
      "\t\tXLAT_C:stagger = CORNER ;\n",
      "\t\tXLAT_C:sr_x = 1 ;\n",
      "\t\tXLAT_C:sr_y = 1 ;\n",
      "\tfloat32 XLAT_M(Time, south_north, west_east) ;\n",
      "\t\tXLAT_M:FieldType = 104 ;\n",
      "\t\tXLAT_M:MemoryOrder = XY  ;\n",
      "\t\tXLAT_M:units = degrees latitude ;\n",
      "\t\tXLAT_M:description = Latitude on mass grid ;\n",
      "\t\tXLAT_M:stagger = M ;\n",
      "\t\tXLAT_M:sr_x = 1 ;\n",
      "\t\tXLAT_M:sr_y = 1 ;\n",
      "\tfloat32 XLAT_U(Time, south_north, west_east_stag) ;\n",
      "\t\tXLAT_U:FieldType = 104 ;\n",
      "\t\tXLAT_U:MemoryOrder = XY  ;\n",
      "\t\tXLAT_U:units = degrees latitude ;\n",
      "\t\tXLAT_U:description = Latitude on U grid ;\n",
      "\t\tXLAT_U:stagger = U ;\n",
      "\t\tXLAT_U:sr_x = 1 ;\n",
      "\t\tXLAT_U:sr_y = 1 ;\n",
      "\tfloat32 XLAT_V(Time, south_north_stag, west_east) ;\n",
      "\t\tXLAT_V:FieldType = 104 ;\n",
      "\t\tXLAT_V:MemoryOrder = XY  ;\n",
      "\t\tXLAT_V:units = degrees latitude ;\n",
      "\t\tXLAT_V:description = Latitude on V grid ;\n",
      "\t\tXLAT_V:stagger = V ;\n",
      "\t\tXLAT_V:sr_x = 1 ;\n",
      "\t\tXLAT_V:sr_y = 1 ;\n",
      "\tfloat32 XLONG_C(Time, south_north_stag, west_east_stag) ;\n",
      "\t\tXLONG_C:FieldType = 104 ;\n",
      "\t\tXLONG_C:MemoryOrder = XY  ;\n",
      "\t\tXLONG_C:units = degrees longitude ;\n",
      "\t\tXLONG_C:description = Longitude at grid cell corners ;\n",
      "\t\tXLONG_C:stagger = CORNER ;\n",
      "\t\tXLONG_C:sr_x = 1 ;\n",
      "\t\tXLONG_C:sr_y = 1 ;\n",
      "\tfloat32 XLONG_M(Time, south_north, west_east) ;\n",
      "\t\tXLONG_M:FieldType = 104 ;\n",
      "\t\tXLONG_M:MemoryOrder = XY  ;\n",
      "\t\tXLONG_M:units = degrees longitude ;\n",
      "\t\tXLONG_M:description = Longitude on mass grid ;\n",
      "\t\tXLONG_M:stagger = M ;\n",
      "\t\tXLONG_M:sr_x = 1 ;\n",
      "\t\tXLONG_M:sr_y = 1 ;\n",
      "\tfloat32 XLONG_U(Time, south_north, west_east_stag) ;\n",
      "\t\tXLONG_U:FieldType = 104 ;\n",
      "\t\tXLONG_U:MemoryOrder = XY  ;\n",
      "\t\tXLONG_U:units = degrees longitude ;\n",
      "\t\tXLONG_U:description = Longitude on U grid ;\n",
      "\t\tXLONG_U:stagger = U ;\n",
      "\t\tXLONG_U:sr_x = 1 ;\n",
      "\t\tXLONG_U:sr_y = 1 ;\n",
      "\tfloat32 XLONG_V(Time, south_north_stag, west_east) ;\n",
      "\t\tXLONG_V:FieldType = 104 ;\n",
      "\t\tXLONG_V:MemoryOrder = XY  ;\n",
      "\t\tXLONG_V:units = degrees longitude ;\n",
      "\t\tXLONG_V:description = Longitude on V grid ;\n",
      "\t\tXLONG_V:stagger = V ;\n",
      "\t\tXLONG_V:sr_x = 1 ;\n",
      "\t\tXLONG_V:sr_y = 1 ;\n",
      "\n",
      "// global attributes:\n",
      "\t:TITLE = OUTPUT FROM GEOGRID V3.6 ;\n",
      "\t:SIMULATION_START_DATE = 0000-00-00_00:00:00 ;\n",
      "\t:WEST-EAST_GRID_DIMENSION = 16 ;\n",
      "\t:SOUTH-NORTH_GRID_DIMENSION = 17 ;\n",
      "\t:BOTTOM-TOP_GRID_DIMENSION = 0 ;\n",
      "\t:WEST-EAST_PATCH_START_UNSTAG = 1 ;\n",
      "\t:WEST-EAST_PATCH_END_UNSTAG = 15 ;\n",
      "\t:SOUTH-NORTH_PATCH_START_UNSTAG = 1 ;\n",
      "\t:SOUTH-NORTH_PATCH_END_UNSTAG = 16 ;\n",
      "\t:GRIDTYPE = C ;\n",
      "\t:DX = 1000.0 ;\n",
      "\t:DY = 1000.0 ;\n",
      "\t:DYN_OPT = 2 ;\n",
      "\t:CEN_LAT = 40.00000762939453 ;\n",
      "\t:CEN_LON = -97.0 ;\n",
      "\t:TRUELAT1 = 30.0 ;\n",
      "\t:TRUELAT2 = 60.0 ;\n",
      "\t:MOAD_CEN_LAT = 40.00000762939453 ;\n",
      "\t:STAND_LON = -97.0 ;\n",
      "\t:POLE_LAT = 90.0 ;\n",
      "\t:POLE_LON = 0.0 ;\n",
      "\t:corner_lats = [41.422813 41.556362 41.51907  41.385605 41.424133 41.557693 41.51774\n",
      " 41.384277 41.418358 41.56082  41.523525 41.381153 41.41969  41.56216\n",
      " 41.522198 41.379833] ;\n",
      "\t:corner_lons = [-73.85333  -73.80026  -73.63379  -73.687195 -73.85928  -73.80621\n",
      " -73.62784  -73.681274 -73.8551   -73.79849  -73.63202  -73.688995\n",
      " -73.86105  -73.80444  -73.62604  -73.683044] ;\n",
      "\t:MAP_PROJ = 1 ;\n",
      "\t:MMINLU = USGS ;\n",
      "\t:NUM_LAND_CAT = 24 ;\n",
      "\t:ISWATER = 16 ;\n",
      "\t:ISLAKE = -1 ;\n",
      "\t:ISICE = 24 ;\n",
      "\t:ISURBAN = 1 ;\n",
      "\t:ISOILWATER = 14 ;\n",
      "\t:grid_id = 1 ;\n",
      "\t:parent_id = 1 ;\n",
      "\t:i_parent_start = 1 ;\n",
      "\t:j_parent_start = 1 ;\n",
      "\t:i_parent_end = 16 ;\n",
      "\t:j_parent_end = 17 ;\n",
      "\t:parent_grid_ratio = 1 ;\n",
      "\t:sr_x = 1 ;\n",
      "\t:sr_y = 1 ;\n",
      "\t:FLAG_MF_XY = 1 ;\n",
      "\t:FLAG_LAI12M = 1 ;\n",
      "\t:FLAG_LAKE_DEPTH = 1 ;\n",
      "\t:history = Mon Feb  5 13:23:26 2018: ncatted -O -a corner_lats,global,o,f,41.4228134155273,41.5563621520996,41.5190696716309,41.3856048583984,41.4241333007812,41.5576934814453,41.5177383422852,41.38427734375,41.4183578491211,41.5608215332031,41.5235252380371,41.3811531066895,41.4196891784668,41.5621604919434,41.5221977233887,41.3798332214355 /glade/p/nwc/arezoo/test_case/0137462010/geo_em.nc\n",
      "Mon Feb  5 13:23:25 2018: ncatted -O -a corner_lons,global,o,f,-73.8533325195312,-73.8002624511719,-73.6337890625,-73.6871948242188,-73.8592834472656,-73.8062133789062,-73.6278381347656,-73.6812744140625,-73.8551025390625,-73.7984924316406,-73.6320190429688,-73.6889953613281,-73.8610534667969,-73.804443359375,-73.6260375976562,-73.6830444335938 /glade/p/nwc/arezoo/test_case/0137462010/geo_em.nc\n",
      "Mon Feb  5 13:22:43 2018: ncks -d west_east,4146,4160 -d south_north,2341,2356 -d west_east_stag,4146,4161 -d south_north_stag,2341,2357 /glade/p/nwc/nwmv12_finals/DOMAIN/geo_em.d01.nc.conus_1km_nlcd11_glacfix_soilctopfix_XLATC_XLONC /glade/p/nwc/arezoo/test_case/0137462010/geo_em.nc\n",
      "Fri Dec 29 11:17:44 2017: ncks -A -v XLONG_C /glade/scratch/barlage/nwm/geo_em.d01.nc geo_em.d01.nc.conus_1km_nlcd11_glacfix_soilctopfix_XLATC_XLONC\n",
      "Fri Dec 29 11:16:15 2017: ncks -A -v XLAT_C /glade/scratch/barlage/nwm/geo_em.d01.nc geo_em.d01.nc.conus_1km_nlcd11_glacfix_soilctopfix_XLATC_XLONC\n",
      "Sat Apr 29 22:02:59 2017: ncks -A -v LANDUSEF landusef_new.nc geo_em.d01.nc.conus_1km_nlcd11_glacfix_soilctopfix\n",
      "Sat Apr 29 22:02:12 2017: ncks -A -v SOILCTOP soilctop_new.nc geo_em.d01.nc.conus_1km_nlcd11_glacfix_soilctopfix\n",
      "Sat Apr 29 21:59:20 2017: ncks -x -v SOILCTOP,LANDUSEF geo_em.d01.nc.conus_1km_nlcd11_glacfix_soilctopfix geo_em.d01.nc.conus_1km_nlcd11_glacfix_soilctopfix\n",
      "Sat Dec  5 16:05:33 2015: ncap2 -s where(LU_INDEX==24) LU_INDEX=23 geo_em.d01.nc.conus_1km_nlcd11 geo_em.d01.nc.conus_1km_nlcd11_glacfix\n",
      "Wed Dec  2 17:47:01 2015: ncap2 -s where(LU_INDEX==16) LANDMASK=0; elsewhere LANDMASK=1 geo_em.d01.nc.conus_1km_nlcd11 geo_em.d01.nc.conus_1km_nlcd11a\n",
      "Wed Dec  2 17:39:34 2015: ncks -A -v LU_INDEX out_tmp2.nc geo_em.d01.nc.conus_1km_nlcd11 ;\n",
      "\t:NCO = \"4.6.2\" ;\n",
      "\t:nco_openmp_thread_number = 1 ;\n",
      "\t:history_of_appended_files = Fri Dec 29 11:17:44 2017: Appended file /glade/scratch/barlage/nwm/geo_em.d01.nc had no \"history\" attribute\n",
      "Fri Dec 29 11:16:15 2017: Appended file /glade/scratch/barlage/nwm/geo_em.d01.nc had no \"history\" attribute\n",
      "Sat Apr 29 22:02:59 2017: Appended file landusef_new.nc had following \"history\" attribute:\n",
      "Sat Apr 29 21:23:52 2017: ncks -v LANDUSEF geo_em.d01.nc.conus_1km_nlcd11_glacfix landusef_orig.nc\n",
      "Sat Dec  5 16:05:33 2015: ncap2 -s where(LU_INDEX==24) LU_INDEX=23 geo_em.d01.nc.conus_1km_nlcd11 geo_em.d01.nc.conus_1km_nlcd11_glacfix\n",
      "Wed Dec  2 17:47:01 2015: ncap2 -s where(LU_INDEX==16) LANDMASK=0; elsewhere LANDMASK=1 geo_em.d01.nc.conus_1km_nlcd11 geo_em.d01.nc.conus_1km_nlcd11a\n",
      "Wed Dec  2 17:39:34 2015: ncks -A -v LU_INDEX out_tmp2.nc geo_em.d01.nc.conus_1km_nlcd11\n",
      "Sat Apr 29 22:02:12 2017: Appended file soilctop_new.nc had following \"history\" attribute:\n",
      "Sat Apr 29 16:08:07 2017: ncks -v SOILCTOP geo_em.d01.nc.conus_1km_nlcd11_glacfix soilctop_orig.nc\n",
      "Sat Dec  5 16:05:33 2015: ncap2 -s where(LU_INDEX==24) LU_INDEX=23 geo_em.d01.nc.conus_1km_nlcd11 geo_em.d01.nc.conus_1km_nlcd11_glacfix\n",
      "Wed Dec  2 17:47:01 2015: ncap2 -s where(LU_INDEX==16) LANDMASK=0; elsewhere LANDMASK=1 geo_em.d01.nc.conus_1km_nlcd11 geo_em.d01.nc.conus_1km_nlcd11a\n",
      "Wed Dec  2 17:39:34 2015: ncks -A -v LU_INDEX out_tmp2.nc geo_em.d01.nc.conus_1km_nlcd11\n",
      " ;\n",
      "}"
     ]
    }
   ],
   "source": [
    "geogrid.info()"
   ]
  },
  {
   "cell_type": "markdown",
   "metadata": {
    "deletable": false,
    "editable": false
   },
   "source": [
    "**Plot the HGT_M variable, the topographic height in meters for each grid cell**"
   ]
  },
  {
   "cell_type": "code",
   "execution_count": 25,
   "metadata": {
    "deletable": false,
    "editable": false
   },
   "outputs": [
    {
     "data": {
      "text/plain": [
       "<matplotlib.collections.QuadMesh at 0x7f18e73d6748>"
      ]
     },
     "execution_count": 25,
     "metadata": {},
     "output_type": "execute_result"
    },
    {
     "data": {
      "image/png": "[encoded data removed]",
      "text/plain": [
       "<Figure size 432x288 with 2 Axes>"
      ]
     },
     "metadata": {},
     "output_type": "display_data"
    }
   ],
   "source": [
    "geogrid.HGT_M.plot()"
   ]
  },
  {
   "cell_type": "markdown",
   "metadata": {
    "deletable": false,
    "editable": false
   },
   "source": [
    "**Plot the LU_INDEX variable, the dominant land-use class index for each grid cell**"
   ]
  },
  {
   "cell_type": "code",
   "execution_count": 26,
   "metadata": {
    "deletable": false,
    "editable": false
   },
   "outputs": [
    {
     "data": {
      "text/plain": [
       "<matplotlib.collections.QuadMesh at 0x7f18e738dd68>"
      ]
     },
     "execution_count": 26,
     "metadata": {},
     "output_type": "execute_result"
    },
    {
     "data": {
      "image/png": "[encoded data removed]",
      "text/plain": [
       "<Figure size 432x288 with 2 Axes>"
      ]
     },
     "metadata": {},
     "output_type": "display_data"
    }
   ],
   "source": [
    "geogrid.LU_INDEX.plot()"
   ]
  },
  {
   "cell_type": "markdown",
   "metadata": {
    "deletable": false,
    "editable": false
   },
   "source": [
    "### 2-d Spatial with no temporal component\n",
    "Now we will plot a timeseries from multiple netcdf files using the `open_mfdataset` command. We will plot a hydrograph at a gage point.\n",
    "\n"
   ]
  },
  {
   "cell_type": "markdown",
   "metadata": {
    "deletable": false,
    "editable": false
   },
   "source": [
    "**Open the chanobs multi-file dataset**\n",
    "We are going to use the `*CHANOBS*` files because it will limit the number of grid cells to only those which we have specified have a gage. We will discuss more about output files in Lesson 4.\n",
    "\n",
    "**NOTE: `open_mfdataset` supports wildcards for pattern matching but requires that the path be absolute with no tilde**\n",
    "\n",
    "We will use wildcards `*` to open all files that contain 'CHANOBS' in the name.\n",
    "\n",
    "**NOTE: Because we are opening multiple files, we need to tell xarray how to concatenate them. Because this is a timeseries with time dimension called 'time' we will specify 'time' as the concatenation dimension."
   ]
  },
  {
   "cell_type": "code",
   "execution_count": 34,
   "metadata": {
    "deletable": false,
    "editable": false
   },
   "outputs": [],
   "source": [
    "chanobs = xr.open_mfdataset('/home/docker/mount/wrf-hydro-training/output/lesson2/run_gridded_default/*CHANOBS*',\n",
    "                            concat_dim='time')"
   ]
  },
  {
   "cell_type": "markdown",
   "metadata": {
    "deletable": false,
    "editable": false
   },
   "source": [
    "**Print some info about the file**"
   ]
  },
  {
   "cell_type": "code",
   "execution_count": 35,
   "metadata": {
    "deletable": false,
    "editable": false
   },
   "outputs": [
    {
     "name": "stdout",
     "output_type": "stream",
     "text": [
      "xarray.Dataset {\n",
      "dimensions:\n",
      "\tfeature_id = 3 ;\n",
      "\treference_time = 1 ;\n",
      "\ttime = 168 ;\n",
      "\n",
      "variables:\n",
      "\tdatetime64[ns] reference_time(reference_time) ;\n",
      "\t\treference_time:long_name = model initialization time ;\n",
      "\t\treference_time:standard_name = forecast_reference_time ;\n",
      "\tint32 feature_id(feature_id) ;\n",
      "\t\tfeature_id:long_name = User Specified Forecast Points ;\n",
      "\t\tfeature_id:comment = Forecast Points Specified in Geogrid file ;\n",
      "\t\tfeature_id:cf_role = timeseries_id ;\n",
      "\tfloat32 latitude(feature_id) ;\n",
      "\t\tlatitude:long_name = Feature latitude ;\n",
      "\t\tlatitude:standard_name = latitude ;\n",
      "\t\tlatitude:units = degrees_north ;\n",
      "\tfloat32 longitude(feature_id) ;\n",
      "\t\tlongitude:long_name = Feature longitude ;\n",
      "\t\tlongitude:standard_name = longitude ;\n",
      "\t\tlongitude:units = degrees_east ;\n",
      "\tdatetime64[ns] time(time) ;\n",
      "\t\ttime:long_name = valid output time ;\n",
      "\t\ttime:standard_name = time ;\n",
      "\t|S1 crs(time) ;\n",
      "\t\tcrs:transform_name = latitude longitude ;\n",
      "\t\tcrs:grid_mapping_name = latitude longitude ;\n",
      "\t\tcrs:esri_pe_string = GEOGCS[\"GCS_WGS_1984\",DATUM[\"D_WGS_1984\",SPHEROID[\"WGS_1984\",6378137.0,298.257223563]],PRIMEM[\"Greenwich\",0.0],UNIT[\"Degree\",0.0174532925199433]];-400 -400 1000000000;-100000 10000;-100000 10000;8.98315284119521E-09;0.001;0.001;IsHighPrecision ;\n",
      "\t\tcrs:spatial_ref = GEOGCS[\"GCS_WGS_1984\",DATUM[\"D_WGS_1984\",SPHEROID[\"WGS_1984\",6378137.0,298.257223563]],PRIMEM[\"Greenwich\",0.0],UNIT[\"Degree\",0.0174532925199433]];-400 -400 1000000000;-100000 10000;-100000 10000;8.98315284119521E-09;0.001;0.001;IsHighPrecision ;\n",
      "\t\tcrs:long_name = CRS definition ;\n",
      "\t\tcrs:longitude_of_prime_meridian = 0.0 ;\n",
      "\t\tcrs:_CoordinateAxes = latitude longitude ;\n",
      "\t\tcrs:semi_major_axis = 6378137.0 ;\n",
      "\t\tcrs:semi_minor_axis = 6356752.5 ;\n",
      "\t\tcrs:inverse_flattening = 298.2572326660156 ;\n",
      "\tint32 order(time, feature_id) ;\n",
      "\t\torder:long_name = Streamflow Order ;\n",
      "\t\torder:standard_name = order ;\n",
      "\tfloat32 elevation(time, feature_id) ;\n",
      "\t\televation:long_name = Feature Elevation ;\n",
      "\t\televation:standard_name = Elevation ;\n",
      "\tfloat32 streamflow(time, feature_id) ;\n",
      "\t\tstreamflow:long_name = River Flow ;\n",
      "\t\tstreamflow:units = m3 s-1 ;\n",
      "\t\tstreamflow:grid_mapping = crs ;\n",
      "\t\tstreamflow:valid_range = [     0. 500000.] ;\n",
      "\n",
      "// global attributes:\n",
      "\t:featureType = timeSeries ;\n",
      "\t:proj4 = +proj=lcc +units=m +a=6370000.0 +b=6370000.0 +lat_1=30.0 +lat_2=60.0 +lat_0=40.0 +lon_0=-97.0 +x_0=0 +y_0=0 +k_0=1.0 +nadgrids=@ ;\n",
      "\t:model_initialization_time = 2011-08-26_00:00:00 ;\n",
      "\t:station_dimension = feature_id ;\n",
      "\t:model_output_valid_time = 2011-08-26_01:00:00 ;\n",
      "\t:stream_order_output = 1 ;\n",
      "\t:cdm_datatype = Station ;\n",
      "\t:Conventions = CF-1.6 ;\n",
      "\t:model_version = WRF-Hydro 5.0 ;\n",
      "\t:dev_OVRTSWCRT = 1 ;\n",
      "\t:dev_NOAH_TIMESTEP = 3600 ;\n",
      "\t:dev_channel_only = 0 ;\n",
      "\t:dev_channelBucket_only = 0 ;\n",
      "\t:dev = dev_ prefix indicates development/internal meta data ;\n",
      "}"
     ]
    }
   ],
   "source": [
    "chanobs.info()"
   ]
  },
  {
   "cell_type": "markdown",
   "metadata": {
    "deletable": false,
    "editable": false
   },
   "source": [
    "Here we can see that we have a time dimension of length 168 corresponding to the 168 hourly output files of our simulation."
   ]
  },
  {
   "cell_type": "markdown",
   "metadata": {
    "deletable": false,
    "editable": false
   },
   "source": [
    "**Plot a hydrograph for 1 gage point**\n",
    "Now we will select 1 gage from the dataset and plot our streamflow variable. For more information on indexing and selecting data with xarray see the [xarray documentation](http://xarray.pydata.org/en/stable/)"
   ]
  },
  {
   "cell_type": "code",
   "execution_count": 40,
   "metadata": {
    "deletable": false,
    "editable": false,
    "scrolled": true
   },
   "outputs": [
    {
     "data": {
      "text/plain": [
       "<xarray.DataArray 'feature_id' (feature_id: 3)>\n",
       "array([3, 2, 1], dtype=int32)\n",
       "Coordinates:\n",
       "  * feature_id  (feature_id) int32 3 2 1\n",
       "    latitude    (feature_id) float32 41.410416 41.449097 41.465546\n",
       "    longitude   (feature_id) float32 -73.69508 -73.73784 -73.75716\n",
       "Attributes:\n",
       "    long_name:  User Specified Forecast Points\n",
       "    comment:    Forecast Points Specified in Geogrid file\n",
       "    cf_role:    timeseries_id"
      ]
     },
     "execution_count": 40,
     "metadata": {},
     "output_type": "execute_result"
    }
   ],
   "source": [
    "chanobs.feature_id.load()"
   ]
  },
  {
   "cell_type": "code",
   "execution_count": 52,
   "metadata": {
    "deletable": false,
    "editable": false
   },
   "outputs": [
    {
     "data": {
      "text/plain": [
       "[<matplotlib.lines.Line2D at 0x7f18e57ded30>]"
      ]
     },
     "execution_count": 52,
     "metadata": {},
     "output_type": "execute_result"
    },
    {
     "data": {
      "image/png": "[encoded data removed]",
      "text/plain": [
       "<Figure size 432x288 with 1 Axes>"
      ]
     },
     "metadata": {},
     "output_type": "display_data"
    }
   ],
   "source": [
    "chanobs.sel(feature_id = 2).streamflow.plot()"
   ]
  },
  {
   "cell_type": "markdown",
   "metadata": {
    "deletable": false,
    "editable": false
   },
   "source": [
    "# Next up - Run-time options\n",
    "This concludes lesson 3. In the next lesson we will discuss run-time options and experiment with different options and viewing the effect on the model behavoir using xarray."
   ]
  },
  {
   "cell_type": "code",
   "execution_count": null,
   "metadata": {},
   "outputs": [],
   "source": []
  }
 ],
 "metadata": {
  "kernelspec": {
   "display_name": "Python 3",
   "language": "python",
   "name": "python3"
  },
  "language_info": {
   "codemirror_mode": {
    "name": "ipython",
    "version": 3
   },
   "file_extension": ".py",
   "mimetype": "text/x-python",
   "name": "python",
   "nbconvert_exporter": "python",
   "pygments_lexer": "ipython3",
   "version": "3.6.4"
  },
  "toc": {
   "base_numbering": 1,
   "nav_menu": {},
   "number_sections": true,
   "sideBar": true,
   "skip_h1_title": true,
   "title_cell": "Table of Contents",
   "title_sidebar": "Contents",
   "toc_cell": true,
   "toc_position": {
    "height": "calc(100% - 180px)",
    "left": "10px",
    "top": "150px",
    "width": "464px"
   },
   "toc_section_display": true,
   "toc_window_display": true
  }
 },
 "nbformat": 4,
 "nbformat_minor": 2
}

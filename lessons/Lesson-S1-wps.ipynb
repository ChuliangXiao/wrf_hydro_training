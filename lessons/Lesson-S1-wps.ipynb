{
 "cells": [
  {
   "cell_type": "markdown",
   "metadata": {
    "toc": true
   },
   "source": [
    "<h1>Table of Contents<span class=\"tocSkip\"></span></h1>\n",
    "<div class=\"toc\"><ul class=\"toc-item\"><li><span><a href=\"#Overview\" data-toc-modified-id=\"Overview-1\"><span class=\"toc-item-num\">1&nbsp;&nbsp;</span>Overview</a></span><ul class=\"toc-item\"><li><span><a href=\"#Software-and-conventions\" data-toc-modified-id=\"Software-and-conventions-1.1\"><span class=\"toc-item-num\">1.1&nbsp;&nbsp;</span>Software and conventions</a></span></li></ul></li><li><span><a href=\"#Data-sources\" data-toc-modified-id=\"Data-sources-2\"><span class=\"toc-item-num\">2&nbsp;&nbsp;</span>Data sources</a></span></li><li><span><a href=\"#Creating-the-geo_em_d01.nc-(geogrid)-file\" data-toc-modified-id=\"Creating-the-geo_em_d01.nc-(geogrid)-file-3\"><span class=\"toc-item-num\">3&nbsp;&nbsp;</span>Creating the geo_em_d01.nc (geogrid) file</a></span><ul class=\"toc-item\"><li><span><a href=\"#geogrid.exe\" data-toc-modified-id=\"geogrid.exe-3.1\"><span class=\"toc-item-num\">3.1&nbsp;&nbsp;</span>geogrid.exe</a></span></li><li><span><a href=\"#Defining-domain-boundaries\" data-toc-modified-id=\"Defining-domain-boundaries-3.2\"><span class=\"toc-item-num\">3.2&nbsp;&nbsp;</span>Defining domain boundaries</a></span></li><li><span><a href=\"#Exploring-the-WPS-geogrid.exe-utility-and-namelist.wps\" data-toc-modified-id=\"Exploring-the-WPS-geogrid.exe-utility-and-namelist.wps-3.3\"><span class=\"toc-item-num\">3.3&nbsp;&nbsp;</span>Exploring the WPS geogrid.exe utility and namelist.wps</a></span><ul class=\"toc-item\"><li><span><a href=\"#Changing-the-domain-location-and-boundaries-in-WPS\" data-toc-modified-id=\"Changing-the-domain-location-and-boundaries-in-WPS-3.3.1\"><span class=\"toc-item-num\">3.3.1&nbsp;&nbsp;</span>Changing the domain location and boundaries in WPS</a></span></li></ul></li><li><span><a href=\"#Making-the-geogrid-file\" data-toc-modified-id=\"Making-the-geogrid-file-3.4\"><span class=\"toc-item-num\">3.4&nbsp;&nbsp;</span>Making the geogrid file</a></span></li><li><span><a href=\"#Inspecting-the-geogrid-file\" data-toc-modified-id=\"Inspecting-the-geogrid-file-3.5\"><span class=\"toc-item-num\">3.5&nbsp;&nbsp;</span>Inspecting the geogrid file</a></span></li></ul></li></ul></div>"
   ]
  },
  {
   "cell_type": "markdown",
   "metadata": {},
   "source": [
    "# Lesson S1 - WRF Preprocessing System (WPS)\n",
    "## Overview\n",
    "In this lesson, we will cover the basics of the the geospatial data preparation for the land-surface model for our domain. \n",
    "\n",
    "### Software and conventions\n",
    "The easiest way to run these lessons is via the [wrfhydro/training](https://hub.docker.com/r/wrfhydro/training/) Docker container, which has all software dependencies and data pre-installed.\n",
    "\n",
    "For a complete description of the software environment used for this training please see [Getting started]().\n",
    "\n",
    "You may either execute commands by running each cell of this notebook. Alternatively, you may open a terminal in Jupyter Lab by selecting `New -> Terminal` in your `Home` tab of Jupyter Lab and input the commands manually if you prefer. \n",
    "\n",
    "All paths used in this lesson assume that the lesson materials are located under your home directory in a folder named `wrf-hydro-training`. If your materials are located in another directory, you will not be able to run the commands in this notebook inside Jupyter and will need to type them manually in your terminal session. \n",
    "\n",
    "## Data sources\n",
    "WRF Preprocessing System (WPS) geographical input data are one of the primary datasets used by the NoahMP Land Surface Model (LSM). These datasets can be obtained from the [WPS geographical input data download page](http://www2.mmm.ucar.edu/wrf/users/download/get_sources_wps_geog.html). However, these data are rather large (~50GB) and contain a number of datasets that are not used in most implementations of WRF-Hydro. We have reduced the data by removing various resolutions of the data that are not commonly used by WRF-Hydro. Furthermore, the dataset provided with this tutorial has been subset to the Continental United States to be consistent with the availability of other datasets used in this tutorial. Thus, the dataset provided with the [wrfhydro/training](https://hub.docker.com/r/wrfhydro/training/) Docker container is considerably smaller than the complete WRF-WPS dataset.\n",
    "\n",
    "## Creating the geo_em_d01.nc (geogrid) file\n",
    "### geogrid.exe\n",
    "The WPS program `geogrid.exe` is used to create the geo_em_d01.nc, hereafter referred to as the 'geogrid' file. The `geogrid.exe` program takes a fortran namelist (`namelist.wps`) and the [WPS geographical input data](http://www2.mmm.ucar.edu/wrf/users/download/get_sources_wps_geog.html) as inputs and creates the geogrid file. However, the `geogrid.exe.` program requires that WRF and WPS be built according to your system specification, and building WRF and WPS can be difficult on some systems. Additionally, much of the functionality of WRF and WPS is not utilized for creating a geogrid file for WRF-Hydro, and many of the options in the `namelist.wps` are not relevant to this process. Therefore, we have created a Docker container and Python command line utility to abstract much of the WRF/WPS complexity and simplify the process of creating a geogrid file for WRF-Hydro users. \n",
    "\n",
    "We will cover the steps to create the geogrid file using this method in the section 'Creating the geogrid file'. For more non-standard, advanced usage please see the WRF-WPS documentation.\n",
    "\n",
    "### Defining domain boundaries\n",
    "WRF-Hydro uses rectilinear domains as defined by the `namelist.wps` input to the geogrid.exe program. The first step to creating the geogrid file is to define our domain boundaries. The `geogrid.exe` program takes a centerpoint, x and y coordinates, and other projection information to define a bounding box for the domain. There are a number of resources available to assists users with defining this bounding box, including the NOAA supported [DomainWizard](https://esrl.noaa.gov/gsd/wrfportal/DomainWizard.html). If you have no knowledge of your coordinates, the [DomainWizard](https://esrl.noaa.gov/gsd/wrfportal/DomainWizard.html) is the best starting point. However, for this tutorial we have supplied the coordinates for you and you may use our Docker service to visualize the domain location and create the geogrid file given these coordinates.\n",
    "\n",
    "### Exploring the WPS geogrid.exe utility and namelist.wps\n",
    "The WPS `geogrid.exe` utility is controlled by options set in the `namelist.wps`. As previously stated, there are many options in the `namelist.wps` file that are not relevant to most WRF-Hydro users. For educational purposes, we will take a quick look at the full `namelist.wps` file and then discuss the relevant options used by the WRF-Hydro geogrid utility in more detail.\n",
    "\n",
    "View the contents of `~/WRF_WPS/WPS/namelist.wps_orig`. **NOTE: we have renamed namelist.wps to namelist.wps_orig because we will be creating a new namelist.wps for our domain**"
   ]
  },
  {
   "cell_type": "code",
   "execution_count": 1,
   "metadata": {},
   "outputs": [
    {
     "name": "stdout",
     "output_type": "stream",
     "text": [
      "&share\n",
      " wrf_core = 'ARW',\n",
      " max_dom = 2,\n",
      " start_date = '2006-08-16_12:00:00','2006-08-16_12:00:00',\n",
      " end_date   = '2006-08-16_18:00:00','2006-08-16_12:00:00',\n",
      " interval_seconds = 21600\n",
      " io_form_geogrid = 2,\n",
      "/\n",
      "\n",
      "&geogrid\n",
      " parent_id         =   1,   1,\n",
      " parent_grid_ratio =   1,   3,\n",
      " i_parent_start    =   1,  31,\n",
      " j_parent_start    =   1,  17,\n",
      " e_we              =  74, 112,\n",
      " e_sn              =  61,  97,\n",
      " !\n",
      " !!!!!!!!!!!!!!!!!!!!!!!!!!!! IMPORTANT NOTE !!!!!!!!!!!!!!!!!!!!!!!!!!!!\n",
      " ! The default datasets used to produce the HGT_M, GREENFRAC, \n",
      " ! and LU_INDEX/LANDUSEF fields have changed in WPS v3.8. The HGT_M field\n",
      " ! is now interpolated from 30-arc-second USGS GMTED2010, the GREENFRAC \n",
      " ! field is interpolated from MODIS FPAR, and the LU_INDEX/LANDUSEF fields \n",
      " ! are interpolated from 21-class MODIS.\n",
      " !\n",
      " ! To match the output given by the default namelist.wps in WPS v3.7.1, \n",
      " ! the following setting for geog_data_res may be used:\n",
      " !\n",
      " ! geog_data_res = 'gtopo_10m+usgs_10m+nesdis_greenfrac+10m','gtopo_2m+usgs_2m+nesdis_greenfrac+2m',\n",
      " !\n",
      " !!!!!!!!!!!!!!!!!!!!!!!!!!!! IMPORTANT NOTE !!!!!!!!!!!!!!!!!!!!!!!!!!!!\n",
      " !\n",
      " geog_data_res = 'default','default',\n",
      " dx = 30000,\n",
      " dy = 30000,\n",
      " map_proj = 'lambert',\n",
      " ref_lat   =  34.83,\n",
      " ref_lon   = -81.03,\n",
      " truelat1  =  30.0,\n",
      " truelat2  =  60.0,\n",
      " stand_lon = -98.0,\n",
      " geog_data_path = '/glade/p/work/wrfhelp/WPS_GEOG/'\n",
      "/\n",
      "\n",
      "&ungrib\n",
      " out_format = 'WPS',\n",
      " prefix = 'FILE',\n",
      "/\n",
      "\n",
      "&metgrid\n",
      " fg_name = 'FILE'\n",
      " io_form_metgrid = 2, \n",
      "/\n"
     ]
    }
   ],
   "source": [
    "%%bash\n",
    "cat ~/WRF_WPS/WPS/namelist.wps_orig"
   ]
  },
  {
   "cell_type": "markdown",
   "metadata": {},
   "source": [
    "A full description of these options can be found in the WPS user guide at http://www2.mmm.ucar.edu/wrf/users/docs/user_guide_V3.9/users_guide_chap3.html. The options that are of interest to standard WRF-Hydro users are the following:\n",
    "\n",
    "**Table 1. List WPS namelist options relevent to WRF-Hydro**\n",
    "\n",
    "|Option|Description|\n",
    "|------|-----------|\n",
    "| max_dom = 1 |Specify the number of domains |\n",
    "| e_we | A list of MAX_DOM integers specifying, for each nest, the nest’s full west-east dimension. For nested domains, e_we must be one greater than an integer multiple of the nest's parent_grid_ratio (i.e., e_we = n\\*parent_grid_ratio+1 for some positive integer n). No default value.|\n",
    "| e_sn | A list of MAX_DOM integers specifying, for each nest, the nest’s full south-north dimension. For nested domains, e_sn must be one greater than an integer multiple of the nest's parent_grid_ratio (i.e., e_sn = n\\*parent_grid_ratio+1 for some positive integer n). No default value. |\n",
    "| ref_lat | A real value specifying the latitude part of a (latitude, longitude) location whose (i,j) location in the simulation domain is known. For ARW, ref_lat gives the latitude of the center-point of the coarse domain by default (i.e., when ref_x and ref_y are not specified). For NMM, ref_lat always gives the latitude to which the origin is rotated. No default value. |\n",
    "| ref_lon | A real value specifying the longitude part of a (latitude, longitude) location whose (i, j) location in the simulation domain is known. For ARW, ref_lon gives the longitude of the center-point of the coarse domain by default (i.e., when ref_x and ref_y are not specified). For NMM, ref_lon always gives the longitude to which the origin is rotated. For both ARW and NMM, west longitudes are negative, and the value of ref_lon should be in the range [-180, 180]. No default value. |\n",
    "| dx | A real value specifying the grid distance in the x-direction where the map scale factor is 1. For ARW, the grid distance is in meters for the 'polar', 'lambert', and 'mercator' projection, and in degrees longitude for the 'lat-lon' projection; for NMM, the grid distance is in degrees longitude. Grid distances for nests are determined recursively based on values specified for parent_grid_ratio and parent_id. No default value. |\n",
    "| dy | A real value specifying the nominal grid distance in the y-direction where the map scale factor is 1. For ARW, the grid distance is in meters for the 'polar', 'lambert', and 'mercator' projection, and in degrees latitude for the 'lat-lon' projection; for NMM, the grid distance is in degrees latitude. Grid distances for nests are determined recursively based on values specified for parent_grid_ratio and parent_id. No default value. |\n",
    "| map_proj | A character string specifying the projection of the simulation domain. For ARW, accepted projections are 'lambert', 'polar', 'mercator', and 'lat-lon'; for NMM, a projection of 'rotated_ll' must be specified. Default value is 'lambert'. |\n",
    "| truelat1 | A real value specifying, for ARW, the first true latitude for the Lambert conformal projection, or the only true latitude for the Mercator and polar stereographic projections. For NMM, truelat1 is ignored. No default value. |\n",
    "| truelat2 | A real value specifying, for ARW, the second true latitude for the Lambert conformal conic projection. For all other projections, truelat2 is ignored. No default value. |\n",
    "| stand_lon | A real value specifying, for ARW, the longitude that is parallel with the y-axis in the Lambert conformal and polar stereographic projections. For the regular latitude-longitude projection, this value gives the rotation about the earth's geographic poles. For NMM, stand_lon is ignored. No default value. |\n",
    "| geog_data_res | A list of MAX_DOM character strings specifying, for each nest, a corresponding resolution or list of resolutions separated by + symbols of source data to be used when interpolating static terrestrial data to the nest’s grid. For each nest, this string should contain a resolution matching a string preceding a colon in a rel_path or abs_path specification (see the description of GEOGRID.TBL options) in the GEOGRID.TBL file for each field. If a resolution in the string does not match any such string in a rel_path or abs_path specification for a field in GEOGRID.TBL, a default resolution of data for that field, if one is specified, will be used. If multiple resolutions match, the first resolution to match a string in a rel_path or abs_path specification in the GEOGRID.TBL file will be used. Default value is 'default'. |\n",
    "| geog_data_path | A character string giving the path, either relative or absolute, to the directory where the geographical data directories may be found. This path is the one to which rel_path specifications in the GEOGRID.TBL file are given in relation to. No default value. |\n",
    "\n",
    "\n",
    "To simplify the process of creating the geogrid file, these options are the only ones needed when using the WRF-Hydro geogrid Docker utility. \n",
    "\n",
    "Lets take a look at the namelist.wps file included with the example domain, which was used to create the example domain geogrid file."
   ]
  },
  {
   "cell_type": "code",
   "execution_count": 2,
   "metadata": {
    "scrolled": true
   },
   "outputs": [
    {
     "name": "stdout",
     "output_type": "stream",
     "text": [
      "&share\n",
      "\n",
      "!!!!!!!!!!!!!!!!!!!!!!!!!!!!!!!!!!!!!!!!!!!!\n",
      "!  Specify the number of domains\n",
      "!!!!!!!!!!!!!!!!!!!!!!!!!!!!!!!!!!!!!!!!!!!!\n",
      "\n",
      " max_dom = 1,\n",
      "\n",
      "/\n",
      "\n",
      "&geogrid\n",
      "\n",
      "!!!!!!!!!!!!!!!!!!!!!!!!!!!!!!!!!!!!!!!!!!!!\n",
      "! Define the extend in west-east (e_we) and south-north (e_sn) directions\n",
      "!  Note: will create a domain of size (e_we-1) x (e_sn-1)\n",
      "!!!!!!!!!!!!!!!!!!!!!!!!!!!!!!!!!!!!!!!!!!!!\n",
      "\n",
      " e_we              =  16,\n",
      " e_sn              =  17,\n",
      "\n",
      "!!!!!!!!!!!!!!!!!!!!!!!!!!!!!!!!!!!!!!!!!!!!\n",
      "! Define the center point of your domain\n",
      "!!!!!!!!!!!!!!!!!!!!!!!!!!!!!!!!!!!!!!!!!!!!\n",
      "\n",
      " ref_lat   =   41.47100\n",
      " ref_lon   =  -73.74365\n",
      "\n",
      "!!!!!!!!!!!!!!!!!!!!!!!!!!!!!!!!!!!!!!!!!!!!\n",
      "! Define the domain grid spacing (in meters)\n",
      "!!!!!!!!!!!!!!!!!!!!!!!!!!!!!!!!!!!!!!!!!!!!\n",
      "\n",
      " dx = 1000,\n",
      " dy = 1000,\n",
      "\n",
      "!!!!!!!!!!!!!!!!!!!!!!!!!!!!!!!!!!!!!!!!!!!!\n",
      "! Define the map projection\n",
      "!!!!!!!!!!!!!!!!!!!!!!!!!!!!!!!!!!!!!!!!!!!!\n",
      "\n",
      " map_proj = 'lambert',\n",
      " truelat1  =  30.0,\n",
      " truelat2  =  60.0,\n",
      " stand_lon =  -97.00,\n",
      "\n",
      "!!!!!!!!!!!!!!!!!!!!!!!!!!!!!!!!!!!!!!!!!!!!\n",
      "! Define the data sources and data path\n",
      "!!!!!!!!!!!!!!!!!!!!!!!!!!!!!!!!!!!!!!!!!!!!\n",
      "\n",
      " geog_data_res     = 'nlcd2011_30m+gtopo_30s+default',\n",
      " geog_data_path = '/home/docker/WRF_WPS/WPS/geog_conus'\n",
      "\n",
      "/\n"
     ]
    }
   ],
   "source": [
    "%%bash\n",
    "cat ~/wrf-hydro-training/example_case/supplemental/namelist.wps"
   ]
  },
  {
   "cell_type": "markdown",
   "metadata": {},
   "source": [
    "#### Changing the domain location and boundaries in WPS\n",
    "In this section we will make a few changes to the example case `namelist.wps` to demonstrate how to move the domain location and extent. **NOTE: Do not edit the `~/wrf-hydro-training/example_case/supplemental/namelist.wps` because we will use this prepared namelist to create the example case geogrid file using WPS in a later section**\n",
    "\n",
    "To change the location of the domain, we will edit the *ref_lat* and *ref_lon* options in the naemlist to shift the centerpoint of the domain. We will leave all other options the same, which will simply move the domain location but retain all other dimensions.\n",
    "\n",
    "**Step 1: Make a copy of the `~/wrf-hydro-training/example_case/supplemental/namelist.wps` file."
   ]
  },
  {
   "cell_type": "code",
   "execution_count": 3,
   "metadata": {},
   "outputs": [],
   "source": [
    "%%bash\n",
    "mkdir -p ~/wrf-hydro-training/output/lessonS1/\n",
    "cp ~/wrf-hydro-training/example_case/supplemental/namelist.wps ~/wrf-hydro-training/output/lessonS1/namelist.wps"
   ]
  },
  {
   "cell_type": "markdown",
   "metadata": {},
   "source": [
    "**Step 2: Edit the `~/wrf-hydro-training/output/lessonS1/namelist.wps`**\n",
    "\n",
    "Using your editor of choice (can be edited in Jupyter), open the `~/wrf-hydro-training/output/lessonS1/namelist.wps` file and change the *ref_lat* and *ref_lon* values to \n",
    "```\n",
    "ref_lat=44.00\n",
    "ref_lon=-75.00\n",
    "```"
   ]
  },
  {
   "cell_type": "markdown",
   "metadata": {},
   "source": [
    "**Step 3: Visualize the new domain location**\n",
    "\n",
    "First lets create a basic map of the original example case domain location using the example case namelist.wps file `~/wrf-hydro-training/example_case/supplemental/namelist.wps` and the WRF-Hydro geogrid Python utility. You can get help on the arugments to the python utility using by accessing its help."
   ]
  },
  {
   "cell_type": "code",
   "execution_count": 4,
   "metadata": {},
   "outputs": [
    {
     "name": "stdout",
     "output_type": "stream",
     "text": [
      "usage: make_geogrid.py [-h] [--namelist_path NAMELIST_PATH]\n",
      "                       [--plot_only PLOT_ONLY]\n",
      "\n",
      "optional arguments:\n",
      "  -h, --help            show this help message and exit\n",
      "  --namelist_path NAMELIST_PATH\n",
      "                        Path to namelist file containing the namelist.wps\n",
      "                        updates\n",
      "  --plot_only PLOT_ONLY\n",
      "                        Only create a plot of the domain. Geogrid will not be\n",
      "                        created if plot_only = true, only a plot of the domain\n",
      "                        will be created.\n"
     ]
    }
   ],
   "source": [
    "%%bash\n",
    "python ~/WRF_WPS/utilities/make_geogrid.py --help"
   ]
  },
  {
   "cell_type": "markdown",
   "metadata": {},
   "source": [
    "Note that the script takes 2 arguments, the first `--namelist_path` is the path to your `namelist.wps` file, and the second `--plot_only` is a boolean `True` or `False` indicating whether or not to plot the domain. If `plot_only` the utility will only plot the domain and not create the geogrid file. This option is useful for making changes to your domain location or extent.  \n",
    "\n",
    "Now lets create a plot of the example case domain location first, and then our edited domain location second. "
   ]
  },
  {
   "cell_type": "code",
   "execution_count": 5,
   "metadata": {},
   "outputs": [],
   "source": [
    "%%bash\n",
    "python ~/WRF_WPS/utilities/make_geogrid.py \\\n",
    "--namelist_path ~/wrf-hydro-training/example_case/supplemental/namelist.wps \\\n",
    "--plot_only True"
   ]
  },
  {
   "cell_type": "markdown",
   "metadata": {},
   "source": [
    "Now lets plot our new domain location using the edited namelist.wps file"
   ]
  },
  {
   "cell_type": "code",
   "execution_count": 6,
   "metadata": {},
   "outputs": [],
   "source": [
    "%%bash\n",
    "python ~/WRF_WPS/utilities/make_geogrid.py \\\n",
    "--namelist_path ~/wrf-hydro-training/output/lessonS1/namelist.wps \\\n",
    "--plot_only True"
   ]
  },
  {
   "cell_type": "markdown",
   "metadata": {},
   "source": [
    "We can see that the domain has been shifted but the dimensions are the same. Youcan change the domain dimensions by editing the variables\n",
    "```\n",
    "dx= \n",
    "dy= \n",
    "e_sn=\n",
    "e_we=\n",
    "```"
   ]
  },
  {
   "cell_type": "markdown",
   "metadata": {},
   "source": [
    "### Making the geogrid file\n",
    "In this section we will create the geogrid file using the WRF-Hydro geogrid python utility. **Note: If you would like to use this utilitiy outside of this training the utility and all required datasets for the continental united states are available in the `wrfhydro/wps` Docker container at https://hub.docker.com/r/wrfhydro/wps/.**\n",
    "\n",
    "**Step 1: Copy the prepared namelist.wps file for the example case to the lessonS1 output folder**\n",
    "\n",
    "We will copy over our the prepared namelist.wps file for the example case to create our geogrid file. We will also rename our edited namelist.wps from the previous domain location exercise in-case you want to retain for reference."
   ]
  },
  {
   "cell_type": "code",
   "execution_count": 7,
   "metadata": {},
   "outputs": [],
   "source": [
    "%%bash\n",
    "mv ~/wrf-hydro-training/output/lessonS1/namelist.wps \\\n",
    "~/wrf-hydro-training/output/lessonS1/namelist.wps_editedLocation\n",
    "\n",
    "cp ~/wrf-hydro-training/example_case/supplemental/namelist.wps \\\n",
    "~/wrf-hydro-training/output/lessonS1/namelist.wps"
   ]
  },
  {
   "cell_type": "markdown",
   "metadata": {},
   "source": [
    "**Step 1: Check the domain boundaries**\n",
    "\n",
    "We will do a quick visual inspection to make sure our supplied domain boundary information is correct. "
   ]
  },
  {
   "cell_type": "code",
   "execution_count": 8,
   "metadata": {},
   "outputs": [],
   "source": [
    "%%bash\n",
    "python ~/WRF_WPS/utilities/make_geogrid.py \\\n",
    "--namelist_path ~/wrf-hydro-training/output/lessonS1/namelist.wps \\\n",
    "--plot_only True"
   ]
  },
  {
   "cell_type": "markdown",
   "metadata": {},
   "source": [
    "**Step 2: Create the geogrid file**\n",
    "This time we will run the utility with `--plot_only` set to False. A plot of the domain will still be produced, but the geogrid.exe utility will also be executed to create the geogrid file."
   ]
  },
  {
   "cell_type": "code",
   "execution_count": 9,
   "metadata": {},
   "outputs": [
    {
     "name": "stdout",
     "output_type": "stream",
     "text": [
      "Parsed 25 entries in GEOGRID.TBL\n",
      "Processing domain 1 of 1\n",
      "ERROR: Could not open /home/docker/WRF_WPS/WPS/geog_conus/topo_30s/index\n"
     ]
    }
   ],
   "source": [
    "%%bash\n",
    "python ~/WRF_WPS/utilities/make_geogrid.py \\\n",
    "--namelist_path ~/wrf-hydro-training/output/lessonS1/namelist.wps \\\n",
    "--plot_only False"
   ]
  },
  {
   "cell_type": "markdown",
   "metadata": {},
   "source": [
    "### Inspecting the geogrid file\n",
    "Now that we have created our geogrid file, we will quickly open it using the Python library `xarray` and check its contents. "
   ]
  },
  {
   "cell_type": "code",
   "execution_count": null,
   "metadata": {},
   "outputs": [],
   "source": [
    "import xarray as xr\n",
    "xr.open_dataset('~/wrf-hydro-training/example_case/supplemental/geo_em.d01.nc')"
   ]
  },
  {
   "cell_type": "code",
   "execution_count": null,
   "metadata": {},
   "outputs": [],
   "source": []
  }
 ],
 "metadata": {
  "kernelspec": {
   "display_name": "Python 3",
   "language": "python",
   "name": "python3"
  },
  "language_info": {
   "codemirror_mode": {
    "name": "ipython",
    "version": 3
   },
   "file_extension": ".py",
   "mimetype": "text/x-python",
   "name": "python",
   "nbconvert_exporter": "python",
   "pygments_lexer": "ipython3",
   "version": "3.6.4"
  },
  "toc": {
   "base_numbering": 1,
   "nav_menu": {},
   "number_sections": true,
   "sideBar": true,
   "skip_h1_title": true,
   "title_cell": "Table of Contents",
   "title_sidebar": "Contents",
   "toc_cell": true,
   "toc_position": {},
   "toc_section_display": true,
   "toc_window_display": true
  }
 },
 "nbformat": 4,
 "nbformat_minor": 2
}

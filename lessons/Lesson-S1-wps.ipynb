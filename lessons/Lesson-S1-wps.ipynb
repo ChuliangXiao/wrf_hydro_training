{
 "cells": [
  {
   "cell_type": "markdown",
   "metadata": {
    "toc": true
   },
   "source": [
    "<h1>Table of Contents<span class=\"tocSkip\"></span></h1>\n",
    "<div class=\"toc\"><ul class=\"toc-item\"><li><span><a href=\"#Overview\" data-toc-modified-id=\"Overview-1\"><span class=\"toc-item-num\">1&nbsp;&nbsp;</span>Overview</a></span><ul class=\"toc-item\"><li><span><a href=\"#Software-and-conventions\" data-toc-modified-id=\"Software-and-conventions-1.1\"><span class=\"toc-item-num\">1.1&nbsp;&nbsp;</span>Software and conventions</a></span></li></ul></li><li><span><a href=\"#Data-sources\" data-toc-modified-id=\"Data-sources-2\"><span class=\"toc-item-num\">2&nbsp;&nbsp;</span>Data sources</a></span></li><li><span><a href=\"#Creating-the-geo_em_d01.nc-(geogrid)-file\" data-toc-modified-id=\"Creating-the-geo_em_d01.nc-(geogrid)-file-3\"><span class=\"toc-item-num\">3&nbsp;&nbsp;</span>Creating the geo_em_d01.nc (geogrid) file</a></span><ul class=\"toc-item\"><li><span><a href=\"#geogrid.exe\" data-toc-modified-id=\"geogrid.exe-3.1\"><span class=\"toc-item-num\">3.1&nbsp;&nbsp;</span>geogrid.exe</a></span></li><li><span><a href=\"#Defining-domain-boundaries\" data-toc-modified-id=\"Defining-domain-boundaries-3.2\"><span class=\"toc-item-num\">3.2&nbsp;&nbsp;</span>Defining domain boundaries</a></span></li><li><span><a href=\"#Exploring-the-WPS-geogrid.exe-utility-and-namelist.wps\" data-toc-modified-id=\"Exploring-the-WPS-geogrid.exe-utility-and-namelist.wps-3.3\"><span class=\"toc-item-num\">3.3&nbsp;&nbsp;</span>Exploring the WPS geogrid.exe utility and namelist.wps</a></span><ul class=\"toc-item\"><li><span><a href=\"#Changing-the-domain-location-and-boundaries-in-WPS\" data-toc-modified-id=\"Changing-the-domain-location-and-boundaries-in-WPS-3.3.1\"><span class=\"toc-item-num\">3.3.1&nbsp;&nbsp;</span>Changing the domain location and boundaries in WPS</a></span></li></ul></li><li><span><a href=\"#Making-the-geogrid-file\" data-toc-modified-id=\"Making-the-geogrid-file-3.4\"><span class=\"toc-item-num\">3.4&nbsp;&nbsp;</span>Making the geogrid file</a></span></li><li><span><a href=\"#Inspecting-the-geogrid-file\" data-toc-modified-id=\"Inspecting-the-geogrid-file-3.5\"><span class=\"toc-item-num\">3.5&nbsp;&nbsp;</span>Inspecting the geogrid file</a></span></li></ul></li></ul></div>"
   ]
  },
  {
   "cell_type": "markdown",
   "metadata": {},
   "source": [
    "# Lesson S1 - WRF Preprocessing System (WPS)\n",
    "## Overview\n",
    "This lesson covers two topics: creating your case-specific domain that will also be used throughout the WRF-Hydro system and defining static and initial conditions used for the land-surface model. \n",
    "\n",
    "### Software and conventions\n",
    "The easiest way to run these lessons is via the [wrfhydro/training](https://hub.docker.com/r/wrfhydro/training/) Docker container, which has all software dependencies and data pre-installed.\n",
    "\n",
    "For a complete description of the software environment used for this training please see [Getting started]().\n",
    "\n",
    "You may either execute commands by running each cell of this notebook. Alternatively, you may open a terminal in Jupyter Lab by selecting `New -> Terminal` in your `Home` tab of Jupyter Lab and input the commands manually if you prefer. You can also use your own terminal by logging into the container with the command `docker exec -it wrf-hydro-training bash`\n",
    "\n",
    "All paths used in this lesson assume that the lesson materials are located under your home directory in a folder named `wrf-hydro-training`. If your materials are located in another directory, you will not be able to run the commands in this notebook inside Jupyter and will need to type them manually in your terminal session. \n",
    "\n",
    "## Data sources\n",
    "WRF-Hydro leverages the extensive domain generation and geophysical dataset processing tools available in the WRF Preprocessing System (WPS). The geographical input data (e.g., land cover, soil texture, vegetation) are some of the primary datasets used by WRF-Hydro. The entire dataset collection can be obtained from the [WPS geographical input data download page](http://www2.mmm.ucar.edu/wrf/users/download/get_sources_wps_geog.html). However, these data are rather large (~50GB) and contain a number of datasets that are not used in most implementations of WRF-Hydro. To facilitate the domain generation process, the WRF-Hydro team has created a subset of the data by removing unnecessary data, removing  resolutions of the data not commonly used, and limiting the area to the Continental United States (CONUS). This is consistent with the availability of other datasets used in this tutorial. Thus, the dataset provided with the [wrfhydro/training](https://hub.docker.com/r/wrfhydro/training/) Docker container is considerably smaller than the complete WRF-WPS dataset.\n",
    "\n",
    "## Creating the geo_em_d01.nc (geogrid) file\n",
    "### geogrid.exe\n",
    "The WPS program *geogrid.exe* is used to create the *geo_em_d01.nc*, hereafter referred to as the 'geogrid' file. The *geogrid.exe* program takes a Fortran namelist (*namelist.wps*) and the [WPS geographical input data](http://www2.mmm.ucar.edu/wrf/users/download/get_sources_wps_geog.html) as inputs and creates the geogrid file. However, the *geogrid.exe* program requires that WRF and WPS be built according to your system specification, and building WRF and WPS can be difficult on some systems. Additionally, much of the functionality of WRF and WPS is not utilized for creating a geogrid file for WRF-Hydro, and many of the options in the *namelist.wps* are not relevant to this process. Therefore, we have created a Docker container and Python command line utility to abstract much of the WRF/WPS complexity and simplify the process of creating a geogrid file for WRF-Hydro users. \n",
    "\n",
    "We will cover the steps to create the geogrid file using this method in the section 'Creating the geogrid file'. For more advanced usage please see the WRF-WPS documentation.\n",
    "\n",
    "### Defining domain boundaries\n",
    "WRF-Hydro uses domain boundaries defined by the *namelist.wps* input namelist to the geogrid.exe program. The first step to creating the geogrid file is to define our domain boundaries. The *geogrid.exe* program takes a centerpoint, x and y grid specifications, and other projection information to define a bounding box for the domain. There are a number of resources available to assist users with defining this bounding box, including the NOAA supported [DomainWizard](https://esrl.noaa.gov/gsd/wrfportal/DomainWizard.html). If you have no knowledge of your coordinates, the [DomainWizard](https://esrl.noaa.gov/gsd/wrfportal/DomainWizard.html) is a good starting point. However, for this tutorial we have supplied the coordinates for you and you may use the WRF-Hydro geogrid python command line utility to visualize the domain location and create the geogrid file given these coordinates.\n",
    "\n",
    "### Exploring the WPS geogrid.exe utility and namelist.wps\n",
    "The WPS *geogrid.exe* utility is controlled by options set in the *namelist.wps*. As previously stated, there are many options in the *namelist.wps* file that are not relevant to most WRF-Hydro users. For educational purposes, we will take a quick look at the full *namelist.wps* file and then discuss the relevant options used by the WRF-Hydro geogrid utility in more detail.\n",
    "\n",
    "View the contents of *~/WRF_WPS/WPS/namelist.wps_orig* directory. **NOTE: we have renamed namelist.wps to namelist.wps_orig because we will be creating a new namelist.wps for our domain**"
   ]
  },
  {
   "cell_type": "code",
   "execution_count": null,
   "metadata": {},
   "outputs": [],
   "source": [
    "%%bash\n",
    "cat ~/WRF_WPS/WPS/namelist.wps_orig"
   ]
  },
  {
   "cell_type": "markdown",
   "metadata": {},
   "source": [
    "A full description of these options can be found in the WPS user guide at http://www2.mmm.ucar.edu/wrf/users/docs/user_guide_V3.9/users_guide_chap3.html. The options that are of interest to most WRF-Hydro users are the following:\n",
    "\n",
    "**Table 1. WPS namelist options relevent to WRF-Hydro**\n",
    "\n",
    "|Option|Description|\n",
    "|------|-----------|\n",
    "| e_we | The number of grid edges in the west-east dimension. The number of grid centers will be e_we-1. |\n",
    "| e_sn | The number of grid edges in the south-north dimension. The number of grid centers will be e_sn-1. |\n",
    "| ref_lat | A real value specifying the latitude part of a (latitude, longitude) center-point of the domain. |\n",
    "| ref_lon | A real value specifying the longitude part of a (latitude, longitude) center-point of the domain. West longitudes are negative, and the value of ref_lon should be in the range [-180, 180]. |\n",
    "| dx | A real value specifying the grid distance in the x-direction where the map scale factor is 1. The grid distance is in meters for the 'polar', 'lambert', and 'mercator' projection, and in degrees longitude for the 'lat-lon' projection. |\n",
    "| dy | A real value specifying the grid distance in the y-direction where the map scale factor is 1. The grid distance is in meters for the 'polar', 'lambert', and 'mercator' projection, and in degrees latitude for the 'lat-lon' projection. |\n",
    "| map_proj | A character string specifying the projection of the simulation domain. Accepted projections are 'lambert', 'polar', 'mercator', and 'lat-lon'. Default value is 'lambert'. |\n",
    "| truelat1 | A real value specifying, the first true latitude for the Lambert conformal conic projection, or the only true latitude for the Mercator and polar stereographic projections. |\n",
    "| truelat2 | A real value specifying, the second true latitude for the Lambert conformal conic projection. For all other projections, truelat2 is ignored. No default value. |\n",
    "| stand_lon | A real value specifying, the longitude that is parallel with the y-axis in the Lambert conformal and polar stereographic projections. For the regular latitude-longitude projection, this value gives the rotation about the earth's geographic poles. No default value. |\n",
    "| geog_data_res | A character string specifying a corresponding resolution or list of resolutions separated by + symbols of source data to be used when interpolating static terrestrial data to the grid. This string should contain a resolution matching a string preceding a colon in a rel_path or abs_path specification (see the description of GEOGRID.TBL options) in the GEOGRID.TBL file for each field. If a resolution in the string does not match any such string in a rel_path or abs_path specification for a field in GEOGRID.TBL, a default resolution of data for that field, if one is specified, will be used. If multiple resolutions match, the first resolution to match a string in a rel_path or abs_path specification in the GEOGRID.TBL file will be used. Default value is 'default'. |\n",
    "| geog_data_path | A character string giving the path, either relative or absolute, to the directory where the geographical data directories may be found. This path is the one to which rel_path specifications in the GEOGRID.TBL file are given in relation to. No default value. |\n",
    "\n",
    "\n",
    "To simplify the process of creating the geogrid file, these options are the only ones needed when using the WRF-Hydro geogrid Docker utility. \n",
    "\n",
    "Lets take a look at the namelist.wps file included with the example domain, which was used to create the example domain geogrid file."
   ]
  },
  {
   "cell_type": "code",
   "execution_count": null,
   "metadata": {
    "scrolled": true
   },
   "outputs": [],
   "source": [
    "%%bash\n",
    "cat ~/wrf-hydro-training/example_case/supplemental/namelist.wps"
   ]
  },
  {
   "cell_type": "markdown",
   "metadata": {},
   "source": [
    "#### Changing the domain location and boundaries in WPS\n",
    "In this section we will make a few changes to the example case `namelist.wps` to demonstrate how to move the domain location and change the extent. **NOTE: Do not edit the *~/wrf-hydro-training/example_case/supplemental/namelist.wps* file because we will use this prepared namelist to create the example case geogrid file using WPS in a later section of this lesson**\n",
    "\n",
    "In general, users want to do the largest, highest-resolution model domain possible. Unfortunately, we are often constrained by available computer power or drive storage. These contraints usually define the acceptable grid sizes for us (*e_we*, *e_sn*). Therefore, once we know our domain center, we can play with *dx* and *dy* to cover our interested area.\n",
    "\n",
    "We will edit the *dx* and *dy* options in the namelist to grow the size of the domain. We will leave all other options the same, which will simply increase the domain coverage but maintain the domain center and domain dimensions.\n",
    "\n",
    "**Step 1: Visualize the original domain location.**\n",
    "\n",
    "First let's create a basic map of the original example case domain location using the example case namelist.wps file *~/wrf-hydro-training/example_case/supplemental/namelist.wps* and the WRF-Hydro geogrid Python utility. You can get help on the arguments to the python utility by accessing its help."
   ]
  },
  {
   "cell_type": "code",
   "execution_count": null,
   "metadata": {
    "scrolled": true
   },
   "outputs": [],
   "source": [
    "%%bash\n",
    "python ~/WRF_WPS/utilities/make_geogrid.py --help"
   ]
  },
  {
   "cell_type": "markdown",
   "metadata": {},
   "source": [
    "Note that the script takes 4 arguments, the first `--namelist_path` is the path to your *namelist.wps* file, the second `--output_dir` is the path to the directory to hold the output, and the third `--plot_only` is a boolean `True` or `False` indicating whether or not to plot the domain. If `plot_only` the utility will only plot the domain and not create the geogrid file. This option is useful for making changes to your domain location or extent. The fourth argument `--display` is a boolean `True` or `False` indicating whether or not to display the plot or simply save an image. This option only works in interactive python sessions.\n",
    "\n",
    "Now, let's create a plot of the original example case domain location.\n",
    "\n",
    "First, we need to create a directory to hold the output."
   ]
  },
  {
   "cell_type": "code",
   "execution_count": null,
   "metadata": {},
   "outputs": [],
   "source": [
    "%%bash\n",
    "mkdir -p ~/wrf-hydro-training/output/lessonS1"
   ]
  },
  {
   "cell_type": "code",
   "execution_count": null,
   "metadata": {
    "scrolled": true
   },
   "outputs": [],
   "source": [
    "%%bash\n",
    "python ~/WRF_WPS/utilities/make_geogrid.py \\\n",
    "--namelist_path ~/wrf-hydro-training/example_case/supplemental/namelist.wps \\\n",
    "--output_dir ~/wrf-hydro-training/output/lessonS1 \\\n",
    "--plot_only True "
   ]
  },
  {
   "cell_type": "markdown",
   "metadata": {},
   "source": [
    "Now let's display the image. **NOTE: You can simply open the image, this is included so that the image will be displayed in this notebook**"
   ]
  },
  {
   "cell_type": "code",
   "execution_count": null,
   "metadata": {
    "scrolled": false
   },
   "outputs": [],
   "source": [
    "from IPython.display import Image\n",
    "Image(filename='/home/docker/wrf-hydro-training/output/lessonS1/domain.png') "
   ]
  },
  {
   "cell_type": "markdown",
   "metadata": {},
   "source": [
    "**Step 2: Make a copy of the original domain namelist.wps**\n",
    "\n",
    "We will copy our original domain namelist.wps that was used to create the example case and edit it. It is located at `~/wrf-hydro-training/example_case/supplemental/namelist.wps` **NOTE: Do not edit the original namelist.wps `~/wrf-hydro-training/example_case/supplemental/namelist.wps` because we will use it later to create our geogrid file.** "
   ]
  },
  {
   "cell_type": "code",
   "execution_count": null,
   "metadata": {},
   "outputs": [],
   "source": [
    "%%bash\n",
    "cp ~/wrf-hydro-training/example_case/supplemental/namelist.wps ~/wrf-hydro-training/output/lessonS1/namelist_edit.wps"
   ]
  },
  {
   "cell_type": "markdown",
   "metadata": {},
   "source": [
    "**Step 3: Edit the `~/wrf-hydro-training/output/lessonS1/namelist_edit.wps`**\n",
    "\n",
    "Using your editor of choice (can be edited in Jupyter), open the `~/wrf-hydro-training/output/lessonS1/namelist.wps` file and change the *dx* and *dy* values to \n",
    "```\n",
    "dx=2000.0\n",
    "dy=2000.0\n",
    "```"
   ]
  },
  {
   "cell_type": "code",
   "execution_count": null,
   "metadata": {},
   "outputs": [],
   "source": [
    "%%bash\n",
    "python ~/WRF_WPS/utilities/make_geogrid.py \\\n",
    "--namelist_path ~/wrf-hydro-training/output/lessonS1/namelist_edit.wps \\\n",
    "--output_dir ~/wrf-hydro-training/output/lessonS1 \\\n",
    "--plot_only True"
   ]
  },
  {
   "cell_type": "code",
   "execution_count": null,
   "metadata": {
    "scrolled": false
   },
   "outputs": [],
   "source": [
    "from IPython.display import Image\n",
    "Image(filename='/home/docker/wrf-hydro-training/output/lessonS1/domain.png') "
   ]
  },
  {
   "cell_type": "markdown",
   "metadata": {},
   "source": [
    "We can see that the domain coverage has expanded but the center and size are the same. You can change any of your domain set-up by editing the variables in `namelist.wps`.\n"
   ]
  },
  {
   "cell_type": "markdown",
   "metadata": {},
   "source": [
    "### Making the geogrid file\n",
    "In this section, we will create the geogrid file using the WRF-Hydro geogrid python utility. **Note: If you would like to use this utilitiy outside of this training, the utility and all required datasets for the Continental United States are available in the *wrfhydro/wps* Docker container at https://hub.docker.com/r/wrfhydro/wps/.**\n",
    "\n",
    "**Step 1: Copy the prepared *namelist.wps* file for the example case to the lessonS1 output folder**\n",
    "\n",
    "We will copy over the prepared namelist.wps file from the example case to create our geogrid file. We will also rename our edited namelist.wps from the previous domain location exercise, in case you want to retain for reference."
   ]
  },
  {
   "cell_type": "code",
   "execution_count": null,
   "metadata": {},
   "outputs": [],
   "source": [
    "%%bash\n",
    "cp ~/wrf-hydro-training/example_case/supplemental/namelist.wps \\\n",
    "~/wrf-hydro-training/output/lessonS1/namelist.wps"
   ]
  },
  {
   "cell_type": "markdown",
   "metadata": {},
   "source": [
    "**Step 1: Check the domain boundaries**\n",
    "\n",
    "We will do a quick visual inspection to make sure our supplied domain boundary information is correct. "
   ]
  },
  {
   "cell_type": "code",
   "execution_count": null,
   "metadata": {},
   "outputs": [],
   "source": [
    "%%bash\n",
    "python ~/WRF_WPS/utilities/make_geogrid.py \\\n",
    "--namelist_path ~/wrf-hydro-training/output/lessonS1/namelist.wps \\\n",
    "--output_dir ~/wrf-hydro-training/output/lessonS1 \\\n",
    "--plot_only True"
   ]
  },
  {
   "cell_type": "code",
   "execution_count": null,
   "metadata": {},
   "outputs": [],
   "source": [
    "from IPython.display import Image\n",
    "Image(filename='/home/docker/wrf-hydro-training/output/lessonS1/domain.png') "
   ]
  },
  {
   "cell_type": "markdown",
   "metadata": {},
   "source": [
    "**Step 2: Create the geogrid file.**\n",
    "\n",
    "This time we will run the utility with `--plot_only` set to False. A plot of the domain will still be produced, but the geogrid.exe utility will also be executed to create the geogrid file."
   ]
  },
  {
   "cell_type": "code",
   "execution_count": null,
   "metadata": {},
   "outputs": [],
   "source": [
    "%%bash\n",
    "python ~/WRF_WPS/utilities/make_geogrid.py \\\n",
    "--namelist_path ~/wrf-hydro-training/output/lessonS1/namelist.wps \\\n",
    "--output_dir ~/wrf-hydro-training/output/lessonS1 \\\n",
    "--plot_only False"
   ]
  },
  {
   "cell_type": "markdown",
   "metadata": {},
   "source": [
    "### Inspecting the geogrid file\n",
    "Now that we have created our geogrid file, we will quickly open it using the Python library `xarray` and check its contents. "
   ]
  },
  {
   "cell_type": "code",
   "execution_count": null,
   "metadata": {},
   "outputs": [],
   "source": [
    "%%bash\n",
    "ncdump -h ~/wrf-hydro-training/output/lessonS1/geo_em.d01.nc"
   ]
  },
  {
   "cell_type": "code",
   "execution_count": null,
   "metadata": {},
   "outputs": [],
   "source": [
    "%matplotlib inline\n",
    "import xarray as xr\n",
    "\n",
    "geogrid = xr.open_dataset('~/wrf-hydro-training/output/lessonS1/geo_em.d01.nc')\n",
    "geogrid.HGT_M.plot()"
   ]
  },
  {
   "cell_type": "markdown",
   "metadata": {},
   "source": [
    "### Create the wrfinput_d01.nc file to define model initial conditions\n",
    "The wrfinput_d01.nc is an R script to create a very basic WRF-Hydro initialization file (wrfinput) from a WRF geogrid file and a set of user-specified conditions. The script produces fields of spatially uniform initial model states of soil moisture, soil temperature, soil liquid water content and skin temperature among a few other variables necessary for model cold-start initialization. The script uses NCO commands to create this file. This file can be used as a 'cold start' for long-term model spin-up or users can overwrite the fields in the file created. Please refer to the script header for specific use information. Sophisticated and WRF-savvy users can bypass this script and use the WRF utility REAL.EXE to create a wrfinput file from model or reanalysis products. \n",
    "\n",
    "This R script is included in this training container at *~/WRF_WPS/utilities/create_Wrfinput.R* and can be downloaded separately at https://ral.ucar.edu/projects/wrf_hydro/pre-processing-tools.\n",
    "\n",
    "**NOTE: This R script will be replaced in the future with a Python command line utility to eliminate the R dependency.**\n",
    "\n",
    "**Step 1: View the create_wrfinput.R help**\n",
    "We can call the rscript from the command line using the program *rscript*, and we can view the help by following the command with the `--help` argument."
   ]
  },
  {
   "cell_type": "code",
   "execution_count": null,
   "metadata": {},
   "outputs": [],
   "source": [
    "%%bash\n",
    "Rscript ~/wrf-hydro-training/wrf_hydro_model_tools/create_wrfinput.R --help"
   ]
  },
  {
   "cell_type": "markdown",
   "metadata": {},
   "source": [
    "**Step 2: Run the create_wrfinput.r script**\n",
    "We need to specify two arguments for this lesson, the path to the geogrid file with the `--geogrid` argument and the output path for the wrfinput_d01.nc file with the `--outfile` argument. We can accept all other defaults for this lesson"
   ]
  },
  {
   "cell_type": "code",
   "execution_count": null,
   "metadata": {
    "scrolled": true
   },
   "outputs": [],
   "source": [
    "%%bash\n",
    "Rscript ~/wrf-hydro-training/wrf_hydro_model_tools/create_wrfinput.R \\\n",
    "--geogrid ~/wrf-hydro-training/output/lessonS1/geo_em.d01.nc \\\n",
    "--outfile ~/wrf-hydro-training/output/lessonS1/wrfinput_d01.nc"
   ]
  },
  {
   "cell_type": "markdown",
   "metadata": {},
   "source": [
    "**Step 3: View the contents of the output directory**"
   ]
  },
  {
   "cell_type": "code",
   "execution_count": null,
   "metadata": {},
   "outputs": [],
   "source": [
    "%%bash\n",
    "ls ~/wrf-hydro-training/output/lessonS1"
   ]
  },
  {
   "cell_type": "markdown",
   "metadata": {},
   "source": [
    "**Step 4: View the *wrfinput_d01.nc* file**"
   ]
  },
  {
   "cell_type": "code",
   "execution_count": null,
   "metadata": {
    "scrolled": false
   },
   "outputs": [],
   "source": [
    "%%bash\n",
    "ncdump -h ~/wrf-hydro-training/output/lessonS1/wrfinput_d01.nc"
   ]
  },
  {
   "cell_type": "markdown",
   "metadata": {},
   "source": [
    "# Next up - Regridding forcing data\n",
    "This concludes Lesson S1. In the next lesson, we will regrid some NLDAS forcing data to match our geogrid file for use in WRF-Hydro."
   ]
  }
 ],
 "metadata": {
  "kernelspec": {
   "display_name": "Python 3",
   "language": "python",
   "name": "python3"
  },
  "language_info": {
   "codemirror_mode": {
    "name": "ipython",
    "version": 3
   },
   "file_extension": ".py",
   "mimetype": "text/x-python",
   "name": "python",
   "nbconvert_exporter": "python",
   "pygments_lexer": "ipython3",
   "version": "3.6.4"
  },
  "toc": {
   "base_numbering": 1,
   "nav_menu": {},
   "number_sections": true,
   "sideBar": true,
   "skip_h1_title": true,
   "title_cell": "Table of Contents",
   "title_sidebar": "Contents",
   "toc_cell": true,
   "toc_position": {},
   "toc_section_display": true,
   "toc_window_display": true
  }
 },
 "nbformat": 4,
 "nbformat_minor": 2
}

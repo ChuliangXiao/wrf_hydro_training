{
 "cells": [
  {
   "cell_type": "markdown",
   "metadata": {
    "toc": true
   },
   "source": [
    "<h1>Table of Contents<span class=\"tocSkip\"></span></h1>\n",
    "<div class=\"toc\"><ul class=\"toc-item\"><li><span><a href=\"#Overview\" data-toc-modified-id=\"Overview-1\"><span class=\"toc-item-num\">1&nbsp;&nbsp;</span>Overview</a></span><ul class=\"toc-item\"><li><span><a href=\"#Software-and-conventions\" data-toc-modified-id=\"Software-and-conventions-1.1\"><span class=\"toc-item-num\">1.1&nbsp;&nbsp;</span>Software and conventions</a></span></li></ul></li><li><span><a href=\"#Recap-of-lessons-1-and-2,-,-compiling-and-running-WRF-Hydro\" data-toc-modified-id=\"Recap-of-lessons-1-and-2,-,-compiling-and-running-WRF-Hydro-2\"><span class=\"toc-item-num\">2&nbsp;&nbsp;</span>Recap of lessons 1 and 2, , compiling and running WRF-Hydro</a></span><ul class=\"toc-item\"><li><span><a href=\"#Compiling-WRF-Hydro\" data-toc-modified-id=\"Compiling-WRF-Hydro-2.1\"><span class=\"toc-item-num\">2.1&nbsp;&nbsp;</span>Compiling WRF-Hydro</a></span></li><li><span><a href=\"#Creating-the-simulation-directory-and-running-a-baseline-WRF-Hydro-simulation\" data-toc-modified-id=\"Creating-the-simulation-directory-and-running-a-baseline-WRF-Hydro-simulation-2.2\"><span class=\"toc-item-num\">2.2&nbsp;&nbsp;</span>Creating the simulation directory and running a baseline WRF-Hydro simulation</a></span></li></ul></li><li><span><a href=\"#National-Water-Model-configuration-(NWM)\" data-toc-modified-id=\"National-Water-Model-configuration-(NWM)-3\"><span class=\"toc-item-num\">3&nbsp;&nbsp;</span>National Water Model configuration (NWM)</a></span><ul class=\"toc-item\"><li><span><a href=\"#Create-a-NWM-simulation-directory\" data-toc-modified-id=\"Create-a-NWM-simulation-directory-3.1\"><span class=\"toc-item-num\">3.1&nbsp;&nbsp;</span>Create a NWM simulation directory</a></span></li><li><span><a href=\"#Compare-the-contents-of-the-NWM-simulation-directory-to-the-Gridded-simulation-directory\" data-toc-modified-id=\"Compare-the-contents-of-the-NWM-simulation-directory-to-the-Gridded-simulation-directory-3.2\"><span class=\"toc-item-num\">3.2&nbsp;&nbsp;</span>Compare the contents of the NWM simulation directory to the Gridded simulation directory</a></span></li><li><span><a href=\"#Explore-the-namelist-differences-between-the-NWM-and-Gridded-configurations\" data-toc-modified-id=\"Explore-the-namelist-differences-between-the-NWM-and-Gridded-configurations-3.3\"><span class=\"toc-item-num\">3.3&nbsp;&nbsp;</span>Explore the namelist differences between the NWM and Gridded configurations</a></span></li><li><span><a href=\"#Run-the-default-Gridded-and-NWM-simulations\" data-toc-modified-id=\"Run-the-default-Gridded-and-NWM-simulations-3.4\"><span class=\"toc-item-num\">3.4&nbsp;&nbsp;</span>Run the default Gridded and NWM simulations</a></span></li><li><span><a href=\"#View-the-hydrographs\" data-toc-modified-id=\"View-the-hydrographs-3.5\"><span class=\"toc-item-num\">3.5&nbsp;&nbsp;</span>View the hydrographs</a></span></li></ul></li></ul></div>"
   ]
  },
  {
   "cell_type": "markdown",
   "metadata": {},
   "source": [
    "# Lesson 5 - Exploring other configurations\n",
    "## Overview\n",
    "In lesson 4 we covered editign namelist options to change WRF-Hydro run-time options. In this lesson, we will experiment with editing some parameter files and explore the *NWM* and *Reach* configuations. \n",
    "\n",
    "**NOTE: If you have not completed lessons 4, please stop and do so now.**\n",
    "\n",
    "### Software and conventions\n",
    "The easiest way to run these lessons is via the [wrfhydro/training](https://hub.docker.com/r/wrfhydro/training/) Docker container, which has all software dependencies and data pre-installed.\n",
    "\n",
    "For a complete description of the software environment used for this training please see [Getting started]().\n",
    "\n",
    "You may either execute commands by running each cell of this notebook. Alternatively, you may open a terminal in Jupyter Lab by selecting `New -> Terminal` in your `Home` tab of Jupyter Lab and input the commands manually if you prefer. \n",
    "\n",
    "All paths used in this lesson assume that the lesson materials are located under your home directory in a folder named `wrf-hydro-training`. If your materials are located in another directory, you will not be able to run the commands in this notebook inside Jupyter and will need to type them manually in your terminal session. "
   ]
  },
  {
   "cell_type": "markdown",
   "metadata": {},
   "source": [
    "## Recap of lessons 1 and 2, , compiling and running WRF-Hydro\n",
    "In this section, we will quickly recap the commands issued in Lessons 1 and 2 to compile WRF-Hydro and create our simulation directory. We will use the prepared domain for the remaining lessons, but feel free to replace the prepared domain with the domain you created in the geospatial hands-on training session. **NOTE: Your domain directory structure and filenames must match the prepared domain EXACTLY**\n",
    "\n",
    "### Compiling WRF-Hydro\n",
    "Below are the commands to compile WRF-Hydro for the Gridded configuration."
   ]
  },
  {
   "cell_type": "code",
   "execution_count": null,
   "metadata": {},
   "outputs": [],
   "source": [
    "%%bash\n",
    "# Change to the trunk/NDHMS directory and configure for gfort\n",
    "cd ~/wrf-hydro-training/wrf_hydro_nwm_public/trunk/NDHMS/; ./configure 2\n",
    "\n",
    "# Make a copy of the template environment variable file, setEnvars.sh\n",
    "cp ~/wrf-hydro-training/wrf_hydro_nwm_public/trunk/NDHMS/template/setEnvar.sh \\\n",
    "~/wrf-hydro-training/wrf_hydro_nwm_public/trunk/NDHMS/configureEnvars.sh"
   ]
  },
  {
   "cell_type": "markdown",
   "metadata": {},
   "source": [
    "**Set compile-time options**\n",
    "\n",
    "Edit the `configureEnvars.sh` script to set environment variables required by the compile script. Your `configureEnvars.sh` should look like the bash script below when you are finished.  \n",
    "\n",
    "---\n",
    "\n",
    "```bash\n",
    "#!/bin/bash\n",
    "# WRF-Hydro compile time options\n",
    "\n",
    "# This is a WRF environment variable. Always set to 1=On for compiling WRF-Hydro.\n",
    "export WRF_HYDRO=1\n",
    "\n",
    "# Enhanced diagnostic output for debugging: 0=Off, 1=On.\n",
    "export HYDRO_D=1\n",
    "\n",
    "# Spatially distributed parameters for NoahMP: 0=Off, 1=On.\n",
    "export SPATIAL_SOIL=1  \n",
    "\n",
    "# RAPID model: 0=Off, 1=On.\n",
    "export WRF_HYDRO_RAPID=0\n",
    "\n",
    "# Large netcdf file support: 0=Off, 1=On.\n",
    "export WRFIO_NCD_LARGE_FILE_SUPPORT=1\n",
    "\n",
    "# WCOSS file units: 0=Off, 1=On. \n",
    "export NCEP_WCOSS=0\n",
    "\n",
    "# Streamflow nudging: 0=Off, 1=On.\n",
    "export WRF_HYDRO_NUDGING=0\n",
    "```\n",
    "\n",
    "---"
   ]
  },
  {
   "cell_type": "markdown",
   "metadata": {},
   "source": [
    "**Compile WRF-Hydro in uncoupled mode**"
   ]
  },
  {
   "cell_type": "code",
   "execution_count": null,
   "metadata": {},
   "outputs": [],
   "source": [
    "%%bash\n",
    "cd ~/wrf-hydro-training/wrf_hydro_nwm_public/trunk/NDHMS/; \\\n",
    "./compile_offline_NoahMP.sh configureEnvars.sh >> compile.log 2>&1\n",
    "\n",
    "tail -13 ~/wrf-hydro-training/wrf_hydro_nwm_public/trunk/NDHMS/compile.log"
   ]
  },
  {
   "cell_type": "markdown",
   "metadata": {},
   "source": [
    "**We have successfully compiled WRF-Hydro and we will use this binary and *.TBL files for the remaining simulations in this lesson**"
   ]
  },
  {
   "cell_type": "markdown",
   "metadata": {},
   "source": [
    "### Creating the simulation directory and running a baseline WRF-Hydro simulation\n",
    "Below are the commands from lesson 2 to create the simulation direcory and run a WRF-Hydro simulation. This simulation will be run exactly as was done in Lesson 2 and will serve as our baseline simulation. We will modify run-time options in subsequent simulations in the lesson and compare the outputs."
   ]
  },
  {
   "cell_type": "code",
   "execution_count": 13,
   "metadata": {},
   "outputs": [],
   "source": [
    "%%bash\n",
    "# Make a new directory for our baseline simulation\n",
    "mkdir -p ~/wrf-hydro-training/output/lesson5/run_gridded_baseline\n",
    "\n",
    "# Copy our model files to the simulation directory\n",
    "cp ~/wrf-hydro-training/wrf_hydro_nwm_public/trunk/NDHMS/Run/*.TBL \\\n",
    "~/wrf-hydro-training/output/lesson5/run_gridded_baseline\n",
    "cp ~/wrf-hydro-training/wrf_hydro_nwm_public/trunk/NDHMS/Run/wrf_hydro.exe \\\n",
    "~/wrf-hydro-training/output/lesson5/run_gridded_baseline\n",
    "\n",
    "# Create symbolic links to large domain files\n",
    "cp -as $HOME/wrf-hydro-training/example_case/FORCING \\\n",
    "~/wrf-hydro-training/output/lesson5/run_gridded_baseline\n",
    "cp -as $HOME/wrf-hydro-training/example_case/Gridded/DOMAIN \\\n",
    "~/wrf-hydro-training/output/lesson5/run_gridded_baseline\n",
    "cp -as $HOME/wrf-hydro-training/example_case/Gridded/RESTART \\\n",
    "~/wrf-hydro-training/output/lesson5/run_gridded_baseline\n",
    "\n",
    "# Copy namelist files\n",
    "cp ~/wrf-hydro-training/example_case/Gridded/namelist.hrldas \\\n",
    "~/wrf-hydro-training/output/lesson5/run_gridded_baseline\n",
    "cp ~/wrf-hydro-training/example_case/Gridded/hydro.namelist \\\n",
    "~/wrf-hydro-training/output/lesson5/run_gridded_baseline"
   ]
  },
  {
   "cell_type": "markdown",
   "metadata": {},
   "source": [
    "## National Water Model configuration (NWM)\n",
    "In this section we will discuss the differences between the National Water Model (NWM) configuration and the baseline Gridded configuration. Afterwards, we will run a NWM simulation and visualize some of the differences. \n",
    "\n",
    "### Create a NWM simulation directory"
   ]
  },
  {
   "cell_type": "code",
   "execution_count": 14,
   "metadata": {},
   "outputs": [],
   "source": [
    "%%bash\n",
    "# Make a new directory for our baseline simulation\n",
    "mkdir -p ~/wrf-hydro-training/output/lesson5/run_nwm\n",
    "\n",
    "# Copy our model files to the simulation directory\n",
    "cp ~/wrf-hydro-training/wrf_hydro_nwm_public/trunk/NDHMS/Run/*.TBL \\\n",
    "~/wrf-hydro-training/output/lesson5/run_nwm\n",
    "cp ~/wrf-hydro-training/wrf_hydro_nwm_public/trunk/NDHMS/Run/wrf_hydro.exe \\\n",
    "~/wrf-hydro-training/output/lesson5/run_nwm\n",
    "\n",
    "# Create symbolic links to large domain files\n",
    "cp -as $HOME/wrf-hydro-training/example_case/FORCING \\\n",
    "~/wrf-hydro-training/output/lesson5/run_nwm\n",
    "cp -as $HOME/wrf-hydro-training/example_case/NWM/DOMAIN \\\n",
    "~/wrf-hydro-training/output/lesson5/run_nwm\n",
    "cp -as $HOME/wrf-hydro-training/example_case/NWM/RESTART \\\n",
    "~/wrf-hydro-training/output/lesson5/run_nwm\n",
    "\n",
    "# Copy namelist files\n",
    "cp ~/wrf-hydro-training/example_case/NWM/namelist.hrldas \\\n",
    "~/wrf-hydro-training/output/lesson5/run_nwm\n",
    "cp ~/wrf-hydro-training/example_case/NWM/hydro.namelist \\\n",
    "~/wrf-hydro-training/output/lesson5/run_nwm"
   ]
  },
  {
   "cell_type": "markdown",
   "metadata": {},
   "source": [
    "### Compare the contents of the NWM simulation directory to the Gridded simulation directory\n",
    "In this section we will compare the files in the NWM simulation directory to those in the Gridded simulation directory.\n",
    "\n",
    "**View the contents of the NWM simulation directory**"
   ]
  },
  {
   "cell_type": "code",
   "execution_count": 15,
   "metadata": {
    "scrolled": false
   },
   "outputs": [
    {
     "name": "stdout",
     "output_type": "stream",
     "text": [
      "CHANPARM.TBL  GENPARM.TBL  \u001b[0m\u001b[01;34mRESTART\u001b[0m/         \u001b[01;32mnamelist.hrldas\u001b[0m*\r\n",
      "\u001b[01;34mDOMAIN\u001b[0m/       HYDRO.TBL    SOILPARM.TBL     \u001b[01;32mwrf_hydro.exe\u001b[0m*\r\n",
      "\u001b[01;34mFORCING\u001b[0m/      MPTABLE.TBL  \u001b[01;32mhydro.namelist\u001b[0m*\r\n"
     ]
    }
   ],
   "source": [
    "ls ~/wrf-hydro-training/output/lesson5/run_nwm"
   ]
  },
  {
   "cell_type": "markdown",
   "metadata": {},
   "source": [
    "**View the contents of the Gridded simulation directory**"
   ]
  },
  {
   "cell_type": "code",
   "execution_count": 16,
   "metadata": {},
   "outputs": [
    {
     "name": "stdout",
     "output_type": "stream",
     "text": [
      "CHANPARM.TBL  GENPARM.TBL  \u001b[0m\u001b[01;34mRESTART\u001b[0m/         \u001b[01;32mnamelist.hrldas\u001b[0m*\r\n",
      "\u001b[01;34mDOMAIN\u001b[0m/       HYDRO.TBL    SOILPARM.TBL     \u001b[01;32mwrf_hydro.exe\u001b[0m*\r\n",
      "\u001b[01;34mFORCING\u001b[0m/      MPTABLE.TBL  \u001b[01;32mhydro.namelist\u001b[0m*\r\n"
     ]
    }
   ],
   "source": [
    "ls ~/wrf-hydro-training/output/lesson5/run_gridded_baseline"
   ]
  },
  {
   "cell_type": "markdown",
   "metadata": {},
   "source": [
    "Here we can see that at the top level the directories contents look the same. However, there are differences in the *DOMAIN* and *RESTART* directories."
   ]
  },
  {
   "cell_type": "markdown",
   "metadata": {},
   "source": [
    "**View the contents of the *NWM/DOMAIN* directory**"
   ]
  },
  {
   "cell_type": "code",
   "execution_count": 18,
   "metadata": {
    "scrolled": true
   },
   "outputs": [
    {
     "name": "stdout",
     "output_type": "stream",
     "text": [
      "\u001b[0m\u001b[01;36mFulldom_hires.nc\u001b[0m@                     \u001b[01;36mgeo_em.d01.nc\u001b[0m@\r\n",
      "\u001b[01;36mGEOGRID_LDASOUT_Spatial_Metadata.nc\u001b[0m@  \u001b[01;36mhydro2dtbl.nc\u001b[0m@\r\n",
      "\u001b[01;36mGWBUCKPARM.nc\u001b[0m@                        \u001b[01;36mnudgingParams.nc\u001b[0m@\r\n",
      "\u001b[01;36mLAKEPARM.nc\u001b[0m@                          \u001b[01;36msoil_properties.nc\u001b[0m@\r\n",
      "\u001b[01;36mRoute_Link.nc\u001b[0m@                        \u001b[01;36mspatialweights.nc\u001b[0m@\r\n",
      "\u001b[01;36mRoute_Link_nudgeEdit.nc\u001b[0m@              \u001b[01;36mwrfinput_d01.nc\u001b[0m@\r\n"
     ]
    }
   ],
   "source": [
    "ls ~/wrf-hydro-training/output/lesson5/run_nwm/DOMAIN"
   ]
  },
  {
   "cell_type": "markdown",
   "metadata": {},
   "source": [
    "**View the contents of the *Gridded/DOMAIN* directory**"
   ]
  },
  {
   "cell_type": "code",
   "execution_count": 19,
   "metadata": {},
   "outputs": [
    {
     "name": "stdout",
     "output_type": "stream",
     "text": [
      "\u001b[0m\u001b[01;36mFulldom_hires.nc\u001b[0m@                     \u001b[01;36mLAKEPARM.nc\u001b[0m@    \u001b[01;36msoil_properties.nc\u001b[0m@\r\n",
      "\u001b[01;36mGEOGRID_LDASOUT_Spatial_Metadata.nc\u001b[0m@  \u001b[01;36mgeo_em.d01.nc\u001b[0m@  \u001b[01;36mwrfinput_d01.nc\u001b[0m@\r\n",
      "\u001b[01;36mGWBASINS.nc\u001b[0m@                          \u001b[01;36mhydro2dtbl.nc\u001b[0m@\r\n",
      "\u001b[01;36mGWBUCKPARM.nc\u001b[0m@                        \u001b[01;34mlake_shapes\u001b[0m/\r\n"
     ]
    }
   ],
   "source": [
    "ls ~/wrf-hydro-training/output/lesson5/run_gridded_baseline/DOMAIN"
   ]
  },
  {
   "cell_type": "markdown",
   "metadata": {},
   "source": [
    "**Explore the differences**\n",
    "\n",
    "We can see that there are different files in the *NWM* directory compared to the *Gridded* directory. Below is a table of these files and a their description.\n",
    "\n",
    "| Filename | Description | Source | Required |\n",
    "| ------------- | ------------- | ------------- | ------------- |\n",
    "| GWBASINS.nc | 2D file defining the locations of groundwater basins | WRF-Hydro GIS pre-processing toolkit | When the baseflow bucket model is turned on and user defined mapping is off |\n",
    "|Route_Link.nc | Channel reach parameters (ComID,gage ID, bottom width, slope,roughness, order, etc.) | WRF-Hydro GIS pre-processing toolkit | When reach based routing is used (including user defined mapping) |\n",
    "|nudgingParams.nc| Parameters used for data assimilation streamflow nudging | User defined | No |\n",
    "| spatialweights.nc | Spatial weight file used to map fluxes to catchment objects | distributed with NWM domain files | When using user defined mapping |\n"
   ]
  },
  {
   "cell_type": "markdown",
   "metadata": {},
   "source": [
    "**NOTE: We can ignore the *Gridded/lake_shapes* directory, it simply contains geospatial data used for creating the domain**"
   ]
  },
  {
   "cell_type": "markdown",
   "metadata": {},
   "source": [
    "### Explore the namelist differences between the NWM and Gridded configurations\n",
    "In this section we will explore the namelists differences between the NWM and Gridded configurations"
   ]
  },
  {
   "cell_type": "markdown",
   "metadata": {},
   "source": [
    "**View the NWM namelist.hrldas**"
   ]
  },
  {
   "cell_type": "code",
   "execution_count": 22,
   "metadata": {
    "scrolled": true
   },
   "outputs": [
    {
     "name": "stdout",
     "output_type": "stream",
     "text": [
      "&NOAHLSM_OFFLINE\n",
      "\n",
      "HRLDAS_SETUP_FILE = \"./DOMAIN/wrfinput_d01.nc\"\n",
      "INDIR = \"./FORCING\"\n",
      "SPATIAL_FILENAME = \"./DOMAIN/soil_properties.nc\"\n",
      "OUTDIR = \"./\"\n",
      "\n",
      "START_YEAR  = 2011\n",
      "START_MONTH = 08\n",
      "START_DAY   = 26\n",
      "START_HOUR  = 00\n",
      "START_MIN   = 00\n",
      "\n",
      "RESTART_FILENAME_REQUESTED = \"RESTART/RESTART.2011082600_DOMAIN1\"\n",
      "\n",
      "KDAY = 7\n",
      "! KHOUR = 8\n",
      "\n",
      "DYNAMIC_VEG_OPTION                = 4\n",
      "CANOPY_STOMATAL_RESISTANCE_OPTION = 1\n",
      "BTR_OPTION                        = 1\n",
      "RUNOFF_OPTION                     = 3\n",
      "SURFACE_DRAG_OPTION               = 1\n",
      "FROZEN_SOIL_OPTION                = 1\n",
      "SUPERCOOLED_WATER_OPTION          = 1\n",
      "RADIATIVE_TRANSFER_OPTION         = 3\n",
      "SNOW_ALBEDO_OPTION                = 2\n",
      "PCP_PARTITION_OPTION              = 1\n",
      "TBOT_OPTION                       = 2\n",
      "TEMP_TIME_SCHEME_OPTION           = 3\n",
      "GLACIER_OPTION                    = 2\n",
      "SURFACE_RESISTANCE_OPTION         = 4\n",
      "\n",
      "FORCING_TIMESTEP = 3600\n",
      "NOAH_TIMESTEP    = 3600\n",
      "OUTPUT_TIMESTEP  = 3600\n",
      "\n",
      "RESTART_FREQUENCY_HOURS = 24\n",
      "\n",
      "! Split output after split_output_count output times.\n",
      "SPLIT_OUTPUT_COUNT = 1\n",
      "\n",
      "! XSTART = 1\n",
      "! XEND   = 1\n",
      "! YSTART = 1\n",
      "! YEND   = 1\n",
      "\n",
      "NSOIL=4\n",
      "soil_thick_input(1) = 0.10\n",
      "soil_thick_input(2) = 0.30\n",
      "soil_thick_input(3) = 0.60\n",
      "soil_thick_input(4) = 1.00\n",
      "\n",
      "ZLVL = 10.0\n",
      "\n",
      "rst_bi_in = 0      !0: use netcdf input restart file\n",
      "                   !1: use parallel io for reading multiple restart files (1 per core)\n",
      "rst_bi_out = 0     !0: use netcdf output restart file\n",
      "                   !1: use parallel io for outputting multiple restart files (1 per core)\n",
      "\n",
      "/\n",
      "\n",
      "&WRF_HYDRO_OFFLINE\n",
      "\n",
      "! Specification of forcing data:  1=HRLDAS-hr format, 2=HRLDAS-min format, 3=WRF, \n",
      "!    4=Idealized, 5=Ideal w/ Spec.Precip., 6=HRLDAS-hrl y fomat w/ Spec. Precip, \n",
      "!    9=Channel-only forcing, see hydro.namelist output_channelBucket_influxes\n",
      "!    10=Channel+Bucket only forcing, see hydro.namelist output_channelBucket_influxes\n",
      "FORC_TYP = 1\n",
      "\n",
      "/\n"
     ]
    }
   ],
   "source": [
    "%%bash\n",
    "cat ~/wrf-hydro-training/output/lesson5/run_nwm/namelist.hrldas"
   ]
  },
  {
   "cell_type": "markdown",
   "metadata": {},
   "source": [
    "**View the Gridded namelist.hrldas**"
   ]
  },
  {
   "cell_type": "code",
   "execution_count": 23,
   "metadata": {},
   "outputs": [
    {
     "name": "stdout",
     "output_type": "stream",
     "text": [
      "&NOAHLSM_OFFLINE\n",
      "\n",
      "HRLDAS_SETUP_FILE = \"./DOMAIN/wrfinput_d01.nc\"\n",
      "INDIR = \"./FORCING\"\n",
      "SPATIAL_FILENAME = \"./DOMAIN/soil_properties.nc\"\n",
      "OUTDIR = \"./\"\n",
      "\n",
      "START_YEAR  = 2011\n",
      "START_MONTH = 08\n",
      "START_DAY   = 26\n",
      "START_HOUR  = 00\n",
      "START_MIN   = 00\n",
      "\n",
      "RESTART_FILENAME_REQUESTED = \"RESTART/RESTART.2011082600_DOMAIN1\"\n",
      "\n",
      "KDAY = 7\n",
      "! KHOUR = 8\n",
      "\n",
      "DYNAMIC_VEG_OPTION                = 4\n",
      "CANOPY_STOMATAL_RESISTANCE_OPTION = 1\n",
      "BTR_OPTION                        = 1\n",
      "RUNOFF_OPTION                     = 3\n",
      "SURFACE_DRAG_OPTION               = 1\n",
      "FROZEN_SOIL_OPTION                = 1\n",
      "SUPERCOOLED_WATER_OPTION          = 1\n",
      "RADIATIVE_TRANSFER_OPTION         = 3\n",
      "SNOW_ALBEDO_OPTION                = 2\n",
      "PCP_PARTITION_OPTION              = 1\n",
      "TBOT_OPTION                       = 2\n",
      "TEMP_TIME_SCHEME_OPTION           = 3\n",
      "GLACIER_OPTION                    = 2\n",
      "SURFACE_RESISTANCE_OPTION         = 4\n",
      "\n",
      "FORCING_TIMESTEP = 3600\n",
      "NOAH_TIMESTEP    = 3600\n",
      "OUTPUT_TIMESTEP  = 3600\n",
      "\n",
      "RESTART_FREQUENCY_HOURS = 24 \n",
      "\n",
      "! Split output after split_output_count output times.\n",
      "SPLIT_OUTPUT_COUNT = 1\n",
      "\n",
      "! XSTART = 1\n",
      "! XEND   = 1\n",
      "! YSTART = 1\n",
      "! YEND   = 1\n",
      "\n",
      "NSOIL=4\n",
      "soil_thick_input(1) = 0.10\n",
      "soil_thick_input(2) = 0.30\n",
      "soil_thick_input(3) = 0.60\n",
      "soil_thick_input(4) = 1.00\n",
      "\n",
      "ZLVL = 10.0\n",
      "\n",
      "rst_bi_in = 0      !0: use netcdf input restart file\n",
      "                   !1: use parallel io for reading multiple restart files (1 per core)\n",
      "rst_bi_out = 0     !0: use netcdf output restart file\n",
      "                   !1: use parallel io for outputting multiple restart files (1 per core)\n",
      "\n",
      "/\n",
      "\n",
      "&WRF_HYDRO_OFFLINE\n",
      "\n",
      "! Specification of forcing data:  1=HRLDAS-hr format, 2=HRLDAS-min format, 3=WRF, \n",
      "!    4=Idealized, 5=Ideal w/ Spec.Precip., 6=HRLDAS-hrl y fomat w/ Spec. Precip, \n",
      "FORC_TYP = 1\n",
      "\n",
      "/\n"
     ]
    }
   ],
   "source": [
    "%%bash\n",
    "cat ~/wrf-hydro-training/output/lesson5/run_gridded_baseline/namelist.hrldas"
   ]
  },
  {
   "cell_type": "markdown",
   "metadata": {},
   "source": [
    "**View the *NWM* hydro.namelist**"
   ]
  },
  {
   "cell_type": "code",
   "execution_count": 26,
   "metadata": {},
   "outputs": [
    {
     "name": "stdout",
     "output_type": "stream",
     "text": [
      "&HYDRO_nlist\n",
      "!!!! ---------------------- SYSTEM COUPLING ----------------------- !!!!\n",
      "\n",
      "! Specify what is being coupled:  1=HRLDAS (offline Noah-LSM), 2=WRF, 3=NASA/LIS, 4=CLM\n",
      "sys_cpl = 1\n",
      "\n",
      "!!!! ------------------- MODEL INPUT DATA FILES ------------------- !!!!\n",
      "\n",
      "! Specify land surface model gridded input data file (e.g.: \"geo_em.d03.nc\")\n",
      "GEO_STATIC_FLNM = \"./DOMAIN/geo_em.d01.nc\"\n",
      "\n",
      "! Specify the high-resolution routing terrain input data file (e.g.: \"Fulldom_hires.nc\")\n",
      "GEO_FINEGRID_FLNM = \"./DOMAIN/Fulldom_hires.nc\"\n",
      "\n",
      "! Specify the spatial hydro parameters file (e.g.: \"hydro2dtbl.nc\")\n",
      "! If you specify a filename and the file does not exist, it will be created for you.\n",
      "HYDROTBL_F = \"./DOMAIN/hydro2dtbl.nc\"\n",
      "\n",
      "! Specify spatial metadata file for land surface grid. (e.g.: \"GEOGRID_LDASOUT_Spatial_Metadata.nc\")\n",
      "LAND_SPATIAL_META_FLNM = \"./DOMAIN/GEOGRID_LDASOUT_Spatial_Metadata.nc\"\n",
      "\n",
      "! Specify the name of the restart file if starting from restart...comment out with '!' if not...\n",
      "RESTART_FILE  = 'RESTART/HYDRO_RST.2011-08-26_00_00_DOMAIN1'\n",
      "\n",
      "!!!! --------------------- MODEL SETUP OPTIONS -------------------- !!!!\n",
      "\n",
      "! Specify the domain or nest number identifier...(integer)\n",
      "IGRID = 1\n",
      "\n",
      "! Specify the restart file write frequency...(minutes)\n",
      "! A value of -99999 will output restarts on the first day of the month only.\n",
      "rst_dt =  1440\n",
      "\n",
      "! Reset the LSM soil states from the high-res routing restart file (1=overwrite, 0=no overwrite)\n",
      "! NOTE: Only turn this option on if overland or subsurface rotuing is active!\n",
      "rst_typ = 1\n",
      "\n",
      "! Restart file format control\n",
      "rst_bi_in = 0       !0: use netcdf input restart file (default)\n",
      "                    !1: use parallel io for reading multiple restart files, 1 per core\n",
      "rst_bi_out = 0      !0: use netcdf output restart file (default)\n",
      "                    !1: use parallel io for outputting multiple restart files, 1 per core\n",
      "\n",
      "! Restart switch to set restart accumulation variables to 0 (0=no reset, 1=yes reset to 0.0)\n",
      "RSTRT_SWC = 0\n",
      "\n",
      "! Specify baseflow/bucket model initialization...(0=cold start from table, 1=restart file)\n",
      "GW_RESTART = 1\n",
      "\n",
      "!!!! -------------------- MODEL OUTPUT CONTROL -------------------- !!!!\n",
      "\n",
      "! Specify the output file write frequency...(minutes)\n",
      "out_dt = 60\n",
      "\n",
      "! Specify the number of output times to be contained within each output history file...(integer)\n",
      "!   SET = 1 WHEN RUNNING CHANNEL ROUTING ONLY/CALIBRATION SIMS!!!\n",
      "!   SET = 1 WHEN RUNNING COUPLED TO WRF!!!\n",
      "SPLIT_OUTPUT_COUNT = 1\n",
      "\n",
      "! Specify the minimum stream order to output to netcdf point file...(integer)\n",
      "! Note: lower value of stream order produces more output.\n",
      "order_to_write = 1\n",
      "\n",
      "! Flag to turn on/off new I/O routines: 1 = with scale/offset/compression,\n",
      "! 2 = with scale/offset/NO compression, 3 = compression only, 4 = no scale/offset/compression (default)\n",
      "io_form_outputs = 4\n",
      "\n",
      "! Realtime run configuration option:\n",
      "! 0=all (default), 1=analysis, 2=short-range, 3=medium-range, 4=long-range, 5=retrospective,\n",
      "! 6=diagnostic (includes all of 1-4 outputs combined)\n",
      "io_config_outputs = 5\n",
      "\n",
      "! Option to write output files at time 0 (restart cold start time): 0=no, 1=yes (default)\n",
      "t0OutputFlag = 0\n",
      "\n",
      "! Options to output channel & bucket influxes to drive FORCE_TYPE 9.\n",
      "! Nonzero choice requires that out_dt above matches NOAH_TIMESTEP in namelist.hrldas.\n",
      "! 0=None (default), 1=channel influxes (qSfcLatRunoff, qBucket)\n",
      "! 2=channel+bucket fluxes    (qSfcLatRunoff, qBucket, qBtmVertRunoff_toBucket)\n",
      "! 3=channel accumulations    (accSfcLatRunoff, accBucket) *** NOT TESTED ***\n",
      "output_channelBucket_influx = 2\n",
      "\n",
      "! Output netcdf file control\n",
      "CHRTOUT_DOMAIN = 1           ! Netcdf point timeseries output at all channel points (1d)\n",
      "                             !      0 = no output, 1 = output\n",
      "CHANOBS_DOMAIN = 1           ! Netcdf point timeseries at forecast points or gage points (defined in Routelink)\n",
      "                             !      0 = no output, 1 = output at forecast points or gage points.\n",
      "CHRTOUT_GRID = 0             ! Netcdf grid of channel streamflow values (2d)\n",
      "                             !      0 = no output, 1 = output\n",
      "                             !      NOTE: Not available with reach-based routing\n",
      "LSMOUT_DOMAIN = 1            ! Netcdf grid of variables passed between LSM and routing components (2d)\n",
      "                             !      0 = no output, 1 = output\n",
      "                             !      NOTE: No scale_factor/add_offset available\n",
      "RTOUT_DOMAIN = 1             ! Netcdf grid of terrain routing variables on routing grid (2d)\n",
      "                             !      0 = no output, 1 = output\n",
      "output_gw = 1                ! Netcdf GW output\n",
      "                             !      0 = no output, 1 = output\n",
      "outlake  = 1                 ! Netcdf grid of lake values (1d)\n",
      "                             !      0 = no output, 1 = output\n",
      "frxst_pts_out = 0            ! ASCII text file of forecast points or gage points (defined in Routelink)\n",
      "                             !      0 = no output, 1 = output\n",
      "\n",
      "!!!! ------------ PHYSICS OPTIONS AND RELATED SETTINGS ------------ !!!!\n",
      "\n",
      "! Switch for terrain adjustment of incoming solar radiation: 0=no, 1=yes\n",
      "! Note: This option is not yet active in Verion 1.0...\n",
      "!      WRF has this capability so be careful not to double apply the correction!!!\n",
      "TERADJ_SOLAR = 0\n",
      "\n",
      "! Specify the number of soil layers (integer) and the depth of the bottom of each layer... (meters)\n",
      "! Notes: In Version 1 of WRF-Hydro these must be the same as in the namelist.input file.\n",
      "!      Future versions will permit this to be different.\n",
      "NSOIL=4\n",
      "ZSOIL8(1) = -0.10\n",
      "ZSOIL8(2) = -0.40\n",
      "ZSOIL8(3) = -1.00\n",
      "ZSOIL8(4) = -2.00\n",
      "\n",
      "! Specify the grid spacing of the terrain routing grid...(meters)\n",
      "DXRT = 250.0\n",
      "\n",
      "! Specify the integer multiple between the land model grid and the terrain routing grid...(integer)\n",
      "AGGFACTRT = 4\n",
      "\n",
      "! Specify the channel routing model timestep...(seconds)\n",
      "DTRT_CH = 300\n",
      "! Specify the terrain routing model timestep...(seconds)\n",
      "DTRT_TER = 10\n",
      "\n",
      "! Switch to activate subsurface routing...(0=no, 1=yes)\n",
      "SUBRTSWCRT = 1\n",
      "\n",
      "! Switch to activate surface overland flow routing...(0=no, 1=yes)\n",
      "OVRTSWCRT = 1\n",
      "\n",
      "! Specify overland & subsurface flow routing option: 1=Seepest Descent(D8) 2=CASC2D\n",
      "rt_option = 1\n",
      "\n",
      "! Switch to activate channel routing...(0=no, 1=yes)\n",
      "CHANRTSWCRT = 1\n",
      "! Specify channel routing option: 1=Muskingam-reach, 2=Musk.-Cunge-reach, 3=Diff.Wave-gridded\n",
      "channel_option = 2\n",
      "\n",
      "! Specify the reach file for reach-based routing options (e.g.: \"Route_Link.nc\")\n",
      "route_link_f = \"./DOMAIN/Route_Link.nc\"\n",
      "\n",
      "! Specify the lake parameter file (e.g.: \"LAKEPARM_comm_v5.nc\")\n",
      "! Note: If this line is commented out, the code will use LAKEPARM.TBL.\n",
      "route_lake_f = \"./DOMAIN/LAKEPARM.nc\"\n",
      "\n",
      "! Switch to activate baseflow bucket model...(0=none, 1=exp. bucket, 2=pass-through)\n",
      "GWBASESWCRT = 1\n",
      "\n",
      "! Groundwater/baseflow mask specified on land surface model grid (e.g.: \"gw_basns.txt\")\n",
      "! Note: Only required if baseflow bucket model is active. Currently ascii grid format\n",
      "! or netcdf for user-defined mapping option only.\n",
      "!gwbasmskfil = \"./DOMAIN/gw_basns.txt\"\n",
      "GWBUCKPARM_file = \"./DOMAIN/GWBUCKPARM.nc\"\n",
      "\n",
      "! User defined mapping, such NHDPlus: 0=no (default), 1=yes\n",
      "UDMP_OPT = 1\n",
      "! If on, specify the user-defined mapping file (e.g.: \"spatialweights.nc\")\n",
      "udmap_file = \"./DOMAIN/spatialweights.nc\"\n",
      "\n",
      "/\n",
      "\n",
      "&NUDGING_nlist\n",
      "\n",
      "! Path to the \"timeslice\" observation files.\n",
      "timeSlicePath = \"./nudgingTimeSliceObs/\"\n",
      "\n",
      "nudgingParamFile = \"./DOMAIN/nudgingParams.nc\"\n",
      "\n",
      "! nudgingLastObsFile defaults to '', which will look for nudgingLastObs.YYYY-mm-dd_HH:MM:SS.nc\n",
      "!   **AT THE INITALIZATION TIME OF THE RUN**. Set to a missing file to use no restart.\n",
      "nudgingLastObsFile   = './RESTART/nudgingLastObs.2011-08-26_00_00_00.nc'\n",
      "\n",
      "!! Parallel input of nudging timeslice observation files?\n",
      "readTimesliceParallel = .TRUE.\n",
      "\n",
      "! temporalPersistence defaults to true, only runs if necessary params present.\n",
      "temporalPersistence   = .TRUE.\n",
      "\n",
      "! The total number of last (obs, modeled) pairs to save in nudgingLastObs for \n",
      "! removal of bias. This is the maximum array length. (This option is active when persistBias=FALSE)\n",
      "! (Default=960=10days @15min obs resolution, if all the obs are present and longer if not.)\n",
      "nLastObs = 480\n",
      "\n",
      "! If using temporalPersistence the last observation persists by default. \n",
      "! This option instead persists the bias in some period before the last observation. \n",
      "persistBias = .TRUE.\n",
      "\n",
      "! If persistBias: Does the window for calculating the bias end at model init time (=t0)?\n",
      "! FALSE = window ends at model time (moving), TRUE = window ends at init=t0(fcst) time. \n",
      "! Note well: this option==TRUE can make it impossible to get perfect restarts in certain situations. \n",
      "! (If commented out, Default=FALSE)\n",
      "biasWindowBeforeT0 = .FALSE.\n",
      "\n",
      "! If persistBias: Only use this many last (obs, modeled) pairs. (If Commented out, Default=-1*nLastObs)\n",
      "! > 0: apply an age-based filter, units=hours.\n",
      "! = 0: apply no additional filter, use all available/usable obs.\n",
      "! < 0: apply an count-based filter, units=count\n",
      "maxAgePairsBiasPersist = 24\n",
      "\n",
      "! If persistBias: The minimum number of last (obs, modeled) pairs, with age less than\n",
      "! maxAgePairsBiasPersist, required to apply a bias correction. (Default=8)\n",
      "minNumPairsBiasPersist = 8\n",
      "\n",
      "! If persistBias: give more weight to observations closer in time? (default=FALSE)\n",
      "invDistTimeWeightBias = .TRUE.\n",
      "\n",
      "! If persistBias: \"No constructive interference in bias correction?\", Reduce the bias adjustment\n",
      "! when the model and the bias adjustment have the same sign relative to the modeled flow at t0?\n",
      "! (default=FALSE)\n",
      "noConstInterfBias = .FALSE.\n",
      "\n",
      "/\n"
     ]
    }
   ],
   "source": [
    "%%bash\n",
    "cat ~/wrf-hydro-training/output/lesson5/run_nwm/hydro.namelist"
   ]
  },
  {
   "cell_type": "markdown",
   "metadata": {},
   "source": [
    "**View the *Gridded* hydro.namelist**"
   ]
  },
  {
   "cell_type": "code",
   "execution_count": 27,
   "metadata": {
    "scrolled": true
   },
   "outputs": [
    {
     "name": "stdout",
     "output_type": "stream",
     "text": [
      "&HYDRO_nlist\n",
      "!!!! ---------------------- SYSTEM COUPLING ----------------------- !!!!\n",
      "\n",
      "! Specify what is being coupled:  1=HRLDAS (offline Noah-LSM), 2=WRF, 3=NASA/LIS, 4=CLM\n",
      "sys_cpl = 1\n",
      "\n",
      "!!!! ------------------- MODEL INPUT DATA FILES ------------------- !!!!\n",
      "\n",
      "! Specify land surface model gridded input data file (e.g.: \"geo_em.d03.nc\")\n",
      "GEO_STATIC_FLNM = \"./DOMAIN/geo_em.d01.nc\"\n",
      "\n",
      "! Specify the high-resolution routing terrain input data file (e.g.: \"Fulldom_hires.nc\")\n",
      "GEO_FINEGRID_FLNM = \"./DOMAIN/Fulldom_hires.nc\"\n",
      "\n",
      "! Specify the spatial hydro parameters file (e.g.: \"hydro2dtbl.nc\")\n",
      "! If you specify a filename and the file does not exist, it will be created for you.\n",
      "HYDROTBL_F = \"./DOMAIN/hydro2dtbl.nc\"\n",
      "\n",
      "! Specify spatial metadata file for land surface grid. (e.g.: \"GEOGRID_LDASOUT_Spatial_Metadata.nc\")\n",
      "LAND_SPATIAL_META_FLNM = \"./DOMAIN/GEOGRID_LDASOUT_Spatial_Metadata.nc\"\n",
      "\n",
      "! Specify the name of the restart file if starting from restart...comment out with '!' if not...\n",
      "RESTART_FILE  = 'RESTART/HYDRO_RST.2011-08-26_00_00_DOMAIN1'\n",
      "\n",
      "!!!! --------------------- MODEL SETUP OPTIONS -------------------- !!!!\n",
      "\n",
      "! Specify the domain or nest number identifier...(integer)\n",
      "IGRID = 1\n",
      "\n",
      "! Specify the restart file write frequency...(minutes)\n",
      "! A value of -99999 will output restarts on the first day of the month only.\n",
      "rst_dt = 1440\n",
      "\n",
      "! Reset the LSM soil states from the high-res routing restart file (1=overwrite, 0=no overwrite)\n",
      "! NOTE: Only turn this option on if overland or subsurface rotuing is active!\n",
      "rst_typ = 1\n",
      "\n",
      "! Restart file format control\n",
      "rst_bi_in = 0       !0: use netcdf input restart file (default)\n",
      "                    !1: use parallel io for reading multiple restart files, 1 per core\n",
      "rst_bi_out = 0      !0: use netcdf output restart file (default)\n",
      "                    !1: use parallel io for outputting multiple restart files, 1 per core\n",
      "\n",
      "! Restart switch to set restart accumulation variables to 0 (0=no reset, 1=yes reset to 0.0)\n",
      "RSTRT_SWC = 0\n",
      "\n",
      "! Specify baseflow/bucket model initialization...(0=cold start from table, 1=restart file)\n",
      "GW_RESTART = 1\n",
      "\n",
      "!!!! -------------------- MODEL OUTPUT CONTROL -------------------- !!!!\n",
      "\n",
      "! Specify the output file write frequency...(minutes)\n",
      "out_dt = 60\n",
      "\n",
      "! Specify the number of output times to be contained within each output history file...(integer)\n",
      "!   SET = 1 WHEN RUNNING CHANNEL ROUTING ONLY/CALIBRATION SIMS!!!\n",
      "!   SET = 1 WHEN RUNNING COUPLED TO WRF!!!\n",
      "SPLIT_OUTPUT_COUNT = 1\n",
      "\n",
      "! Specify the minimum stream order to output to netcdf point file...(integer)\n",
      "! Note: lower value of stream order produces more output.\n",
      "order_to_write = 1\n",
      "\n",
      "! Flag to turn on/off new I/O routines: 1 = with scale/offset/compression,\n",
      "! 2 = with scale/offset/NO compression, 3 = compression only, 4 = no scale/offset/compression (default)\n",
      "io_form_outputs = 4\n",
      "\n",
      "! Realtime run configuration option:\n",
      "! 0=all (default), 1=analysis, 2=short-range, 3=medium-range, 4=long-range, 5=retrospective,\n",
      "! 6=diagnostic (includes all of 1-4 outputs combined)\n",
      "io_config_outputs = 5\n",
      "\n",
      "! Option to write output files at time 0 (restart cold start time): 0=no, 1=yes (default)\n",
      "t0OutputFlag = 1\n",
      "\n",
      "! Options to output channel & bucket influxes. Only active for UDMP_OPT=1.\n",
      "! Nonzero choice requires that out_dt above matches NOAH_TIMESTEP in namelist.hrldas.\n",
      "! 0=None (default), 1=channel influxes (qSfcLatRunoff, qBucket)\n",
      "! 2=channel+bucket fluxes    (qSfcLatRunoff, qBucket, qBtmVertRunoff_toBucket)\n",
      "! 3=channel accumulations    (accSfcLatRunoff, accBucket) *** NOT TESTED ***\n",
      "output_channelBucket_influx = 0\n",
      "\n",
      "! Output netcdf file control\n",
      "CHRTOUT_DOMAIN = 1           ! Netcdf point timeseries output at all channel points (1d)\n",
      "                             !      0 = no output, 1 = output\n",
      "CHANOBS_DOMAIN = 1           ! Netcdf point timeseries at forecast points or gage points (defined in Routelink)\n",
      "                             !      0 = no output, 1 = output at forecast points or gage points.\n",
      "CHRTOUT_GRID = 1             ! Netcdf grid of channel streamflow values (2d)\n",
      "                             !      0 = no output, 1 = output\n",
      "                             !      NOTE: Not available with reach-based routing\n",
      "LSMOUT_DOMAIN = 1            ! Netcdf grid of variables passed between LSM and routing components (2d)\n",
      "                             !      0 = no output, 1 = output\n",
      "                             !      NOTE: No scale_factor/add_offset available\n",
      "RTOUT_DOMAIN = 1             ! Netcdf grid of terrain routing variables on routing grid (2d)\n",
      "                             !      0 = no output, 1 = output\n",
      "output_gw = 1                ! Netcdf GW output\n",
      "                             !      0 = no output, 1 = output\n",
      "outlake  = 1                 ! Netcdf grid of lake values (1d)\n",
      "                             !      0 = no output, 1 = output\n",
      "frxst_pts_out = 0            ! ASCII text file of forecast points or gage points (defined in Routelink)\n",
      "                             !      0 = no output, 1 = output\n",
      "\n",
      "!!!! ------------ PHYSICS OPTIONS AND RELATED SETTINGS ------------ !!!!\n",
      "\n",
      "! Specify the number of soil layers (integer) and the depth of the bottom of each layer... (meters)\n",
      "! Notes: In Version 1 of WRF-Hydro these must be the same as in the namelist.input file.\n",
      "!      Future versions will permit this to be different.\n",
      "NSOIL=4\n",
      "ZSOIL8(1) = -0.10\n",
      "ZSOIL8(2) = -0.40\n",
      "ZSOIL8(3) = -1.00\n",
      "ZSOIL8(4) = -2.00\n",
      "\n",
      "! Specify the grid spacing of the terrain routing grid...(meters)\n",
      "DXRT = 250.0\n",
      "\n",
      "! Specify the integer multiple between the land model grid and the terrain routing grid...(integer)\n",
      "AGGFACTRT = 4\n",
      "\n",
      "! Specify the channel routing model timestep...(seconds)\n",
      "DTRT_CH = 10\n",
      "! Specify the terrain routing model timestep...(seconds)\n",
      "DTRT_TER = 10\n",
      "\n",
      "! Switch to activate subsurface routing...(0=no, 1=yes)\n",
      "SUBRTSWCRT = 1\n",
      "\n",
      "! Switch to activate surface overland flow routing...(0=no, 1=yes)\n",
      "OVRTSWCRT = 1\n",
      "\n",
      "! Specify overland flow routing option: 1=Steepest Descent (D8) 2=CASC2D (not active)\n",
      "! NOTE: Currently subsurface flow is only steepest descent\n",
      "rt_option = 1\n",
      "\n",
      "! Switch to activate channel routing...(0=no, 1=yes)\n",
      "CHANRTSWCRT = 1\n",
      "! Specify channel routing option: 1=Muskingam-reach, 2=Musk.-Cunge-reach, 3=Diff.Wave-gridded\n",
      "channel_option = 3\n",
      "\n",
      "! Specify the reach file for reach-based routing options (e.g.: \"Route_Link.nc\")\n",
      "route_link_f = \"\"\n",
      "\n",
      "! Specify the lake parameter file (e.g.: \"LAKEPARM.nc\" for netcdf or \"LAKEPARM.TBL\" for text).\n",
      "! Note REQUIRED if lakes are on.\n",
      "route_lake_f = \"./DOMAIN/LAKEPARM.nc\"\n",
      "\n",
      "! Switch to activate baseflow bucket model...(0=none, 1=exp. bucket, 2=pass-through)\n",
      "GWBASESWCRT = 1\n",
      "\n",
      "! Groundwater/baseflow 2d mask specified on land surface model grid (e.g.: \"GWBASINS.nc\" for netcdf\n",
      "! or \"gw_basns.txt\" for ascii). Note: Only required if baseflow  model is active (1 or 2) and UDMP_OPT=0.\n",
      "gwbasmskfil = \"./DOMAIN/GWBASINS.nc\"\n",
      "\n",
      "! Groundwater bucket parameter file (e.g.: \"GWBUCKPARM.nc\" for netcdf or \"GWBUCKPARM.TBL\" for text)\n",
      "GWBUCKPARM_file = \"./DOMAIN/GWBUCKPARM.nc\"\n",
      "\n",
      "! User defined mapping, such NHDPlus: 0=no (default), 1=yes\n",
      "UDMP_OPT = 0\n",
      "! If on, specify the user-defined mapping file (e.g.: \"spatialweights.nc\")\n",
      "udmap_file = \"\"\n",
      "\n",
      "/\n",
      "\n",
      "&NUDGING_nlist\n",
      "\n",
      "\n",
      "/\n"
     ]
    }
   ],
   "source": [
    "%%bash\n",
    "cat ~/wrf-hydro-training/output/lesson5/run_gridded_baseline/hydro.namelist"
   ]
  },
  {
   "cell_type": "markdown",
   "metadata": {},
   "source": [
    "### Run the default Gridded and NWM simulations\n",
    "In this section we will run default simulations for the NWM and Gridded configurations using our prepared simulation directories. "
   ]
  },
  {
   "cell_type": "markdown",
   "metadata": {},
   "source": [
    "**Step 1: Run the NWM simulation**"
   ]
  },
  {
   "cell_type": "code",
   "execution_count": 29,
   "metadata": {},
   "outputs": [],
   "source": [
    "%%bash\n",
    "# Run the simulation\n",
    "cd ~/wrf-hydro-training/output/lesson5/run_nwm\n",
    "mpirun -np 4 ./wrf_hydro.exe >> run.log 2>&1"
   ]
  },
  {
   "cell_type": "code",
   "execution_count": 30,
   "metadata": {},
   "outputs": [
    {
     "name": "stdout",
     "output_type": "stream",
     "text": [
      " The model finished successfully.......\n"
     ]
    }
   ],
   "source": [
    "%%bash\n",
    "# Check that it finished successfully\n",
    "tail -1 ~/wrf-hydro-training/output/lesson5/run_nwm/diag_hydro.00000"
   ]
  },
  {
   "cell_type": "markdown",
   "metadata": {},
   "source": [
    "**Step 2: Run the gridded simulation**"
   ]
  },
  {
   "cell_type": "code",
   "execution_count": 31,
   "metadata": {},
   "outputs": [],
   "source": [
    "%%bash\n",
    "# Run the simulation\n",
    "cd ~/wrf-hydro-training/output/lesson5/run_gridded_baseline\n",
    "mpirun -np 4 ./wrf_hydro.exe >> run.log 2>&1"
   ]
  },
  {
   "cell_type": "code",
   "execution_count": 32,
   "metadata": {},
   "outputs": [
    {
     "name": "stdout",
     "output_type": "stream",
     "text": [
      " The model finished successfully.......\n"
     ]
    }
   ],
   "source": [
    "%%bash\n",
    "# Check that it finished successfully\n",
    "tail -1 ~/wrf-hydro-training/output/lesson5/run_gridded_baseline/diag_hydro.00000"
   ]
  },
  {
   "cell_type": "markdown",
   "metadata": {},
   "source": [
    "### View the hydrographs\n",
    "**Load the xarray python package**"
   ]
  },
  {
   "cell_type": "code",
   "execution_count": 34,
   "metadata": {},
   "outputs": [],
   "source": [
    "# Load the xarray package\n",
    "%matplotlib inline\n",
    "import xarray as xr\n",
    "import matplotlib.pyplot as plt\n",
    "import pandas as pd"
   ]
  },
  {
   "cell_type": "markdown",
   "metadata": {},
   "source": [
    "**Load the CHANOBS streamflow datasets**\n",
    "\n",
    "We are going to use the CHANOBS files because it will limit the number of grid cells to only those which we have specified have a gage."
   ]
  },
  {
   "cell_type": "code",
   "execution_count": 35,
   "metadata": {},
   "outputs": [],
   "source": [
    "chanobs_gridded = xr.open_mfdataset('/home/docker/wrf-hydro-training/output/lesson5/run_gridded_baseline/*CHANOBS*',\n",
    "                            concat_dim='time')\n",
    "chanobs_nwm = xr.open_mfdataset('/home/docker/wrf-hydro-training/output/lesson5/run_nwm/*CHANOBS*',\n",
    "                            concat_dim='time')\n",
    "obs = pd.read_csv('/home/docker/wrf-hydro-training/example_case/USGS_obs.csv',dtype=str)\n",
    "obs['dateTime'] = pd.to_datetime(obs['dateTime'])\n",
    "obs['streamflow_cms'] = pd.to_numeric(obs['streamflow_cms'])"
   ]
  },
  {
   "cell_type": "markdown",
   "metadata": {},
   "source": [
    "**Plot the hydrographs**"
   ]
  },
  {
   "cell_type": "code",
   "execution_count": 36,
   "metadata": {},
   "outputs": [
    {
     "data": {
      "image/png": "[encoded data removed]",
      "text/plain": [
       "<Figure size 864x432 with 1 Axes>"
      ]
     },
     "metadata": {},
     "output_type": "display_data"
    }
   ],
   "source": [
    "fig, axes = plt.subplots(ncols=1,figsize=(12, 6))\n",
    "plt.suptitle('Hydrographs for NWM and gridded configurations',fontsize=24)\n",
    "chanobs_gridded.sel(feature_id = 2).streamflow.plot(label='Gridded',\n",
    "                                                     color='black',\n",
    "                                                     linestyle='--')\n",
    "chanobs_nwm.sel(feature_id = 6227008).streamflow.plot(label='NWM',\n",
    "                                                        color='blue',\n",
    "                                                        linestyle='-')\n",
    "obs[obs['site_no'] == '01374581'].plot(x='dateTime',\n",
    "                                       y='streamflow_cms',\n",
    "                                       ax=axes,\n",
    "                                       label='Observed',\n",
    "                                       color='grey')\n",
    "plt.legend()\n",
    "plt.show()"
   ]
  },
  {
   "cell_type": "code",
   "execution_count": null,
   "metadata": {},
   "outputs": [],
   "source": []
  }
 ],
 "metadata": {
  "kernelspec": {
   "display_name": "Python 3",
   "language": "python",
   "name": "python3"
  },
  "language_info": {
   "codemirror_mode": {
    "name": "ipython",
    "version": 3
   },
   "file_extension": ".py",
   "mimetype": "text/x-python",
   "name": "python",
   "nbconvert_exporter": "python",
   "pygments_lexer": "ipython3",
   "version": "3.6.4"
  },
  "toc": {
   "base_numbering": 1,
   "nav_menu": {},
   "number_sections": true,
   "sideBar": true,
   "skip_h1_title": true,
   "title_cell": "Table of Contents",
   "title_sidebar": "Contents",
   "toc_cell": true,
   "toc_position": {
    "height": "calc(100% - 180px)",
    "left": "10px",
    "top": "150px",
    "width": "414px"
   },
   "toc_section_display": true,
   "toc_window_display": true
  }
 },
 "nbformat": 4,
 "nbformat_minor": 2
}

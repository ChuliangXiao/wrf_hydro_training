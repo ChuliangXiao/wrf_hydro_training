{
 "cells": [
  {
   "cell_type": "markdown",
   "metadata": {},
   "source": [
    "## Lesson S2 - WRF Preprocessing System (WPS)\n",
    "## Overview\n",
    "In this lesson, we will cover regridding NLDAS2 forcing data to a WRF-Hydro domain using the ESMF\n",
    "regridding functions within the NCAR Command Language (NCL).\n",
    "\n",
    "**NOTE: If you have not completed lesson S1 please stop and do so now**\n",
    "\n",
    "### Software and conventions\n",
    "The easiest way to run these lessons is via the [wrfhydro/training](https://hub.docker.com/r/wrfhydro/training/) Docker container, which has all software dependencies and data pre-installed.\n",
    "\n",
    "For a complete description of the software environment used for this training please see [Getting started]().\n",
    "\n",
    "You may either execute commands by running each cell of this notebook. Alternatively, you may open a terminal in Jupyter Lab by selecting `New -> Terminal` in your `Home` tab of Jupyter Lab and input the commands manually if you prefer. You can also use your own terminal by logging into the container with the command `docker exec -it wrf-hydro-training bash`\n",
    "\n",
    "All paths used in this lesson assume that the lesson materials are located under your home directory in a folder named `wrf-hydro-training`. If your materials are located in another directory, you will not be able to run the commands in this notebook inside Jupyter and will need to type them manually in your terminal session. \n",
    "\n",
    "## Required scripts and datasets\n",
    "\n",
    "### Regridding scripts\n",
    "Scripts and documentation to regrid NLDAS2 forcing data can be downloaded from the WRF-Hydro website at https://ral.ucar.edu/projects/wrf_hydro/regridding-scripts.\n",
    "\n",
    "### Data sources\n",
    "For this training, data has already been included for simulation time period. \n",
    "\n",
    "**NOTE: These data are for instructional purposes only and do not include forcing data used for model spinup**\n",
    "\n",
    "If you would like to acquire other data, NLDAS2 forcing data can be retrieved from the NASA data server at https://hydro1.gesdisc.eosdis.nasa.gov/data/NLDAS/NLDAS_FORA0125_H.002/. \n",
    "\n",
    "See the following site for information on how to access data:\n",
    "https://disc.gsfc.nasa.gov/data-access \n",
    "\n",
    "See the following instructions for how to download data files using wget:\n",
    "https://disc.gsfc.nasa.gov/information/howto?title=How%20to%20Download%20Data%20Files%20from%20HTTP%20Service%20with%20wget\n",
    "\n",
    "## Creating the directory structure\n",
    "The NCL regridding scripts require a **very** specific directory structure, which is outlined below:\n",
    "\n",
    "```\n",
    "|\n",
    "input_files\n",
    "    |_NLDAS_FORA0125_H.*.grb - All the NLDAS2 input forcing data\n",
    "|_NLDAS2WRFHydro_generate_weights.ncl - NCL script for generating weight file\n",
    "|_NLDAS2WRFHydro_regrid.ncl - NCL script for regridding\n",
    "```\n",
    "\n",
    "In this section, we will create this directory structure\n",
    "**Step 1: Extract the NLDAS2 forcing data provided with this tutorial**"
   ]
  },
  {
   "cell_type": "code",
   "execution_count": 61,
   "metadata": {},
   "outputs": [],
   "source": [
    "%%bash\n",
    "cd ~/wrf-hydro-training/regridding/data\n",
    "tar -xf ~/wrf-hydro-training/regridding/data/nldas_forcing.tar.gz"
   ]
  },
  {
   "cell_type": "markdown",
   "metadata": {},
   "source": [
    "**Step 2: Create an *input_files* directory to hold the forcing data and move the data to it.**"
   ]
  },
  {
   "cell_type": "code",
   "execution_count": 62,
   "metadata": {},
   "outputs": [],
   "source": [
    "%%bash\n",
    "mkdir -p mkdir ~/wrf-hydro-training/output/lessonS2/input_files\n",
    "mv ~/wrf-hydro-training/regridding/data/nldas_forcing/*.grb \\\n",
    "~/wrf-hydro-training/output/lessonS2/input_files"
   ]
  },
  {
   "cell_type": "markdown",
   "metadata": {},
   "source": [
    "**Step 3: View the contents of the input_files directory files**"
   ]
  },
  {
   "cell_type": "code",
   "execution_count": 63,
   "metadata": {
    "scrolled": true
   },
   "outputs": [
    {
     "name": "stdout",
     "output_type": "stream",
     "text": [
      "NLDAS_FORA0125_H.A20110826.0000.002.grb\n",
      "NLDAS_FORA0125_H.A20110826.0100.002.grb\n",
      "NLDAS_FORA0125_H.A20110826.0200.002.grb\n",
      "NLDAS_FORA0125_H.A20110826.0300.002.grb\n",
      "NLDAS_FORA0125_H.A20110826.0400.002.grb\n",
      "NLDAS_FORA0125_H.A20110826.0500.002.grb\n",
      "NLDAS_FORA0125_H.A20110826.0600.002.grb\n",
      "NLDAS_FORA0125_H.A20110826.0700.002.grb\n",
      "NLDAS_FORA0125_H.A20110826.0800.002.grb\n",
      "NLDAS_FORA0125_H.A20110826.0900.002.grb\n"
     ]
    }
   ],
   "source": [
    "%%bash\n",
    "ls ~/wrf-hydro-training/output/lessonS2/input_files | head -10"
   ]
  },
  {
   "cell_type": "markdown",
   "metadata": {},
   "source": [
    "**Step 4: View the contents of the input_files directory files**\n",
    "Bring in the ncl scripts"
   ]
  },
  {
   "cell_type": "code",
   "execution_count": 64,
   "metadata": {},
   "outputs": [],
   "source": [
    "%%bash\n",
    "cp ~/wrf-hydro-training/regridding/*.ncl \\\n",
    "~/wrf-hydro-training/output/lessonS2/"
   ]
  },
  {
   "cell_type": "markdown",
   "metadata": {},
   "source": [
    "**Step 5: Check that your directory structure is correct** "
   ]
  },
  {
   "cell_type": "code",
   "execution_count": 65,
   "metadata": {
    "scrolled": true
   },
   "outputs": [
    {
     "name": "stdout",
     "output_type": "stream",
     "text": [
      "NLDAS2WRFHydro_generate_weights.ncl\n",
      "NLDAS2WRFHydro_regrid.ncl\n",
      "input_files\n"
     ]
    }
   ],
   "source": [
    "%%bash\n",
    "ls ~/wrf-hydro-training/output/lessonS2/"
   ]
  },
  {
   "cell_type": "markdown",
   "metadata": {},
   "source": [
    "Our directory structure is established, now we can begin the regridding process."
   ]
  },
  {
   "cell_type": "markdown",
   "metadata": {},
   "source": [
    "## Creating the regridding weight file\n",
    "The weight files are netCDF files which specify interpolation weights between the source coordinate data grids and destination coordinate data grids. \n",
    "\n",
    "We will use the script *NLDAS2WRFHydro_generate_weights.ncl* to generate the weight file. This script takes a geogrid file and a single NLDAS2 forcing *.grb* file as inputs and returns a weight file."
   ]
  },
  {
   "cell_type": "markdown",
   "metadata": {},
   "source": [
    "**Step 1: Creating the regridding weight file**\n",
    "We will use the *NLDAS2WRFHydro_generate_weights.ncl* script to create the weight file\n",
    "\n",
    "Recall that we created a geogrid file in Lesson S1. We will use this geogrid file as input to the regridding script along with a single NLDAS2 forcing file. We will run the NCL scripts from our output directory because outputs are written to the current working directory"
   ]
  },
  {
   "cell_type": "code",
   "execution_count": 66,
   "metadata": {},
   "outputs": [
    {
     "name": "stdout",
     "output_type": "stream",
     "text": [
      " Copyright (C) 1995-2017 - All Rights Reserved\n",
      " University Corporation for Atmospheric Research\n",
      " NCAR Command Language Version 6.4.0\n",
      " The use of this software is governed by a License Agreement.\n",
      " See http://www.ncl.ucar.edu/ for more details.\n",
      "(0)\t=====> CPU Elapsed Time: rectilinear_to_SCRIP: 0.06 seconds <=====\n",
      "(0)\t=====> CPU Elapsed Time: curvilinear_to_SCRIP: 0.00999999 seconds <=====\n",
      "(0)\tESMF_regrid_gen_weights: number of processors used: 1\n",
      "(0)\t--------------------------------------------------\n",
      "(0)\tESMF_regrid_gen_weights: the following command is about to be executed on the system:\n",
      "(0)\t'ESMF_RegridWeightGen --ignore_degenerate  --source SCRIP_NLDAS_bilinear.nc --destination SCRIP_WRFHydro_bilinear.nc --weight ./NLDAS2WRFHydro_weight_bilinear.nc --method bilinear --dst_regional -i'\n",
      "(0)\t--------------------------------------------------\n",
      "(0)\tESMF_regrid_gen_weights: output from 'ESMF_RegridWeightGen':\n",
      "(0)\t      Starting weight generation with these inputs: \n",
      "(1)\t        Source File: SCRIP_NLDAS_bilinear.nc\n",
      "(2)\t        Destination File: SCRIP_WRFHydro_bilinear.nc\n",
      "(3)\t        Weight File: ./NLDAS2WRFHydro_weight_bilinear.nc\n",
      "(4)\t        Source File is in SCRIP format\n",
      "(5)\t        Source Grid is a global grid\n",
      "(6)\t        Source Grid is a logically rectangular grid\n",
      "(7)\t        Use the center coordinates of the source grid to do the regrid\n",
      "(8)\t        Destination File is in SCRIP format\n",
      "(9)\t        Destination Grid is a regional grid\n",
      "(10)\t        Destination Grid is a logically rectangular grid\n",
      "(11)\t        Use the center coordinates of the destination grid to do the regrid\n",
      "(12)\t        Regrid Method: bilinear\n",
      "(13)\t        Pole option: ALL\n",
      "(14)\t        Ignore unmapped destination points\n",
      "(15)\t        Ignore degenerate cells in the input grids\n",
      "(16)\t        Line Type: cartesian\n",
      "(17)\t        Norm Type: dstarea\n",
      "(18)\t        Extrap. Method: none\n",
      "(19)\t     \n",
      "(20)\t      Completed weight generation successfully.\n",
      "(21)\t     \n",
      "(0)\t--------------------------------------------------\n",
      "(0)\tESMF_regrid_gen_weights: 'ESMF_RegridWeightGen' was successful.\n",
      "(0)\t=====> CPU Elapsed Time: ESMF_regrid_gen_weights: 0 seconds <=====\n"
     ]
    },
    {
     "name": "stderr",
     "output_type": "stream",
     "text": [
      "ncl: /home/docker/miniconda3/bin/../lib/./libuuid.so.1: no version information available (required by /home/docker/miniconda3/bin/../lib/./libdapserver.so.7)\n"
     ]
    }
   ],
   "source": [
    "%%bash\n",
    "cd ~/wrf-hydro-training/output/lessonS2\n",
    "ncl 'interp_opt=\"bilinear\"' \\\n",
    "    'srcGridName=\"./input_files/NLDAS_FORA0125_H.A20110826.0000.002.grb\"' \\\n",
    "    'dstGridName=\"~/wrf-hydro-training/output/lessonS1/geo_em.d01.nc\"' \\\n",
    "    NLDAS2WRFHydro_generate_weights.ncl"
   ]
  },
  {
   "cell_type": "code",
   "execution_count": 67,
   "metadata": {},
   "outputs": [
    {
     "name": "stdout",
     "output_type": "stream",
     "text": [
      "NLDAS2WRFHydro_generate_weights.ncl\n",
      "NLDAS2WRFHydro_regrid.ncl\n",
      "NLDAS2WRFHydro_weight_bilinear.nc\n",
      "PET0.RegridWeightGen.Log\n",
      "SCRIP_NLDAS_bilinear.nc\n",
      "SCRIP_WRFHydro_bilinear.nc\n",
      "input_files\n"
     ]
    }
   ],
   "source": [
    "%%bash\n",
    "ls ~/wrf-hydro-training/output/lessonS2"
   ]
  },
  {
   "cell_type": "markdown",
   "metadata": {},
   "source": [
    "We have two new files: The *SCRIP_NLDAS_bilinear.nc* describes the NLDAS grids and the *SCRIP_WRFHydro_bilinear.nc* describes the WRF-Hydro grid from the geogrid file."
   ]
  },
  {
   "cell_type": "markdown",
   "metadata": {},
   "source": [
    "## Regridding the forcing data using the weight file\n",
    "In this section we will regrid all our forcing data using the weight file generated in the previous section. "
   ]
  },
  {
   "cell_type": "markdown",
   "metadata": {},
   "source": [
    "**Step 2: Run the *NLDAS2WRFHydro_regrid.ncl* regridding script**\n",
    "\n",
    "The *NLDAS2WRFHydro_regrid.ncl* script takes 2 arguments, the path to the geogrid file and the path to NLDAS2 forcing data. **NOTE: Wildcards can be used in the path to the forcing data to regrid multiple files.**"
   ]
  },
  {
   "cell_type": "code",
   "execution_count": 69,
   "metadata": {},
   "outputs": [],
   "source": [
    "%%bash\n",
    "cd ~/wrf-hydro-training/output/lessonS2\n",
    "ncl 'srcFileName=\"NLDAS_FORA0125_H.*.grb\"' \\\n",
    "'dstGridName=\"~/wrf-hydro-training/output/lessonS1/geo_em.d01.nc\"' \\\n",
    "NLDAS2WRFHydro_regrid.ncl &> regrid.log"
   ]
  },
  {
   "cell_type": "code",
   "execution_count": null,
   "metadata": {},
   "outputs": [],
   "source": []
  }
 ],
 "metadata": {
  "kernelspec": {
   "display_name": "Python 3",
   "language": "python",
   "name": "python3"
  },
  "language_info": {
   "codemirror_mode": {
    "name": "ipython",
    "version": 3
   },
   "file_extension": ".py",
   "mimetype": "text/x-python",
   "name": "python",
   "nbconvert_exporter": "python",
   "pygments_lexer": "ipython3",
   "version": "3.6.4"
  }
 },
 "nbformat": 4,
 "nbformat_minor": 2
}

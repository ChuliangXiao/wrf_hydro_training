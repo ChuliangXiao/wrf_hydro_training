{
 "cells": [
  {
   "cell_type": "markdown",
   "metadata": {
    "toc": true
   },
   "source": [
    "<h1>Table of Contents<span class=\"tocSkip\"></span></h1>\n",
    "<div class=\"toc\"><ul class=\"toc-item\"><li><span><a href=\"#Overview\" data-toc-modified-id=\"Overview-1\"><span class=\"toc-item-num\">1&nbsp;&nbsp;</span>Overview</a></span><ul class=\"toc-item\"><li><span><a href=\"#Software-and-conventions\" data-toc-modified-id=\"Software-and-conventions-1.1\"><span class=\"toc-item-num\">1.1&nbsp;&nbsp;</span>Software and conventions</a></span></li></ul></li><li><span><a href=\"#Orientation-to-the-WRF-Hydro-source-code-directory\" data-toc-modified-id=\"Orientation-to-the-WRF-Hydro-source-code-directory-2\"><span class=\"toc-item-num\">2&nbsp;&nbsp;</span>Orientation to the WRF-Hydro source code directory</a></span><ul class=\"toc-item\"><li><span><a href=\"#Where-to-download\" data-toc-modified-id=\"Where-to-download-2.1\"><span class=\"toc-item-num\">2.1&nbsp;&nbsp;</span>Where to download</a></span></li><li><span><a href=\"#Directory-structure\" data-toc-modified-id=\"Directory-structure-2.2\"><span class=\"toc-item-num\">2.2&nbsp;&nbsp;</span>Directory structure</a></span></li></ul></li><li><span><a href=\"#Compiling-WRF-Hydro\" data-toc-modified-id=\"Compiling-WRF-Hydro-3\"><span class=\"toc-item-num\">3&nbsp;&nbsp;</span>Compiling WRF-Hydro</a></span><ul class=\"toc-item\"><li><span><a href=\"#WRF-Hydro-compile-time-options\" data-toc-modified-id=\"WRF-Hydro-compile-time-options-3.1\"><span class=\"toc-item-num\">3.1&nbsp;&nbsp;</span>WRF-Hydro compile-time options</a></span></li><li><span><a href=\"#Compiling-WRF-Hydro-in-uncoupled-mode\" data-toc-modified-id=\"Compiling-WRF-Hydro-in-uncoupled-mode-3.2\"><span class=\"toc-item-num\">3.2&nbsp;&nbsp;</span>Compiling WRF-Hydro in uncoupled mode</a></span></li></ul></li><li><span><a href=\"#Exploring-compilation-artifacts\" data-toc-modified-id=\"Exploring-compilation-artifacts-4\"><span class=\"toc-item-num\">4&nbsp;&nbsp;</span>Exploring compilation artifacts</a></span></li></ul></div>"
   ]
  },
  {
   "cell_type": "markdown",
   "metadata": {},
   "source": [
    "# Lesson 1 - Source code overview and compilation\n",
    "## Overview\n",
    "In this lesson, we will cover the basic structure of the source code, discuss the various compile-time options, and compile the model for the *Gridded* configuration. For a detailed description of model configurations see the [Technical Description](https://ral.ucar.edu/projects/wrf_hydro/technical-description-user-guide).\n",
    "\n",
    "### Software and conventions\n",
    "The easiest way to run these lessons is via the [wrfhydro/training](https://hub.docker.com/r/wrfhydro/training/) Docker container, which has all software dependencies and data pre-installed.\n",
    "\n",
    "For a complete description of the software environment used for this training please see Lesson 0 - Getting started.\n",
    "\n",
    "You may either execute commands by running each cell of this notebook. Alternatively, you may open a terminal in Jupyter Lab by selecting `New -> Terminal` in your `Home` tab of Jupyter Lab and input the commands manually if you prefer. You can also use your own terminal by logging into the container with the command `docker exec -it wrf-hydro-training bash`\n",
    "\n",
    "All paths used in this lesson assume that the lesson materials are located under your home directory in a folder named *wrf-hydro-training*. If your materials are located in another directory, you will not be able to run the commands in this notebook inside Jupyter and will need to type them manually in your terminal session. \n",
    "\n",
    "## Orientation to the WRF-Hydro source code directory\n",
    "### Where to download\n",
    "Current, stable WRF-Hydro source code can be obtained from the WRF-Hydro website at https://ral.ucar.edu/projects/wrf_hydro/overview, and the bleeding-edge version can be obtained from our GitHub page at https://github.com/NCAR/wrf_hydro_nwm_public. \n",
    "\n",
    "### Directory structure\n",
    "The top-level directory structure of the code is described below as nested under *trunk/NDHMS*. The tables below provide brief descriptions of the file contents of each subdirectory.  \n",
    "\n",
    "**Table 1** Description of the file contents of each source code sub-directory.\n",
    "\n",
    "| File/directory name | Description |\n",
    "| ------------- |:-------------|\n",
    "| arc/ | Contains macro files, which specify the compile configurations, compiler options, links to netCDF libraries, etc |\n",
    "| CPL/Noah_cpl/ | Contains the WRF-Hydro coupling interface for coupling WRF-Hydro components with the standalone (offline) Noah land surface model data assimilation and forecasting system |\n",
    "| CPL/NoahMP_cpl/ | Contains the WRF-Hydro coupling interface for coupling WRF-Hydro components with the standalone (offline) Noah-MP land surface model data assimilation and forecasting system |\n",
    "| CPL/WRF_cpl/ | Contains the WRF-Hydro coupling interface for coupling WRF-Hydro components with the WRF system |\n",
    "| CPL/CLM_cpl/, CPL/LIS_cpl/, CPL/NUOPC_cpl/ | Work in progress for ongoing coupling work. Not actively supported. |\n",
    "| Data_Rec/ | Contains some data declaration modules |\n",
    "| deprecated/ | Contains files not currently used |\n",
    "| Doc/ | Pointer to location of full documentation (i.e. this document). |\n",
    "| HYDRO_drv/ | Contains the high-level WRF-Hydro component driver: module_HYDRO_drv.F |\n",
    "| Land_models/Noah/ | Contains the Noah land surface model driver for standalone or uncoupled applications |\n",
    "| Land_models/NoahMP/ | Contains the Noah-MP land surface model driver for standalone or uncoupled applications |\n",
    "| MPP/ | Contains MPI parallelization routines and functions |\n",
    "| nudging/ | Contains nudging data assimilation routines and functions |\n",
    "| Rapid_routing/ | Contains the files necessary for RAPID routing model coupling. Unsupported as version of RAPID is out of date. |\n",
    "| Routing/ | Contains modules and drivers related to specific routing processes in WRF-Hydro |\n",
    "| template/ | Contains example namelist files for Noah, Noah-MP and the WRF-Hydro modules (HYDRO).  Default and example parameter tables are also included for HYDRO. **Note:** Parameter tables for Noah and Noah-MP are stored within the Land_models directory. A sample bash script (setEnvar.sh) that could be passed to the compile script listing compile time options for WRF-Hydro is also located here. |\n",
    "| compile_offline_Noah.sh | Script for compiling WRF-Hydro standalone (offline) version with the Noah land surface model |\n",
    "| compile_offline_NoahMP.sh | Script for compiling WRF-Hydro standalone (offline) version with the Noah-MP land surface model |\n",
    "| configure | Script to configure the WRF-Hydro compilation |\n",
    "| Makefile | The top-level makefile for building and cleaning WRF-Hydro code |\n",
    "| README.build.txt | WRF-Hydro build instructions for the standalone model |\n",
    "| wrf_hydro_config | Configure script for coupled WRF-Hydro configuration |\n",
    "| \\*.json | JSON files used for testing\n",
    "\n",
    "See the [Technical Description](https://ral.ucar.edu/projects/wrf_hydro/technical-description-user-guide) for more detailed information on individual Fortran modules.  \n",
    "\n",
    "## Compiling WRF-Hydro\n",
    "### WRF-Hydro compile-time options\n",
    "Compile time options are choices about the model structure that are determined when the model is compiled. Below is a table describing the compile time options. \n",
    "\n",
    "| Variable | Options | Description |\n",
    "|-------------|-------------|:-------------|\n",
    "| WRF_HYDRO | 1=On | This is a WRF environment variable. Always set to 1 for compiling WRF-Hydro. |\n",
    "| HYDRO_D | 0=Off, 1=On | Enhanced diagnostic output for debugging |\n",
    "| SPATIAL_SOIL | 0=Off, 1=On | Spatially distributed parameters for NoahMP. This allows NoahMP to use spatially distributed parameters for the land surface model rather than parameter based upon soil class and land use category look up tables. See Section 5.3.1 of the [Technical Description](https://ral.ucar.edu/projects/wrf_hydro/technical-description-user-guide) |\n",
    "| WRF_HYDRO_RAPID | 0=Off, 1=On | Coupling with the RAPID routing model. This option is not currently supported.  |\n",
    "| WRFIO_NCD_LARGE_FILE_SUPPORT | 0=Off, 1=On | Large netcdf file support. Allow netCDF I/O of files larger than 2GB. |\n",
    "| NCEP_WCOSS | 0=Off, 1=On | WCOSS file units. Do not use unless working on the WCOSS machines. |\n",
    "| WRF_HYDRO_NUDGING | 0=Off, 1=On | Streamflow nudging. Enable the streamflow nudging routines for Muskingum-Cunge Routing. See Section 3.6.2. of the [Technical Description](https://ral.ucar.edu/projects/wrf_hydro/technical-description-user-guide) |\n",
    "\n",
    "### Compiling WRF-Hydro in uncoupled mode\n",
    "In this section we will compile the model in \"uncoupled mode\" using the NoahMP land-surface model. \n",
    "\n",
    "**NOTE:** These compile options may change depending on system configuration if you are running this lesson on your native system rather than in the *wrfhydro/training* Docker container. The WRF-Hydro source code currently supports compilation under the PGI Fortran compiler, the Intel *ifort* compiler and the public license GNU Fortran compiler *gfortran*. See the [How To Build & Run WRF-Hydro in Standalone Mode user guide ](https://ral.ucar.edu/projects/wrf_hydro/technical-description-user-guide) for information on system requirements.  \n",
    "\n",
    "**Step 1. List the contents of the *trunk/NDHMS* directory.**"
   ]
  },
  {
   "cell_type": "code",
   "execution_count": 1,
   "metadata": {},
   "outputs": [
    {
     "name": "stdout",
     "output_type": "stream",
     "text": [
      "\u001b[0m\u001b[01;34mCPL\u001b[0m/          README.build.txt            \u001b[01;32mconfigure\u001b[0m*\r\n",
      "\u001b[01;34mData_Rec\u001b[0m/     \u001b[01;34mRapid_routing\u001b[0m/              \u001b[01;34mdeprecated\u001b[0m/\r\n",
      "\u001b[01;34mDoc\u001b[0m/          \u001b[01;34mRouting\u001b[0m/                    hrldas_namelists.json\r\n",
      "\u001b[01;34mHYDRO_drv\u001b[0m/    \u001b[01;34marc\u001b[0m/                        hydro_namelists.json\r\n",
      "\u001b[01;34mLand_models\u001b[0m/  \u001b[01;32mcompile_offline_Noah.sh\u001b[0m*    \u001b[01;34mnudging\u001b[0m/\r\n",
      "\u001b[01;34mMPP\u001b[0m/          \u001b[01;32mcompile_offline_NoahMP.sh\u001b[0m*  \u001b[01;34mtemplate\u001b[0m/\r\n",
      "Makefile      compile_options.json        \u001b[01;32mwrf_hydro_config\u001b[0m*\r\n"
     ]
    }
   ],
   "source": [
    "ls ~/wrf-hydro-training/wrf_hydro_nwm_public/trunk/NDHMS"
   ]
  },
  {
   "cell_type": "markdown",
   "metadata": {},
   "source": [
    "**Step 2. Configure the compilation environment.**\n",
    "\n",
    "As noted in Table 1, the script *configure* is used to configure the compilation environment. Execute the *configure* script and you will be prompted with a choice of compiler. Because we are using the GNU Fortran compiler in our training environment, we will select `option 2` for \"gfortran\".\n",
    "\n",
    "**NOTE: If running this tutorial on your own system, select the appropriate compiler for your system.**"
   ]
  },
  {
   "cell_type": "code",
   "execution_count": 2,
   "metadata": {
    "scrolled": false
   },
   "outputs": [
    {
     "name": "stdout",
     "output_type": "stream",
     "text": [
      "Configured: gfort\n"
     ]
    }
   ],
   "source": [
    "%%bash\n",
    "cd ~/wrf-hydro-training/wrf_hydro_nwm_public/trunk/NDHMS/; ./configure 2"
   ]
  },
  {
   "cell_type": "markdown",
   "metadata": {},
   "source": [
    "**Step 3. Make a copy of the template environment variable file, *template/setEnvars.sh***\n",
    "\n",
    "As described in Table 1, the *template/setEnvars.sh* script can be used to specify compile-time options by setting environment variables. We will use this method of compilation for this lesson."
   ]
  },
  {
   "cell_type": "code",
   "execution_count": 3,
   "metadata": {},
   "outputs": [],
   "source": [
    "%%bash\n",
    "cp ~/wrf-hydro-training/wrf_hydro_nwm_public/trunk/NDHMS/template/setEnvar.sh \\\n",
    "~/wrf-hydro-training/wrf_hydro_nwm_public/trunk/NDHMS/configureEnvars.sh"
   ]
  },
  {
   "cell_type": "markdown",
   "metadata": {},
   "source": [
    "**Step 4. Set compile-time options**\n",
    "\n",
    "Edit the *trunk/NDHMS/configureEnvars.sh* script to set environment variables required by the compile script. Your *configureEnvars.sh* should look like the bash script below when you are finished.  \n",
    "\n",
    "---\n",
    "\n",
    "```bash\n",
    "#!/bin/bash\n",
    "# WRF-Hydro compile time options\n",
    "\n",
    "# This is a WRF environment variable. Always set to 1=On for compiling WRF-Hydro.\n",
    "export WRF_HYDRO=1\n",
    "\n",
    "# Enhanced diagnostic output for debugging: 0=Off, 1=On.\n",
    "export HYDRO_D=1\n",
    "\n",
    "# Spatially distributed parameters for NoahMP: 0=Off, 1=On.\n",
    "export SPATIAL_SOIL=1  \n",
    "\n",
    "# RAPID model: 0=Off, 1=On.\n",
    "export WRF_HYDRO_RAPID=0\n",
    "\n",
    "# Large netcdf file support: 0=Off, 1=On.\n",
    "export WRFIO_NCD_LARGE_FILE_SUPPORT=1\n",
    "\n",
    "# WCOSS file units: 0=Off, 1=On. \n",
    "export NCEP_WCOSS=0\n",
    "\n",
    "# Streamflow nudging: 0=Off, 1=On.\n",
    "export WRF_HYDRO_NUDGING=0\n",
    "```\n",
    "\n",
    "---\n"
   ]
  },
  {
   "cell_type": "markdown",
   "metadata": {},
   "source": [
    "**Step 5. Compile WRF-Hydro in uncoupled mode**\n",
    "\n",
    "We support compiling the uncoupled WRF-Hydro model with both the Noah or Noah-MP land surface models. Two helper scripts are supplied, *compile_offline_Noah.sh* and *compile_offline_NoahMP.sh*, to assist users with the compilation process. We will be compiling with the NoahMP land surface model for this lesson, and thus we will be using the *compile_offline_NoahMP.sh* script.\n",
    "\n",
    "The *compile_offline_Noah.sh* and *compile_offline_NoahMP.sh* execute a similar process during compilation, and this process is described in more detail in [How to Build & Run WRF-Hydro in Standalone Mode] (https://ral.ucar.edu/projects/wrf_hydro/technical-description-user-guide) and section 2.6 of the [Technical Description](https://ral.ucar.edu/projects/wrf_hydro/technical-description-user-guide). One action that these scripts perform is to source the *configureEnvars.sh* script to specify compile-time options by setting environment variables.\n",
    "\n",
    "We will now compile the model by executing the *compile_offline_Noah.sh* and supplying our *configureEnvars.sh* script as the first argument. Additionally, we will pipe the output form the compilation process to a log file because compilation can generate a lot of output."
   ]
  },
  {
   "cell_type": "code",
   "execution_count": 4,
   "metadata": {
    "scrolled": true
   },
   "outputs": [],
   "source": [
    "%%bash\n",
    "cd ~/wrf-hydro-training/wrf_hydro_nwm_public/trunk/NDHMS/; \\\n",
    "./compile_offline_NoahMP.sh configureEnvars.sh >> compile.log 2>&1"
   ]
  },
  {
   "cell_type": "markdown",
   "metadata": {},
   "source": [
    "**Step 6. Check the compile log to make sure that compilation completed successfully**\n",
    "\n",
    "The last few lines of your compile log should look like the following if compilation succeeded for this lesson."
   ]
  },
  {
   "cell_type": "code",
   "execution_count": 5,
   "metadata": {},
   "outputs": [
    {
     "name": "stdout",
     "output_type": "stream",
     "text": [
      "*****************************************************************\n",
      "Make was successful\n",
      "\n",
      "*****************************************************************\n",
      "The environment variables used in the compile:\n",
      "HYDRO_D=1\n",
      "NCEP_WCOSS=0\n",
      "NETCDF=/usr/local\n",
      "SPATIAL_SOIL=0\n",
      "WRFIO_NCD_LARGE_FILE_SUPPORT=1\n",
      "WRF_HYDRO=1\n",
      "WRF_HYDRO_NUDGING=0\n",
      "WRF_HYDRO_RAPID=0\n"
     ]
    }
   ],
   "source": [
    "%%bash\n",
    "tail -13 ~/wrf-hydro-training/wrf_hydro_nwm_public/trunk/NDHMS/compile.log"
   ]
  },
  {
   "cell_type": "markdown",
   "metadata": {},
   "source": [
    "## Exploring compilation artifacts\n",
    "After a successful compilation, there will be a new directory created called *Run* in the *trunk/NDHMS* directory. The *Run* directory contains the compiled binary *wrf_hydro.exe* as well as a number of template input files to assist users with parameterizing WRF-Hydro.\n",
    "\n",
    "**Check the contents of the Run directory**"
   ]
  },
  {
   "cell_type": "code",
   "execution_count": 6,
   "metadata": {
    "scrolled": true
   },
   "outputs": [
    {
     "name": "stdout",
     "output_type": "stream",
     "text": [
      "CHANPARM.TBL  MPTABLE.TBL     namelist.hrldas\r\n",
      "GENPARM.TBL   SOILPARM.TBL    \u001b[0m\u001b[01;36mwrf_hydro.exe\u001b[0m@\r\n",
      "HYDRO.TBL     hydro.namelist  \u001b[01;32mwrf_hydro_NoahMP.exe\u001b[0m*\r\n"
     ]
    }
   ],
   "source": [
    "ls ~/wrf-hydro-training/wrf_hydro_nwm_public/trunk/NDHMS/Run"
   ]
  },
  {
   "cell_type": "markdown",
   "metadata": {},
   "source": [
    "These files will be discussed in more detail in the next lesson, *Lesson 2: Running WRF-Hydro*.\n",
    "\n",
    "# Next up - Running WRF-Hydro\n",
    "This concludes Lesson 1. In the next lesson, we will explore the contents of the run directory, run a basic WRF-Hydro simulation using a prepared domain, and briefly discuss run-time options."
   ]
  }
 ],
 "metadata": {
  "kernelspec": {
   "display_name": "Python 3",
   "language": "python",
   "name": "python3"
  },
  "language_info": {
   "codemirror_mode": {
    "name": "ipython",
    "version": 3
   },
   "file_extension": ".py",
   "mimetype": "text/x-python",
   "name": "python",
   "nbconvert_exporter": "python",
   "pygments_lexer": "ipython3",
   "version": "3.6.4"
  },
  "toc": {
   "base_numbering": 1,
   "nav_menu": {},
   "number_sections": true,
   "sideBar": true,
   "skip_h1_title": true,
   "title_cell": "Table of Contents",
   "title_sidebar": "Contents",
   "toc_cell": true,
   "toc_position": {
    "height": "calc(100% - 180px)",
    "left": "10px",
    "top": "150px",
    "width": "464px"
   },
   "toc_section_display": true,
   "toc_window_display": true
  }
 },
 "nbformat": 4,
 "nbformat_minor": 2
}
